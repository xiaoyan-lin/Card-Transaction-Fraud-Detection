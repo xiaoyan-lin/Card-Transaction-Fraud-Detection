{
 "cells": [
  {
   "cell_type": "markdown",
   "metadata": {
    "nbpresent": {
     "id": "a7289771-729f-48bb-9be7-bd99538fb72a"
    }
   },
   "source": [
    "# Project 3 Fraud Detection Algorithm"
   ]
  },
  {
   "cell_type": "markdown",
   "metadata": {
    "nbpresent": {
     "id": "44d4eb36-ee0e-4070-b455-472afb0f3f4a"
    }
   },
   "source": [
    "## Load data and data split"
   ]
  },
  {
   "cell_type": "code",
   "execution_count": 66,
   "metadata": {
    "nbpresent": {
     "id": "3be92b91-7733-4e0b-b0e7-5f48915edeb6"
    },
    "scrolled": true
   },
   "outputs": [],
   "source": [
    "import numpy as np\n",
    "import pandas as pd\n",
    "import matplotlib.pyplot as plt\n",
    "from sklearn.model_selection import train_test_split\n",
    "import random\n",
    "\n",
    "data = pd.read_csv(\"0325_vars_final_zscale.csv\", index_col = 0)"
   ]
  },
  {
   "cell_type": "code",
   "execution_count": 67,
   "metadata": {
    "nbpresent": {
     "id": "affacd4e-c4f5-4205-8c3b-ddf001223236"
    }
   },
   "outputs": [
    {
     "data": {
      "text/html": [
       "<div>\n",
       "<style scoped>\n",
       "    .dataframe tbody tr th:only-of-type {\n",
       "        vertical-align: middle;\n",
       "    }\n",
       "\n",
       "    .dataframe tbody tr th {\n",
       "        vertical-align: top;\n",
       "    }\n",
       "\n",
       "    .dataframe thead th {\n",
       "        text-align: right;\n",
       "    }\n",
       "</style>\n",
       "<table border=\"1\" class=\"dataframe\">\n",
       "  <thead>\n",
       "    <tr style=\"text-align: right;\">\n",
       "      <th></th>\n",
       "      <th>Fraud</th>\n",
       "      <th>Actual/mean_Cardnum_30d</th>\n",
       "      <th>Actual/mean_Merchnum_14d</th>\n",
       "      <th>Actual/mean_Merchnum_30d</th>\n",
       "      <th>Actual/mean_Merchnum_7d</th>\n",
       "      <th>Actual/median_Merchnum_7d</th>\n",
       "      <th>Actual/sum_Cardnum_Merch zip_3d</th>\n",
       "      <th>Actual/sum_Cardnum_Merchnum_3d</th>\n",
       "      <th>Days_since_per_Cardnum</th>\n",
       "      <th>Days_since_per_Cardnum_Merch state</th>\n",
       "      <th>...</th>\n",
       "      <th>count_Cardnum_7d</th>\n",
       "      <th>count_Cardnum_Merch state_3d</th>\n",
       "      <th>count_Cardnum_Merch state_7d</th>\n",
       "      <th>count_Cardnum_Merch zip_3d</th>\n",
       "      <th>count_Cardnum_Merchnum_3d</th>\n",
       "      <th>count_Cardnum_Merchnum_7d</th>\n",
       "      <th>mean_Cardnum_1d</th>\n",
       "      <th>Actual/count_Cardnum_1d</th>\n",
       "      <th>Actual/count_Cardnum_30d</th>\n",
       "      <th>mean_Cardnum_30d</th>\n",
       "    </tr>\n",
       "    <tr>\n",
       "      <th>Recnum</th>\n",
       "      <th></th>\n",
       "      <th></th>\n",
       "      <th></th>\n",
       "      <th></th>\n",
       "      <th></th>\n",
       "      <th></th>\n",
       "      <th></th>\n",
       "      <th></th>\n",
       "      <th></th>\n",
       "      <th></th>\n",
       "      <th></th>\n",
       "      <th></th>\n",
       "      <th></th>\n",
       "      <th></th>\n",
       "      <th></th>\n",
       "      <th></th>\n",
       "      <th></th>\n",
       "      <th></th>\n",
       "      <th></th>\n",
       "      <th></th>\n",
       "      <th></th>\n",
       "    </tr>\n",
       "  </thead>\n",
       "  <tbody>\n",
       "    <tr>\n",
       "      <th>818</th>\n",
       "      <td>0</td>\n",
       "      <td>-0.003287</td>\n",
       "      <td>0.001750</td>\n",
       "      <td>0.001823</td>\n",
       "      <td>-0.000786</td>\n",
       "      <td>-0.031299</td>\n",
       "      <td>0.529859</td>\n",
       "      <td>0.505899</td>\n",
       "      <td>7.346025</td>\n",
       "      <td>2.184037</td>\n",
       "      <td>...</td>\n",
       "      <td>-0.368917</td>\n",
       "      <td>-0.227509</td>\n",
       "      <td>-0.212899</td>\n",
       "      <td>-0.207194</td>\n",
       "      <td>-0.204367</td>\n",
       "      <td>-0.185907</td>\n",
       "      <td>-0.474089</td>\n",
       "      <td>-0.414382</td>\n",
       "      <td>-0.077371</td>\n",
       "      <td>-0.721970</td>\n",
       "    </tr>\n",
       "    <tr>\n",
       "      <th>1403</th>\n",
       "      <td>0</td>\n",
       "      <td>0.915446</td>\n",
       "      <td>0.338513</td>\n",
       "      <td>0.263935</td>\n",
       "      <td>0.374613</td>\n",
       "      <td>-0.013802</td>\n",
       "      <td>0.529859</td>\n",
       "      <td>0.505899</td>\n",
       "      <td>-0.202011</td>\n",
       "      <td>2.184037</td>\n",
       "      <td>...</td>\n",
       "      <td>-0.178355</td>\n",
       "      <td>-0.227509</td>\n",
       "      <td>-0.212899</td>\n",
       "      <td>-0.207194</td>\n",
       "      <td>-0.204367</td>\n",
       "      <td>-0.185907</td>\n",
       "      <td>0.091413</td>\n",
       "      <td>0.229728</td>\n",
       "      <td>0.219330</td>\n",
       "      <td>-0.437000</td>\n",
       "    </tr>\n",
       "    <tr>\n",
       "      <th>1222</th>\n",
       "      <td>0</td>\n",
       "      <td>-0.081736</td>\n",
       "      <td>-0.232596</td>\n",
       "      <td>-0.180575</td>\n",
       "      <td>-0.262019</td>\n",
       "      <td>-0.031299</td>\n",
       "      <td>0.529859</td>\n",
       "      <td>0.505899</td>\n",
       "      <td>-0.202011</td>\n",
       "      <td>-0.573110</td>\n",
       "      <td>...</td>\n",
       "      <td>-0.305396</td>\n",
       "      <td>-0.107245</td>\n",
       "      <td>-0.148293</td>\n",
       "      <td>-0.207194</td>\n",
       "      <td>-0.204367</td>\n",
       "      <td>-0.185907</td>\n",
       "      <td>-0.421739</td>\n",
       "      <td>-0.354755</td>\n",
       "      <td>-0.101906</td>\n",
       "      <td>-0.617050</td>\n",
       "    </tr>\n",
       "    <tr>\n",
       "      <th>2169</th>\n",
       "      <td>0</td>\n",
       "      <td>-0.125585</td>\n",
       "      <td>-0.155362</td>\n",
       "      <td>-0.120462</td>\n",
       "      <td>-0.175923</td>\n",
       "      <td>-0.028772</td>\n",
       "      <td>0.529859</td>\n",
       "      <td>0.505899</td>\n",
       "      <td>-0.139801</td>\n",
       "      <td>2.184037</td>\n",
       "      <td>...</td>\n",
       "      <td>-0.178355</td>\n",
       "      <td>-0.227509</td>\n",
       "      <td>-0.212899</td>\n",
       "      <td>-0.207194</td>\n",
       "      <td>-0.204367</td>\n",
       "      <td>-0.185907</td>\n",
       "      <td>-0.292151</td>\n",
       "      <td>-0.404932</td>\n",
       "      <td>-0.173845</td>\n",
       "      <td>-0.539719</td>\n",
       "    </tr>\n",
       "    <tr>\n",
       "      <th>2090</th>\n",
       "      <td>0</td>\n",
       "      <td>-0.411285</td>\n",
       "      <td>-0.343948</td>\n",
       "      <td>-0.267243</td>\n",
       "      <td>-0.386146</td>\n",
       "      <td>-0.046741</td>\n",
       "      <td>0.529859</td>\n",
       "      <td>0.505899</td>\n",
       "      <td>-0.139801</td>\n",
       "      <td>2.184037</td>\n",
       "      <td>...</td>\n",
       "      <td>-0.305396</td>\n",
       "      <td>-0.227509</td>\n",
       "      <td>-0.212899</td>\n",
       "      <td>-0.207194</td>\n",
       "      <td>-0.204367</td>\n",
       "      <td>-0.185907</td>\n",
       "      <td>-0.507067</td>\n",
       "      <td>-0.451944</td>\n",
       "      <td>-0.241247</td>\n",
       "      <td>-0.674160</td>\n",
       "    </tr>\n",
       "  </tbody>\n",
       "</table>\n",
       "<p>5 rows × 21 columns</p>\n",
       "</div>"
      ],
      "text/plain": [
       "        Fraud  Actual/mean_Cardnum_30d  Actual/mean_Merchnum_14d  \\\n",
       "Recnum                                                             \n",
       "818         0                -0.003287                  0.001750   \n",
       "1403        0                 0.915446                  0.338513   \n",
       "1222        0                -0.081736                 -0.232596   \n",
       "2169        0                -0.125585                 -0.155362   \n",
       "2090        0                -0.411285                 -0.343948   \n",
       "\n",
       "        Actual/mean_Merchnum_30d  Actual/mean_Merchnum_7d  \\\n",
       "Recnum                                                      \n",
       "818                     0.001823                -0.000786   \n",
       "1403                    0.263935                 0.374613   \n",
       "1222                   -0.180575                -0.262019   \n",
       "2169                   -0.120462                -0.175923   \n",
       "2090                   -0.267243                -0.386146   \n",
       "\n",
       "        Actual/median_Merchnum_7d  Actual/sum_Cardnum_Merch zip_3d  \\\n",
       "Recnum                                                               \n",
       "818                     -0.031299                         0.529859   \n",
       "1403                    -0.013802                         0.529859   \n",
       "1222                    -0.031299                         0.529859   \n",
       "2169                    -0.028772                         0.529859   \n",
       "2090                    -0.046741                         0.529859   \n",
       "\n",
       "        Actual/sum_Cardnum_Merchnum_3d  Days_since_per_Cardnum  \\\n",
       "Recnum                                                           \n",
       "818                           0.505899                7.346025   \n",
       "1403                          0.505899               -0.202011   \n",
       "1222                          0.505899               -0.202011   \n",
       "2169                          0.505899               -0.139801   \n",
       "2090                          0.505899               -0.139801   \n",
       "\n",
       "        Days_since_per_Cardnum_Merch state        ...         \\\n",
       "Recnum                                            ...          \n",
       "818                               2.184037        ...          \n",
       "1403                              2.184037        ...          \n",
       "1222                             -0.573110        ...          \n",
       "2169                              2.184037        ...          \n",
       "2090                              2.184037        ...          \n",
       "\n",
       "        count_Cardnum_7d  count_Cardnum_Merch state_3d  \\\n",
       "Recnum                                                   \n",
       "818            -0.368917                     -0.227509   \n",
       "1403           -0.178355                     -0.227509   \n",
       "1222           -0.305396                     -0.107245   \n",
       "2169           -0.178355                     -0.227509   \n",
       "2090           -0.305396                     -0.227509   \n",
       "\n",
       "        count_Cardnum_Merch state_7d  count_Cardnum_Merch zip_3d  \\\n",
       "Recnum                                                             \n",
       "818                        -0.212899                   -0.207194   \n",
       "1403                       -0.212899                   -0.207194   \n",
       "1222                       -0.148293                   -0.207194   \n",
       "2169                       -0.212899                   -0.207194   \n",
       "2090                       -0.212899                   -0.207194   \n",
       "\n",
       "        count_Cardnum_Merchnum_3d  count_Cardnum_Merchnum_7d  mean_Cardnum_1d  \\\n",
       "Recnum                                                                          \n",
       "818                     -0.204367                  -0.185907        -0.474089   \n",
       "1403                    -0.204367                  -0.185907         0.091413   \n",
       "1222                    -0.204367                  -0.185907        -0.421739   \n",
       "2169                    -0.204367                  -0.185907        -0.292151   \n",
       "2090                    -0.204367                  -0.185907        -0.507067   \n",
       "\n",
       "        Actual/count_Cardnum_1d  Actual/count_Cardnum_30d  mean_Cardnum_30d  \n",
       "Recnum                                                                       \n",
       "818                   -0.414382                 -0.077371         -0.721970  \n",
       "1403                   0.229728                  0.219330         -0.437000  \n",
       "1222                  -0.354755                 -0.101906         -0.617050  \n",
       "2169                  -0.404932                 -0.173845         -0.539719  \n",
       "2090                  -0.451944                 -0.241247         -0.674160  \n",
       "\n",
       "[5 rows x 21 columns]"
      ]
     },
     "execution_count": 67,
     "metadata": {},
     "output_type": "execute_result"
    }
   ],
   "source": [
    "# Look at the data\n",
    "data.head()"
   ]
  },
  {
   "cell_type": "code",
   "execution_count": 68,
   "metadata": {
    "nbpresent": {
     "id": "d26d6714-cef7-4d41-a351-91c541107406"
    }
   },
   "outputs": [
    {
     "data": {
      "text/plain": [
       "Fraud                                 False\n",
       "Actual/mean_Cardnum_30d               False\n",
       "Actual/mean_Merchnum_14d              False\n",
       "Actual/mean_Merchnum_30d              False\n",
       "Actual/mean_Merchnum_7d               False\n",
       "Actual/median_Merchnum_7d             False\n",
       "Actual/sum_Cardnum_Merch zip_3d       False\n",
       "Actual/sum_Cardnum_Merchnum_3d        False\n",
       "Days_since_per_Cardnum                False\n",
       "Days_since_per_Cardnum_Merch state    False\n",
       "count_Cardnum_1d                      False\n",
       "count_Cardnum_7d                      False\n",
       "count_Cardnum_Merch state_3d          False\n",
       "count_Cardnum_Merch state_7d          False\n",
       "count_Cardnum_Merch zip_3d            False\n",
       "count_Cardnum_Merchnum_3d             False\n",
       "count_Cardnum_Merchnum_7d             False\n",
       "mean_Cardnum_1d                       False\n",
       "Actual/count_Cardnum_1d               False\n",
       "Actual/count_Cardnum_30d              False\n",
       "mean_Cardnum_30d                      False\n",
       "dtype: bool"
      ]
     },
     "execution_count": 68,
     "metadata": {},
     "output_type": "execute_result"
    }
   ],
   "source": [
    "# test for NAN\n",
    "pd.isnull(data).any()"
   ]
  },
  {
   "cell_type": "code",
   "execution_count": 69,
   "metadata": {},
   "outputs": [],
   "source": [
    "# split data into out of date(after 11/1/10), train and test\n",
    "#oot_df = data.iloc[84300:,:]\n",
    "#trte_df = data.iloc[:84299,:]"
   ]
  },
  {
   "cell_type": "code",
   "execution_count": 70,
   "metadata": {},
   "outputs": [],
   "source": [
    "train, test = train_test_split(data, test_size=0.2, random_state=0)"
   ]
  },
  {
   "cell_type": "code",
   "execution_count": 71,
   "metadata": {},
   "outputs": [],
   "source": [
    "#oot_df.to_csv('oot.csv',index=True)\n",
    "train.to_csv('train.csv',index=True)\n",
    "test.to_csv('test.csv',index=True)"
   ]
  },
  {
   "cell_type": "code",
   "execution_count": 72,
   "metadata": {
    "nbpresent": {
     "id": "082165ed-e1a2-484a-9477-f19bc7fcc478"
    }
   },
   "outputs": [
    {
     "data": {
      "text/html": [
       "<div>\n",
       "<style scoped>\n",
       "    .dataframe tbody tr th:only-of-type {\n",
       "        vertical-align: middle;\n",
       "    }\n",
       "\n",
       "    .dataframe tbody tr th {\n",
       "        vertical-align: top;\n",
       "    }\n",
       "\n",
       "    .dataframe thead th {\n",
       "        text-align: right;\n",
       "    }\n",
       "</style>\n",
       "<table border=\"1\" class=\"dataframe\">\n",
       "  <thead>\n",
       "    <tr style=\"text-align: right;\">\n",
       "      <th></th>\n",
       "      <th>Fraud</th>\n",
       "      <th>Actual/mean_Cardnum_30d</th>\n",
       "      <th>Actual/mean_Merchnum_14d</th>\n",
       "      <th>Actual/mean_Merchnum_30d</th>\n",
       "      <th>Actual/mean_Merchnum_7d</th>\n",
       "      <th>Actual/median_Merchnum_7d</th>\n",
       "      <th>Actual/sum_Cardnum_Merch zip_3d</th>\n",
       "      <th>Actual/sum_Cardnum_Merchnum_3d</th>\n",
       "      <th>Days_since_per_Cardnum</th>\n",
       "      <th>Days_since_per_Cardnum_Merch state</th>\n",
       "      <th>...</th>\n",
       "      <th>count_Cardnum_7d</th>\n",
       "      <th>count_Cardnum_Merch state_3d</th>\n",
       "      <th>count_Cardnum_Merch state_7d</th>\n",
       "      <th>count_Cardnum_Merch zip_3d</th>\n",
       "      <th>count_Cardnum_Merchnum_3d</th>\n",
       "      <th>count_Cardnum_Merchnum_7d</th>\n",
       "      <th>mean_Cardnum_1d</th>\n",
       "      <th>Actual/count_Cardnum_1d</th>\n",
       "      <th>Actual/count_Cardnum_30d</th>\n",
       "      <th>mean_Cardnum_30d</th>\n",
       "    </tr>\n",
       "    <tr>\n",
       "      <th>Recnum</th>\n",
       "      <th></th>\n",
       "      <th></th>\n",
       "      <th></th>\n",
       "      <th></th>\n",
       "      <th></th>\n",
       "      <th></th>\n",
       "      <th></th>\n",
       "      <th></th>\n",
       "      <th></th>\n",
       "      <th></th>\n",
       "      <th></th>\n",
       "      <th></th>\n",
       "      <th></th>\n",
       "      <th></th>\n",
       "      <th></th>\n",
       "      <th></th>\n",
       "      <th></th>\n",
       "      <th></th>\n",
       "      <th></th>\n",
       "      <th></th>\n",
       "      <th></th>\n",
       "    </tr>\n",
       "  </thead>\n",
       "  <tbody>\n",
       "    <tr>\n",
       "      <th>65692</th>\n",
       "      <td>0</td>\n",
       "      <td>-0.515356</td>\n",
       "      <td>0.252535</td>\n",
       "      <td>0.041959</td>\n",
       "      <td>-0.014424</td>\n",
       "      <td>0.141105</td>\n",
       "      <td>-0.349862</td>\n",
       "      <td>-0.397862</td>\n",
       "      <td>-0.222747</td>\n",
       "      <td>-0.580685</td>\n",
       "      <td>...</td>\n",
       "      <td>-0.051314</td>\n",
       "      <td>0.013019</td>\n",
       "      <td>-0.083686</td>\n",
       "      <td>0.033355</td>\n",
       "      <td>0.044402</td>\n",
       "      <td>-0.051431</td>\n",
       "      <td>-0.425295</td>\n",
       "      <td>-0.477997</td>\n",
       "      <td>-0.280689</td>\n",
       "      <td>-0.438790</td>\n",
       "    </tr>\n",
       "    <tr>\n",
       "      <th>23220</th>\n",
       "      <td>0</td>\n",
       "      <td>0.004730</td>\n",
       "      <td>-0.322369</td>\n",
       "      <td>-0.231213</td>\n",
       "      <td>-0.000786</td>\n",
       "      <td>-0.031299</td>\n",
       "      <td>0.529859</td>\n",
       "      <td>0.505899</td>\n",
       "      <td>-0.056856</td>\n",
       "      <td>-0.520088</td>\n",
       "      <td>...</td>\n",
       "      <td>-0.368917</td>\n",
       "      <td>-0.227509</td>\n",
       "      <td>-0.212899</td>\n",
       "      <td>-0.207194</td>\n",
       "      <td>-0.204367</td>\n",
       "      <td>-0.185907</td>\n",
       "      <td>-0.469039</td>\n",
       "      <td>-0.408631</td>\n",
       "      <td>-0.218570</td>\n",
       "      <td>-0.715735</td>\n",
       "    </tr>\n",
       "    <tr>\n",
       "      <th>65844</th>\n",
       "      <td>0</td>\n",
       "      <td>-0.270497</td>\n",
       "      <td>0.001750</td>\n",
       "      <td>0.001823</td>\n",
       "      <td>-0.000786</td>\n",
       "      <td>-0.031299</td>\n",
       "      <td>0.529859</td>\n",
       "      <td>0.505899</td>\n",
       "      <td>-0.098329</td>\n",
       "      <td>2.184037</td>\n",
       "      <td>...</td>\n",
       "      <td>-0.305396</td>\n",
       "      <td>-0.227509</td>\n",
       "      <td>-0.212899</td>\n",
       "      <td>-0.207194</td>\n",
       "      <td>-0.204367</td>\n",
       "      <td>-0.185907</td>\n",
       "      <td>0.146445</td>\n",
       "      <td>0.292411</td>\n",
       "      <td>0.151928</td>\n",
       "      <td>0.989532</td>\n",
       "    </tr>\n",
       "    <tr>\n",
       "      <th>19799</th>\n",
       "      <td>0</td>\n",
       "      <td>-0.115891</td>\n",
       "      <td>0.001750</td>\n",
       "      <td>0.001823</td>\n",
       "      <td>-0.000786</td>\n",
       "      <td>-0.031299</td>\n",
       "      <td>-1.017089</td>\n",
       "      <td>-1.083322</td>\n",
       "      <td>-0.222747</td>\n",
       "      <td>-0.565536</td>\n",
       "      <td>...</td>\n",
       "      <td>0.075727</td>\n",
       "      <td>-0.107245</td>\n",
       "      <td>-0.148293</td>\n",
       "      <td>-0.086920</td>\n",
       "      <td>-0.079983</td>\n",
       "      <td>-0.118669</td>\n",
       "      <td>-0.181943</td>\n",
       "      <td>-0.419979</td>\n",
       "      <td>-0.269848</td>\n",
       "      <td>-0.248851</td>\n",
       "    </tr>\n",
       "    <tr>\n",
       "      <th>68306</th>\n",
       "      <td>0</td>\n",
       "      <td>1.322042</td>\n",
       "      <td>0.451580</td>\n",
       "      <td>0.258612</td>\n",
       "      <td>0.685772</td>\n",
       "      <td>0.073252</td>\n",
       "      <td>0.529859</td>\n",
       "      <td>0.505899</td>\n",
       "      <td>-0.160538</td>\n",
       "      <td>-0.020166</td>\n",
       "      <td>...</td>\n",
       "      <td>-0.114835</td>\n",
       "      <td>-0.227509</td>\n",
       "      <td>-0.212899</td>\n",
       "      <td>-0.207194</td>\n",
       "      <td>-0.204367</td>\n",
       "      <td>-0.185907</td>\n",
       "      <td>1.276773</td>\n",
       "      <td>1.579863</td>\n",
       "      <td>-0.014635</td>\n",
       "      <td>0.055582</td>\n",
       "    </tr>\n",
       "  </tbody>\n",
       "</table>\n",
       "<p>5 rows × 21 columns</p>\n",
       "</div>"
      ],
      "text/plain": [
       "        Fraud  Actual/mean_Cardnum_30d  Actual/mean_Merchnum_14d  \\\n",
       "Recnum                                                             \n",
       "65692       0                -0.515356                  0.252535   \n",
       "23220       0                 0.004730                 -0.322369   \n",
       "65844       0                -0.270497                  0.001750   \n",
       "19799       0                -0.115891                  0.001750   \n",
       "68306       0                 1.322042                  0.451580   \n",
       "\n",
       "        Actual/mean_Merchnum_30d  Actual/mean_Merchnum_7d  \\\n",
       "Recnum                                                      \n",
       "65692                   0.041959                -0.014424   \n",
       "23220                  -0.231213                -0.000786   \n",
       "65844                   0.001823                -0.000786   \n",
       "19799                   0.001823                -0.000786   \n",
       "68306                   0.258612                 0.685772   \n",
       "\n",
       "        Actual/median_Merchnum_7d  Actual/sum_Cardnum_Merch zip_3d  \\\n",
       "Recnum                                                               \n",
       "65692                    0.141105                        -0.349862   \n",
       "23220                   -0.031299                         0.529859   \n",
       "65844                   -0.031299                         0.529859   \n",
       "19799                   -0.031299                        -1.017089   \n",
       "68306                    0.073252                         0.529859   \n",
       "\n",
       "        Actual/sum_Cardnum_Merchnum_3d  Days_since_per_Cardnum  \\\n",
       "Recnum                                                           \n",
       "65692                        -0.397862               -0.222747   \n",
       "23220                         0.505899               -0.056856   \n",
       "65844                         0.505899               -0.098329   \n",
       "19799                        -1.083322               -0.222747   \n",
       "68306                         0.505899               -0.160538   \n",
       "\n",
       "        Days_since_per_Cardnum_Merch state        ...         \\\n",
       "Recnum                                            ...          \n",
       "65692                            -0.580685        ...          \n",
       "23220                            -0.520088        ...          \n",
       "65844                             2.184037        ...          \n",
       "19799                            -0.565536        ...          \n",
       "68306                            -0.020166        ...          \n",
       "\n",
       "        count_Cardnum_7d  count_Cardnum_Merch state_3d  \\\n",
       "Recnum                                                   \n",
       "65692          -0.051314                      0.013019   \n",
       "23220          -0.368917                     -0.227509   \n",
       "65844          -0.305396                     -0.227509   \n",
       "19799           0.075727                     -0.107245   \n",
       "68306          -0.114835                     -0.227509   \n",
       "\n",
       "        count_Cardnum_Merch state_7d  count_Cardnum_Merch zip_3d  \\\n",
       "Recnum                                                             \n",
       "65692                      -0.083686                    0.033355   \n",
       "23220                      -0.212899                   -0.207194   \n",
       "65844                      -0.212899                   -0.207194   \n",
       "19799                      -0.148293                   -0.086920   \n",
       "68306                      -0.212899                   -0.207194   \n",
       "\n",
       "        count_Cardnum_Merchnum_3d  count_Cardnum_Merchnum_7d  mean_Cardnum_1d  \\\n",
       "Recnum                                                                          \n",
       "65692                    0.044402                  -0.051431        -0.425295   \n",
       "23220                   -0.204367                  -0.185907        -0.469039   \n",
       "65844                   -0.204367                  -0.185907         0.146445   \n",
       "19799                   -0.079983                  -0.118669        -0.181943   \n",
       "68306                   -0.204367                  -0.185907         1.276773   \n",
       "\n",
       "        Actual/count_Cardnum_1d  Actual/count_Cardnum_30d  mean_Cardnum_30d  \n",
       "Recnum                                                                       \n",
       "65692                 -0.477997                 -0.280689         -0.438790  \n",
       "23220                 -0.408631                 -0.218570         -0.715735  \n",
       "65844                  0.292411                  0.151928          0.989532  \n",
       "19799                 -0.419979                 -0.269848         -0.248851  \n",
       "68306                  1.579863                 -0.014635          0.055582  \n",
       "\n",
       "[5 rows x 21 columns]"
      ]
     },
     "execution_count": 72,
     "metadata": {},
     "output_type": "execute_result"
    }
   ],
   "source": [
    "train.head()"
   ]
  },
  {
   "cell_type": "code",
   "execution_count": 73,
   "metadata": {},
   "outputs": [
    {
     "data": {
      "text/html": [
       "<div>\n",
       "<style scoped>\n",
       "    .dataframe tbody tr th:only-of-type {\n",
       "        vertical-align: middle;\n",
       "    }\n",
       "\n",
       "    .dataframe tbody tr th {\n",
       "        vertical-align: top;\n",
       "    }\n",
       "\n",
       "    .dataframe thead th {\n",
       "        text-align: right;\n",
       "    }\n",
       "</style>\n",
       "<table border=\"1\" class=\"dataframe\">\n",
       "  <thead>\n",
       "    <tr style=\"text-align: right;\">\n",
       "      <th></th>\n",
       "      <th>Fraud</th>\n",
       "      <th>Actual/mean_Cardnum_30d</th>\n",
       "      <th>Actual/mean_Merchnum_14d</th>\n",
       "      <th>Actual/mean_Merchnum_30d</th>\n",
       "      <th>Actual/mean_Merchnum_7d</th>\n",
       "      <th>Actual/median_Merchnum_7d</th>\n",
       "      <th>Actual/sum_Cardnum_Merch zip_3d</th>\n",
       "      <th>Actual/sum_Cardnum_Merchnum_3d</th>\n",
       "      <th>Days_since_per_Cardnum</th>\n",
       "      <th>Days_since_per_Cardnum_Merch state</th>\n",
       "      <th>...</th>\n",
       "      <th>count_Cardnum_7d</th>\n",
       "      <th>count_Cardnum_Merch state_3d</th>\n",
       "      <th>count_Cardnum_Merch state_7d</th>\n",
       "      <th>count_Cardnum_Merch zip_3d</th>\n",
       "      <th>count_Cardnum_Merchnum_3d</th>\n",
       "      <th>count_Cardnum_Merchnum_7d</th>\n",
       "      <th>mean_Cardnum_1d</th>\n",
       "      <th>Actual/count_Cardnum_1d</th>\n",
       "      <th>Actual/count_Cardnum_30d</th>\n",
       "      <th>mean_Cardnum_30d</th>\n",
       "    </tr>\n",
       "  </thead>\n",
       "  <tbody>\n",
       "    <tr>\n",
       "      <th>count</th>\n",
       "      <td>67176.000000</td>\n",
       "      <td>67176.000000</td>\n",
       "      <td>67176.000000</td>\n",
       "      <td>67176.000000</td>\n",
       "      <td>67176.000000</td>\n",
       "      <td>67176.000000</td>\n",
       "      <td>67176.000000</td>\n",
       "      <td>67176.000000</td>\n",
       "      <td>67176.000000</td>\n",
       "      <td>67176.000000</td>\n",
       "      <td>...</td>\n",
       "      <td>67176.000000</td>\n",
       "      <td>67176.000000</td>\n",
       "      <td>67176.000000</td>\n",
       "      <td>67176.000000</td>\n",
       "      <td>67176.000000</td>\n",
       "      <td>67176.000000</td>\n",
       "      <td>67176.000000</td>\n",
       "      <td>67176.000000</td>\n",
       "      <td>67176.000000</td>\n",
       "      <td>67176.000000</td>\n",
       "    </tr>\n",
       "    <tr>\n",
       "      <th>mean</th>\n",
       "      <td>0.010525</td>\n",
       "      <td>0.002284</td>\n",
       "      <td>-0.003939</td>\n",
       "      <td>-0.003983</td>\n",
       "      <td>-0.004087</td>\n",
       "      <td>-0.001261</td>\n",
       "      <td>-0.014529</td>\n",
       "      <td>-0.014833</td>\n",
       "      <td>0.011564</td>\n",
       "      <td>0.015127</td>\n",
       "      <td>...</td>\n",
       "      <td>0.016232</td>\n",
       "      <td>0.011144</td>\n",
       "      <td>0.014026</td>\n",
       "      <td>0.010999</td>\n",
       "      <td>0.010489</td>\n",
       "      <td>0.013556</td>\n",
       "      <td>0.004747</td>\n",
       "      <td>0.002157</td>\n",
       "      <td>-0.000976</td>\n",
       "      <td>0.003735</td>\n",
       "    </tr>\n",
       "    <tr>\n",
       "      <th>std</th>\n",
       "      <td>0.102049</td>\n",
       "      <td>1.061827</td>\n",
       "      <td>0.825473</td>\n",
       "      <td>0.657574</td>\n",
       "      <td>0.908295</td>\n",
       "      <td>0.393935</td>\n",
       "      <td>1.010430</td>\n",
       "      <td>1.011480</td>\n",
       "      <td>1.056575</td>\n",
       "      <td>1.023599</td>\n",
       "      <td>...</td>\n",
       "      <td>1.063015</td>\n",
       "      <td>1.055391</td>\n",
       "      <td>1.067609</td>\n",
       "      <td>1.055538</td>\n",
       "      <td>1.052280</td>\n",
       "      <td>1.066703</td>\n",
       "      <td>1.014409</td>\n",
       "      <td>1.010676</td>\n",
       "      <td>0.962693</td>\n",
       "      <td>1.011864</td>\n",
       "    </tr>\n",
       "    <tr>\n",
       "      <th>min</th>\n",
       "      <td>0.000000</td>\n",
       "      <td>-0.628273</td>\n",
       "      <td>-0.415205</td>\n",
       "      <td>-0.322713</td>\n",
       "      <td>-0.465578</td>\n",
       "      <td>-0.052963</td>\n",
       "      <td>-2.563899</td>\n",
       "      <td>-2.672400</td>\n",
       "      <td>-0.222747</td>\n",
       "      <td>-0.580685</td>\n",
       "      <td>...</td>\n",
       "      <td>-0.368917</td>\n",
       "      <td>-0.227509</td>\n",
       "      <td>-0.212899</td>\n",
       "      <td>-0.207194</td>\n",
       "      <td>-0.204367</td>\n",
       "      <td>-0.185907</td>\n",
       "      <td>-0.541270</td>\n",
       "      <td>-0.491116</td>\n",
       "      <td>-0.297410</td>\n",
       "      <td>-0.822022</td>\n",
       "    </tr>\n",
       "    <tr>\n",
       "      <th>25%</th>\n",
       "      <td>0.000000</td>\n",
       "      <td>-0.507879</td>\n",
       "      <td>-0.272543</td>\n",
       "      <td>-0.227518</td>\n",
       "      <td>-0.273521</td>\n",
       "      <td>-0.031705</td>\n",
       "      <td>0.269437</td>\n",
       "      <td>0.505899</td>\n",
       "      <td>-0.222747</td>\n",
       "      <td>-0.573110</td>\n",
       "      <td>...</td>\n",
       "      <td>-0.305396</td>\n",
       "      <td>-0.227509</td>\n",
       "      <td>-0.212899</td>\n",
       "      <td>-0.207194</td>\n",
       "      <td>-0.204367</td>\n",
       "      <td>-0.185907</td>\n",
       "      <td>-0.485411</td>\n",
       "      <td>-0.456975</td>\n",
       "      <td>-0.285777</td>\n",
       "      <td>-0.520708</td>\n",
       "    </tr>\n",
       "    <tr>\n",
       "      <th>50%</th>\n",
       "      <td>0.000000</td>\n",
       "      <td>-0.249474</td>\n",
       "      <td>0.001750</td>\n",
       "      <td>-0.013886</td>\n",
       "      <td>-0.000786</td>\n",
       "      <td>-0.031299</td>\n",
       "      <td>0.529859</td>\n",
       "      <td>0.505899</td>\n",
       "      <td>-0.202011</td>\n",
       "      <td>-0.520088</td>\n",
       "      <td>...</td>\n",
       "      <td>-0.178355</td>\n",
       "      <td>-0.227509</td>\n",
       "      <td>-0.212899</td>\n",
       "      <td>-0.207194</td>\n",
       "      <td>-0.204367</td>\n",
       "      <td>-0.185907</td>\n",
       "      <td>-0.321112</td>\n",
       "      <td>-0.334415</td>\n",
       "      <td>-0.238399</td>\n",
       "      <td>-0.192904</td>\n",
       "    </tr>\n",
       "    <tr>\n",
       "      <th>75%</th>\n",
       "      <td>0.000000</td>\n",
       "      <td>0.164042</td>\n",
       "      <td>0.001750</td>\n",
       "      <td>0.001823</td>\n",
       "      <td>-0.000786</td>\n",
       "      <td>-0.030532</td>\n",
       "      <td>0.529859</td>\n",
       "      <td>0.505899</td>\n",
       "      <td>-0.119065</td>\n",
       "      <td>-0.156508</td>\n",
       "      <td>...</td>\n",
       "      <td>0.012206</td>\n",
       "      <td>-0.107245</td>\n",
       "      <td>-0.083686</td>\n",
       "      <td>-0.086920</td>\n",
       "      <td>-0.204367</td>\n",
       "      <td>-0.118669</td>\n",
       "      <td>0.084492</td>\n",
       "      <td>0.037763</td>\n",
       "      <td>-0.070001</td>\n",
       "      <td>0.213322</td>\n",
       "    </tr>\n",
       "    <tr>\n",
       "      <th>max</th>\n",
       "      <td>1.000000</td>\n",
       "      <td>85.615968</td>\n",
       "      <td>55.740287</td>\n",
       "      <td>55.375548</td>\n",
       "      <td>62.325562</td>\n",
       "      <td>35.770285</td>\n",
       "      <td>0.529859</td>\n",
       "      <td>0.505899</td>\n",
       "      <td>7.346025</td>\n",
       "      <td>2.184037</td>\n",
       "      <td>...</td>\n",
       "      <td>21.990320</td>\n",
       "      <td>20.938884</td>\n",
       "      <td>22.528487</td>\n",
       "      <td>20.961095</td>\n",
       "      <td>21.687282</td>\n",
       "      <td>22.742205</td>\n",
       "      <td>38.521824</td>\n",
       "      <td>44.002260</td>\n",
       "      <td>53.423799</td>\n",
       "      <td>48.845261</td>\n",
       "    </tr>\n",
       "  </tbody>\n",
       "</table>\n",
       "<p>8 rows × 21 columns</p>\n",
       "</div>"
      ],
      "text/plain": [
       "              Fraud  Actual/mean_Cardnum_30d  Actual/mean_Merchnum_14d  \\\n",
       "count  67176.000000             67176.000000              67176.000000   \n",
       "mean       0.010525                 0.002284                 -0.003939   \n",
       "std        0.102049                 1.061827                  0.825473   \n",
       "min        0.000000                -0.628273                 -0.415205   \n",
       "25%        0.000000                -0.507879                 -0.272543   \n",
       "50%        0.000000                -0.249474                  0.001750   \n",
       "75%        0.000000                 0.164042                  0.001750   \n",
       "max        1.000000                85.615968                 55.740287   \n",
       "\n",
       "       Actual/mean_Merchnum_30d  Actual/mean_Merchnum_7d  \\\n",
       "count              67176.000000             67176.000000   \n",
       "mean                  -0.003983                -0.004087   \n",
       "std                    0.657574                 0.908295   \n",
       "min                   -0.322713                -0.465578   \n",
       "25%                   -0.227518                -0.273521   \n",
       "50%                   -0.013886                -0.000786   \n",
       "75%                    0.001823                -0.000786   \n",
       "max                   55.375548                62.325562   \n",
       "\n",
       "       Actual/median_Merchnum_7d  Actual/sum_Cardnum_Merch zip_3d  \\\n",
       "count               67176.000000                     67176.000000   \n",
       "mean                   -0.001261                        -0.014529   \n",
       "std                     0.393935                         1.010430   \n",
       "min                    -0.052963                        -2.563899   \n",
       "25%                    -0.031705                         0.269437   \n",
       "50%                    -0.031299                         0.529859   \n",
       "75%                    -0.030532                         0.529859   \n",
       "max                    35.770285                         0.529859   \n",
       "\n",
       "       Actual/sum_Cardnum_Merchnum_3d  Days_since_per_Cardnum  \\\n",
       "count                    67176.000000            67176.000000   \n",
       "mean                        -0.014833                0.011564   \n",
       "std                          1.011480                1.056575   \n",
       "min                         -2.672400               -0.222747   \n",
       "25%                          0.505899               -0.222747   \n",
       "50%                          0.505899               -0.202011   \n",
       "75%                          0.505899               -0.119065   \n",
       "max                          0.505899                7.346025   \n",
       "\n",
       "       Days_since_per_Cardnum_Merch state        ...         count_Cardnum_7d  \\\n",
       "count                        67176.000000        ...             67176.000000   \n",
       "mean                             0.015127        ...                 0.016232   \n",
       "std                              1.023599        ...                 1.063015   \n",
       "min                             -0.580685        ...                -0.368917   \n",
       "25%                             -0.573110        ...                -0.305396   \n",
       "50%                             -0.520088        ...                -0.178355   \n",
       "75%                             -0.156508        ...                 0.012206   \n",
       "max                              2.184037        ...                21.990320   \n",
       "\n",
       "       count_Cardnum_Merch state_3d  count_Cardnum_Merch state_7d  \\\n",
       "count                  67176.000000                  67176.000000   \n",
       "mean                       0.011144                      0.014026   \n",
       "std                        1.055391                      1.067609   \n",
       "min                       -0.227509                     -0.212899   \n",
       "25%                       -0.227509                     -0.212899   \n",
       "50%                       -0.227509                     -0.212899   \n",
       "75%                       -0.107245                     -0.083686   \n",
       "max                       20.938884                     22.528487   \n",
       "\n",
       "       count_Cardnum_Merch zip_3d  count_Cardnum_Merchnum_3d  \\\n",
       "count                67176.000000               67176.000000   \n",
       "mean                     0.010999                   0.010489   \n",
       "std                      1.055538                   1.052280   \n",
       "min                     -0.207194                  -0.204367   \n",
       "25%                     -0.207194                  -0.204367   \n",
       "50%                     -0.207194                  -0.204367   \n",
       "75%                     -0.086920                  -0.204367   \n",
       "max                     20.961095                  21.687282   \n",
       "\n",
       "       count_Cardnum_Merchnum_7d  mean_Cardnum_1d  Actual/count_Cardnum_1d  \\\n",
       "count               67176.000000     67176.000000             67176.000000   \n",
       "mean                    0.013556         0.004747                 0.002157   \n",
       "std                     1.066703         1.014409                 1.010676   \n",
       "min                    -0.185907        -0.541270                -0.491116   \n",
       "25%                    -0.185907        -0.485411                -0.456975   \n",
       "50%                    -0.185907        -0.321112                -0.334415   \n",
       "75%                    -0.118669         0.084492                 0.037763   \n",
       "max                    22.742205        38.521824                44.002260   \n",
       "\n",
       "       Actual/count_Cardnum_30d  mean_Cardnum_30d  \n",
       "count              67176.000000      67176.000000  \n",
       "mean                  -0.000976          0.003735  \n",
       "std                    0.962693          1.011864  \n",
       "min                   -0.297410         -0.822022  \n",
       "25%                   -0.285777         -0.520708  \n",
       "50%                   -0.238399         -0.192904  \n",
       "75%                   -0.070001          0.213322  \n",
       "max                   53.423799         48.845261  \n",
       "\n",
       "[8 rows x 21 columns]"
      ]
     },
     "execution_count": 73,
     "metadata": {},
     "output_type": "execute_result"
    }
   ],
   "source": [
    "train.describe()"
   ]
  },
  {
   "cell_type": "code",
   "execution_count": 74,
   "metadata": {},
   "outputs": [
    {
     "name": "stdout",
     "output_type": "stream",
     "text": [
      "707\n",
      "0.010524592116231987\n"
     ]
    }
   ],
   "source": [
    "print(sum(train['Fraud']))\n",
    "print(sum(train['Fraud'])/len(train['Fraud']))"
   ]
  },
  {
   "cell_type": "code",
   "execution_count": 75,
   "metadata": {},
   "outputs": [
    {
     "data": {
      "text/html": [
       "<div>\n",
       "<style scoped>\n",
       "    .dataframe tbody tr th:only-of-type {\n",
       "        vertical-align: middle;\n",
       "    }\n",
       "\n",
       "    .dataframe tbody tr th {\n",
       "        vertical-align: top;\n",
       "    }\n",
       "\n",
       "    .dataframe thead th {\n",
       "        text-align: right;\n",
       "    }\n",
       "</style>\n",
       "<table border=\"1\" class=\"dataframe\">\n",
       "  <thead>\n",
       "    <tr style=\"text-align: right;\">\n",
       "      <th></th>\n",
       "      <th>Fraud</th>\n",
       "      <th>Actual/mean_Cardnum_30d</th>\n",
       "      <th>Actual/mean_Merchnum_14d</th>\n",
       "      <th>Actual/mean_Merchnum_30d</th>\n",
       "      <th>Actual/mean_Merchnum_7d</th>\n",
       "      <th>Actual/median_Merchnum_7d</th>\n",
       "      <th>Actual/sum_Cardnum_Merch zip_3d</th>\n",
       "      <th>Actual/sum_Cardnum_Merchnum_3d</th>\n",
       "      <th>Days_since_per_Cardnum</th>\n",
       "      <th>Days_since_per_Cardnum_Merch state</th>\n",
       "      <th>...</th>\n",
       "      <th>count_Cardnum_7d</th>\n",
       "      <th>count_Cardnum_Merch state_3d</th>\n",
       "      <th>count_Cardnum_Merch state_7d</th>\n",
       "      <th>count_Cardnum_Merch zip_3d</th>\n",
       "      <th>count_Cardnum_Merchnum_3d</th>\n",
       "      <th>count_Cardnum_Merchnum_7d</th>\n",
       "      <th>mean_Cardnum_1d</th>\n",
       "      <th>Actual/count_Cardnum_1d</th>\n",
       "      <th>Actual/count_Cardnum_30d</th>\n",
       "      <th>mean_Cardnum_30d</th>\n",
       "    </tr>\n",
       "    <tr>\n",
       "      <th>Recnum</th>\n",
       "      <th></th>\n",
       "      <th></th>\n",
       "      <th></th>\n",
       "      <th></th>\n",
       "      <th></th>\n",
       "      <th></th>\n",
       "      <th></th>\n",
       "      <th></th>\n",
       "      <th></th>\n",
       "      <th></th>\n",
       "      <th></th>\n",
       "      <th></th>\n",
       "      <th></th>\n",
       "      <th></th>\n",
       "      <th></th>\n",
       "      <th></th>\n",
       "      <th></th>\n",
       "      <th></th>\n",
       "      <th></th>\n",
       "      <th></th>\n",
       "      <th></th>\n",
       "    </tr>\n",
       "  </thead>\n",
       "  <tbody>\n",
       "    <tr>\n",
       "      <th>1173</th>\n",
       "      <td>0</td>\n",
       "      <td>-0.393933</td>\n",
       "      <td>0.414291</td>\n",
       "      <td>0.322914</td>\n",
       "      <td>0.459085</td>\n",
       "      <td>-0.002285</td>\n",
       "      <td>0.529859</td>\n",
       "      <td>0.505899</td>\n",
       "      <td>-0.160538</td>\n",
       "      <td>2.184037</td>\n",
       "      <td>...</td>\n",
       "      <td>-0.305396</td>\n",
       "      <td>-0.227509</td>\n",
       "      <td>-0.212899</td>\n",
       "      <td>-0.207194</td>\n",
       "      <td>-0.204367</td>\n",
       "      <td>-0.185907</td>\n",
       "      <td>-0.436694</td>\n",
       "      <td>-0.371789</td>\n",
       "      <td>-0.126327</td>\n",
       "      <td>-0.402051</td>\n",
       "    </tr>\n",
       "    <tr>\n",
       "      <th>64224</th>\n",
       "      <td>0</td>\n",
       "      <td>0.356711</td>\n",
       "      <td>-0.010515</td>\n",
       "      <td>-0.049512</td>\n",
       "      <td>-0.014458</td>\n",
       "      <td>-0.031936</td>\n",
       "      <td>0.529859</td>\n",
       "      <td>0.505899</td>\n",
       "      <td>-0.160538</td>\n",
       "      <td>-0.557961</td>\n",
       "      <td>...</td>\n",
       "      <td>-0.305396</td>\n",
       "      <td>-0.227509</td>\n",
       "      <td>-0.148293</td>\n",
       "      <td>-0.207194</td>\n",
       "      <td>-0.204367</td>\n",
       "      <td>-0.118669</td>\n",
       "      <td>-0.087443</td>\n",
       "      <td>0.026010</td>\n",
       "      <td>-0.050276</td>\n",
       "      <td>-0.388934</td>\n",
       "    </tr>\n",
       "    <tr>\n",
       "      <th>21305</th>\n",
       "      <td>0</td>\n",
       "      <td>-0.411196</td>\n",
       "      <td>0.001750</td>\n",
       "      <td>0.001823</td>\n",
       "      <td>-0.000786</td>\n",
       "      <td>-0.031299</td>\n",
       "      <td>0.529859</td>\n",
       "      <td>0.505899</td>\n",
       "      <td>0.109035</td>\n",
       "      <td>-0.459492</td>\n",
       "      <td>...</td>\n",
       "      <td>-0.368917</td>\n",
       "      <td>-0.227509</td>\n",
       "      <td>-0.212899</td>\n",
       "      <td>-0.207194</td>\n",
       "      <td>-0.204367</td>\n",
       "      <td>-0.185907</td>\n",
       "      <td>-0.456684</td>\n",
       "      <td>-0.394559</td>\n",
       "      <td>-0.205120</td>\n",
       "      <td>-0.455365</td>\n",
       "    </tr>\n",
       "    <tr>\n",
       "      <th>56467</th>\n",
       "      <td>0</td>\n",
       "      <td>-0.512506</td>\n",
       "      <td>0.002873</td>\n",
       "      <td>0.102281</td>\n",
       "      <td>-0.000786</td>\n",
       "      <td>-0.031299</td>\n",
       "      <td>0.529859</td>\n",
       "      <td>0.505899</td>\n",
       "      <td>-0.139801</td>\n",
       "      <td>-0.535237</td>\n",
       "      <td>...</td>\n",
       "      <td>-0.114835</td>\n",
       "      <td>-0.227509</td>\n",
       "      <td>-0.148293</td>\n",
       "      <td>-0.207194</td>\n",
       "      <td>-0.204367</td>\n",
       "      <td>-0.185907</td>\n",
       "      <td>-0.379240</td>\n",
       "      <td>-0.448810</td>\n",
       "      <td>-0.281238</td>\n",
       "      <td>-0.218561</td>\n",
       "    </tr>\n",
       "    <tr>\n",
       "      <th>62362</th>\n",
       "      <td>0</td>\n",
       "      <td>-0.046142</td>\n",
       "      <td>-0.159239</td>\n",
       "      <td>-0.087947</td>\n",
       "      <td>-0.092043</td>\n",
       "      <td>-0.016727</td>\n",
       "      <td>0.529859</td>\n",
       "      <td>0.505899</td>\n",
       "      <td>-0.222747</td>\n",
       "      <td>-0.179232</td>\n",
       "      <td>...</td>\n",
       "      <td>-0.051314</td>\n",
       "      <td>-0.227509</td>\n",
       "      <td>-0.212899</td>\n",
       "      <td>-0.207194</td>\n",
       "      <td>-0.204367</td>\n",
       "      <td>-0.185907</td>\n",
       "      <td>-0.023963</td>\n",
       "      <td>0.098314</td>\n",
       "      <td>-0.208459</td>\n",
       "      <td>0.014711</td>\n",
       "    </tr>\n",
       "  </tbody>\n",
       "</table>\n",
       "<p>5 rows × 21 columns</p>\n",
       "</div>"
      ],
      "text/plain": [
       "        Fraud  Actual/mean_Cardnum_30d  Actual/mean_Merchnum_14d  \\\n",
       "Recnum                                                             \n",
       "1173        0                -0.393933                  0.414291   \n",
       "64224       0                 0.356711                 -0.010515   \n",
       "21305       0                -0.411196                  0.001750   \n",
       "56467       0                -0.512506                  0.002873   \n",
       "62362       0                -0.046142                 -0.159239   \n",
       "\n",
       "        Actual/mean_Merchnum_30d  Actual/mean_Merchnum_7d  \\\n",
       "Recnum                                                      \n",
       "1173                    0.322914                 0.459085   \n",
       "64224                  -0.049512                -0.014458   \n",
       "21305                   0.001823                -0.000786   \n",
       "56467                   0.102281                -0.000786   \n",
       "62362                  -0.087947                -0.092043   \n",
       "\n",
       "        Actual/median_Merchnum_7d  Actual/sum_Cardnum_Merch zip_3d  \\\n",
       "Recnum                                                               \n",
       "1173                    -0.002285                         0.529859   \n",
       "64224                   -0.031936                         0.529859   \n",
       "21305                   -0.031299                         0.529859   \n",
       "56467                   -0.031299                         0.529859   \n",
       "62362                   -0.016727                         0.529859   \n",
       "\n",
       "        Actual/sum_Cardnum_Merchnum_3d  Days_since_per_Cardnum  \\\n",
       "Recnum                                                           \n",
       "1173                          0.505899               -0.160538   \n",
       "64224                         0.505899               -0.160538   \n",
       "21305                         0.505899                0.109035   \n",
       "56467                         0.505899               -0.139801   \n",
       "62362                         0.505899               -0.222747   \n",
       "\n",
       "        Days_since_per_Cardnum_Merch state        ...         \\\n",
       "Recnum                                            ...          \n",
       "1173                              2.184037        ...          \n",
       "64224                            -0.557961        ...          \n",
       "21305                            -0.459492        ...          \n",
       "56467                            -0.535237        ...          \n",
       "62362                            -0.179232        ...          \n",
       "\n",
       "        count_Cardnum_7d  count_Cardnum_Merch state_3d  \\\n",
       "Recnum                                                   \n",
       "1173           -0.305396                     -0.227509   \n",
       "64224          -0.305396                     -0.227509   \n",
       "21305          -0.368917                     -0.227509   \n",
       "56467          -0.114835                     -0.227509   \n",
       "62362          -0.051314                     -0.227509   \n",
       "\n",
       "        count_Cardnum_Merch state_7d  count_Cardnum_Merch zip_3d  \\\n",
       "Recnum                                                             \n",
       "1173                       -0.212899                   -0.207194   \n",
       "64224                      -0.148293                   -0.207194   \n",
       "21305                      -0.212899                   -0.207194   \n",
       "56467                      -0.148293                   -0.207194   \n",
       "62362                      -0.212899                   -0.207194   \n",
       "\n",
       "        count_Cardnum_Merchnum_3d  count_Cardnum_Merchnum_7d  mean_Cardnum_1d  \\\n",
       "Recnum                                                                          \n",
       "1173                    -0.204367                  -0.185907        -0.436694   \n",
       "64224                   -0.204367                  -0.118669        -0.087443   \n",
       "21305                   -0.204367                  -0.185907        -0.456684   \n",
       "56467                   -0.204367                  -0.185907        -0.379240   \n",
       "62362                   -0.204367                  -0.185907        -0.023963   \n",
       "\n",
       "        Actual/count_Cardnum_1d  Actual/count_Cardnum_30d  mean_Cardnum_30d  \n",
       "Recnum                                                                       \n",
       "1173                  -0.371789                 -0.126327         -0.402051  \n",
       "64224                  0.026010                 -0.050276         -0.388934  \n",
       "21305                 -0.394559                 -0.205120         -0.455365  \n",
       "56467                 -0.448810                 -0.281238         -0.218561  \n",
       "62362                  0.098314                 -0.208459          0.014711  \n",
       "\n",
       "[5 rows x 21 columns]"
      ]
     },
     "execution_count": 75,
     "metadata": {},
     "output_type": "execute_result"
    }
   ],
   "source": [
    "test.head()"
   ]
  },
  {
   "cell_type": "code",
   "execution_count": 76,
   "metadata": {},
   "outputs": [
    {
     "data": {
      "text/html": [
       "<div>\n",
       "<style scoped>\n",
       "    .dataframe tbody tr th:only-of-type {\n",
       "        vertical-align: middle;\n",
       "    }\n",
       "\n",
       "    .dataframe tbody tr th {\n",
       "        vertical-align: top;\n",
       "    }\n",
       "\n",
       "    .dataframe thead th {\n",
       "        text-align: right;\n",
       "    }\n",
       "</style>\n",
       "<table border=\"1\" class=\"dataframe\">\n",
       "  <thead>\n",
       "    <tr style=\"text-align: right;\">\n",
       "      <th></th>\n",
       "      <th>Fraud</th>\n",
       "      <th>Actual/mean_Cardnum_30d</th>\n",
       "      <th>Actual/mean_Merchnum_14d</th>\n",
       "      <th>Actual/mean_Merchnum_30d</th>\n",
       "      <th>Actual/mean_Merchnum_7d</th>\n",
       "      <th>Actual/median_Merchnum_7d</th>\n",
       "      <th>Actual/sum_Cardnum_Merch zip_3d</th>\n",
       "      <th>Actual/sum_Cardnum_Merchnum_3d</th>\n",
       "      <th>Days_since_per_Cardnum</th>\n",
       "      <th>Days_since_per_Cardnum_Merch state</th>\n",
       "      <th>...</th>\n",
       "      <th>count_Cardnum_7d</th>\n",
       "      <th>count_Cardnum_Merch state_3d</th>\n",
       "      <th>count_Cardnum_Merch state_7d</th>\n",
       "      <th>count_Cardnum_Merch zip_3d</th>\n",
       "      <th>count_Cardnum_Merchnum_3d</th>\n",
       "      <th>count_Cardnum_Merchnum_7d</th>\n",
       "      <th>mean_Cardnum_1d</th>\n",
       "      <th>Actual/count_Cardnum_1d</th>\n",
       "      <th>Actual/count_Cardnum_30d</th>\n",
       "      <th>mean_Cardnum_30d</th>\n",
       "    </tr>\n",
       "  </thead>\n",
       "  <tbody>\n",
       "    <tr>\n",
       "      <th>count</th>\n",
       "      <td>16794.000000</td>\n",
       "      <td>16794.000000</td>\n",
       "      <td>16794.000000</td>\n",
       "      <td>16794.000000</td>\n",
       "      <td>16794.000000</td>\n",
       "      <td>16794.000000</td>\n",
       "      <td>16794.000000</td>\n",
       "      <td>16794.000000</td>\n",
       "      <td>16794.000000</td>\n",
       "      <td>16794.000000</td>\n",
       "      <td>...</td>\n",
       "      <td>16794.000000</td>\n",
       "      <td>16794.000000</td>\n",
       "      <td>16794.000000</td>\n",
       "      <td>16794.000000</td>\n",
       "      <td>16794.000000</td>\n",
       "      <td>16794.000000</td>\n",
       "      <td>16794.000000</td>\n",
       "      <td>16794.000000</td>\n",
       "      <td>16794.000000</td>\n",
       "      <td>16794.000000</td>\n",
       "    </tr>\n",
       "    <tr>\n",
       "      <th>mean</th>\n",
       "      <td>0.010301</td>\n",
       "      <td>0.002214</td>\n",
       "      <td>0.018528</td>\n",
       "      <td>0.019594</td>\n",
       "      <td>0.018109</td>\n",
       "      <td>0.020243</td>\n",
       "      <td>0.000092</td>\n",
       "      <td>0.000148</td>\n",
       "      <td>0.008076</td>\n",
       "      <td>0.015860</td>\n",
       "      <td>...</td>\n",
       "      <td>0.008307</td>\n",
       "      <td>0.003308</td>\n",
       "      <td>0.007387</td>\n",
       "      <td>0.003283</td>\n",
       "      <td>0.004014</td>\n",
       "      <td>0.007796</td>\n",
       "      <td>0.000995</td>\n",
       "      <td>-0.001191</td>\n",
       "      <td>-0.002762</td>\n",
       "      <td>0.002319</td>\n",
       "    </tr>\n",
       "    <tr>\n",
       "      <th>std</th>\n",
       "      <td>0.100974</td>\n",
       "      <td>0.898447</td>\n",
       "      <td>1.674459</td>\n",
       "      <td>1.963549</td>\n",
       "      <td>1.503177</td>\n",
       "      <td>2.260385</td>\n",
       "      <td>1.000545</td>\n",
       "      <td>1.001272</td>\n",
       "      <td>1.045713</td>\n",
       "      <td>1.023842</td>\n",
       "      <td>...</td>\n",
       "      <td>1.028878</td>\n",
       "      <td>0.995628</td>\n",
       "      <td>1.032680</td>\n",
       "      <td>0.995901</td>\n",
       "      <td>1.000678</td>\n",
       "      <td>1.033955</td>\n",
       "      <td>0.999205</td>\n",
       "      <td>0.998090</td>\n",
       "      <td>1.242584</td>\n",
       "      <td>1.065615</td>\n",
       "    </tr>\n",
       "    <tr>\n",
       "      <th>min</th>\n",
       "      <td>0.000000</td>\n",
       "      <td>-0.628231</td>\n",
       "      <td>-0.414868</td>\n",
       "      <td>-0.322329</td>\n",
       "      <td>-0.465324</td>\n",
       "      <td>-0.052951</td>\n",
       "      <td>-2.562306</td>\n",
       "      <td>-2.670764</td>\n",
       "      <td>-0.222747</td>\n",
       "      <td>-0.580685</td>\n",
       "      <td>...</td>\n",
       "      <td>-0.368917</td>\n",
       "      <td>-0.227509</td>\n",
       "      <td>-0.212899</td>\n",
       "      <td>-0.207194</td>\n",
       "      <td>-0.204367</td>\n",
       "      <td>-0.185907</td>\n",
       "      <td>-0.541448</td>\n",
       "      <td>-0.491105</td>\n",
       "      <td>-0.297412</td>\n",
       "      <td>-0.823278</td>\n",
       "    </tr>\n",
       "    <tr>\n",
       "      <th>25%</th>\n",
       "      <td>0.000000</td>\n",
       "      <td>-0.507252</td>\n",
       "      <td>-0.273827</td>\n",
       "      <td>-0.229746</td>\n",
       "      <td>-0.271152</td>\n",
       "      <td>-0.031594</td>\n",
       "      <td>0.494146</td>\n",
       "      <td>0.505899</td>\n",
       "      <td>-0.222747</td>\n",
       "      <td>-0.573110</td>\n",
       "      <td>...</td>\n",
       "      <td>-0.305396</td>\n",
       "      <td>-0.227509</td>\n",
       "      <td>-0.212899</td>\n",
       "      <td>-0.207194</td>\n",
       "      <td>-0.204367</td>\n",
       "      <td>-0.185907</td>\n",
       "      <td>-0.485341</td>\n",
       "      <td>-0.455674</td>\n",
       "      <td>-0.285293</td>\n",
       "      <td>-0.519148</td>\n",
       "    </tr>\n",
       "    <tr>\n",
       "      <th>50%</th>\n",
       "      <td>0.000000</td>\n",
       "      <td>-0.252415</td>\n",
       "      <td>0.001750</td>\n",
       "      <td>-0.010887</td>\n",
       "      <td>-0.000786</td>\n",
       "      <td>-0.031299</td>\n",
       "      <td>0.529859</td>\n",
       "      <td>0.505899</td>\n",
       "      <td>-0.202011</td>\n",
       "      <td>-0.520088</td>\n",
       "      <td>...</td>\n",
       "      <td>-0.178355</td>\n",
       "      <td>-0.227509</td>\n",
       "      <td>-0.212899</td>\n",
       "      <td>-0.207194</td>\n",
       "      <td>-0.204367</td>\n",
       "      <td>-0.185907</td>\n",
       "      <td>-0.321610</td>\n",
       "      <td>-0.332961</td>\n",
       "      <td>-0.237958</td>\n",
       "      <td>-0.189871</td>\n",
       "    </tr>\n",
       "    <tr>\n",
       "      <th>75%</th>\n",
       "      <td>0.000000</td>\n",
       "      <td>0.163831</td>\n",
       "      <td>0.001750</td>\n",
       "      <td>0.001823</td>\n",
       "      <td>-0.000786</td>\n",
       "      <td>-0.030532</td>\n",
       "      <td>0.529859</td>\n",
       "      <td>0.505899</td>\n",
       "      <td>-0.119065</td>\n",
       "      <td>-0.156508</td>\n",
       "      <td>...</td>\n",
       "      <td>0.012206</td>\n",
       "      <td>-0.107245</td>\n",
       "      <td>-0.083686</td>\n",
       "      <td>-0.086920</td>\n",
       "      <td>-0.204367</td>\n",
       "      <td>-0.118669</td>\n",
       "      <td>0.089965</td>\n",
       "      <td>0.029011</td>\n",
       "      <td>-0.073098</td>\n",
       "      <td>0.212999</td>\n",
       "    </tr>\n",
       "    <tr>\n",
       "      <th>max</th>\n",
       "      <td>1.000000</td>\n",
       "      <td>19.283387</td>\n",
       "      <td>166.420399</td>\n",
       "      <td>232.224654</td>\n",
       "      <td>113.989360</td>\n",
       "      <td>282.731094</td>\n",
       "      <td>0.529859</td>\n",
       "      <td>0.505899</td>\n",
       "      <td>7.346025</td>\n",
       "      <td>2.184037</td>\n",
       "      <td>...</td>\n",
       "      <td>21.291594</td>\n",
       "      <td>19.615984</td>\n",
       "      <td>21.817819</td>\n",
       "      <td>19.638077</td>\n",
       "      <td>20.319054</td>\n",
       "      <td>22.002589</td>\n",
       "      <td>34.541812</td>\n",
       "      <td>37.040048</td>\n",
       "      <td>107.320257</td>\n",
       "      <td>52.113894</td>\n",
       "    </tr>\n",
       "  </tbody>\n",
       "</table>\n",
       "<p>8 rows × 21 columns</p>\n",
       "</div>"
      ],
      "text/plain": [
       "              Fraud  Actual/mean_Cardnum_30d  Actual/mean_Merchnum_14d  \\\n",
       "count  16794.000000             16794.000000              16794.000000   \n",
       "mean       0.010301                 0.002214                  0.018528   \n",
       "std        0.100974                 0.898447                  1.674459   \n",
       "min        0.000000                -0.628231                 -0.414868   \n",
       "25%        0.000000                -0.507252                 -0.273827   \n",
       "50%        0.000000                -0.252415                  0.001750   \n",
       "75%        0.000000                 0.163831                  0.001750   \n",
       "max        1.000000                19.283387                166.420399   \n",
       "\n",
       "       Actual/mean_Merchnum_30d  Actual/mean_Merchnum_7d  \\\n",
       "count              16794.000000             16794.000000   \n",
       "mean                   0.019594                 0.018109   \n",
       "std                    1.963549                 1.503177   \n",
       "min                   -0.322329                -0.465324   \n",
       "25%                   -0.229746                -0.271152   \n",
       "50%                   -0.010887                -0.000786   \n",
       "75%                    0.001823                -0.000786   \n",
       "max                  232.224654               113.989360   \n",
       "\n",
       "       Actual/median_Merchnum_7d  Actual/sum_Cardnum_Merch zip_3d  \\\n",
       "count               16794.000000                     16794.000000   \n",
       "mean                    0.020243                         0.000092   \n",
       "std                     2.260385                         1.000545   \n",
       "min                    -0.052951                        -2.562306   \n",
       "25%                    -0.031594                         0.494146   \n",
       "50%                    -0.031299                         0.529859   \n",
       "75%                    -0.030532                         0.529859   \n",
       "max                   282.731094                         0.529859   \n",
       "\n",
       "       Actual/sum_Cardnum_Merchnum_3d  Days_since_per_Cardnum  \\\n",
       "count                    16794.000000            16794.000000   \n",
       "mean                         0.000148                0.008076   \n",
       "std                          1.001272                1.045713   \n",
       "min                         -2.670764               -0.222747   \n",
       "25%                          0.505899               -0.222747   \n",
       "50%                          0.505899               -0.202011   \n",
       "75%                          0.505899               -0.119065   \n",
       "max                          0.505899                7.346025   \n",
       "\n",
       "       Days_since_per_Cardnum_Merch state        ...         count_Cardnum_7d  \\\n",
       "count                        16794.000000        ...             16794.000000   \n",
       "mean                             0.015860        ...                 0.008307   \n",
       "std                              1.023842        ...                 1.028878   \n",
       "min                             -0.580685        ...                -0.368917   \n",
       "25%                             -0.573110        ...                -0.305396   \n",
       "50%                             -0.520088        ...                -0.178355   \n",
       "75%                             -0.156508        ...                 0.012206   \n",
       "max                              2.184037        ...                21.291594   \n",
       "\n",
       "       count_Cardnum_Merch state_3d  count_Cardnum_Merch state_7d  \\\n",
       "count                  16794.000000                  16794.000000   \n",
       "mean                       0.003308                      0.007387   \n",
       "std                        0.995628                      1.032680   \n",
       "min                       -0.227509                     -0.212899   \n",
       "25%                       -0.227509                     -0.212899   \n",
       "50%                       -0.227509                     -0.212899   \n",
       "75%                       -0.107245                     -0.083686   \n",
       "max                       19.615984                     21.817819   \n",
       "\n",
       "       count_Cardnum_Merch zip_3d  count_Cardnum_Merchnum_3d  \\\n",
       "count                16794.000000               16794.000000   \n",
       "mean                     0.003283                   0.004014   \n",
       "std                      0.995901                   1.000678   \n",
       "min                     -0.207194                  -0.204367   \n",
       "25%                     -0.207194                  -0.204367   \n",
       "50%                     -0.207194                  -0.204367   \n",
       "75%                     -0.086920                  -0.204367   \n",
       "max                     19.638077                  20.319054   \n",
       "\n",
       "       count_Cardnum_Merchnum_7d  mean_Cardnum_1d  Actual/count_Cardnum_1d  \\\n",
       "count               16794.000000     16794.000000             16794.000000   \n",
       "mean                    0.007796         0.000995                -0.001191   \n",
       "std                     1.033955         0.999205                 0.998090   \n",
       "min                    -0.185907        -0.541448                -0.491105   \n",
       "25%                    -0.185907        -0.485341                -0.455674   \n",
       "50%                    -0.185907        -0.321610                -0.332961   \n",
       "75%                    -0.118669         0.089965                 0.029011   \n",
       "max                    22.002589        34.541812                37.040048   \n",
       "\n",
       "       Actual/count_Cardnum_30d  mean_Cardnum_30d  \n",
       "count              16794.000000      16794.000000  \n",
       "mean                  -0.002762          0.002319  \n",
       "std                    1.242584          1.065615  \n",
       "min                   -0.297412         -0.823278  \n",
       "25%                   -0.285293         -0.519148  \n",
       "50%                   -0.237958         -0.189871  \n",
       "75%                   -0.073098          0.212999  \n",
       "max                  107.320257         52.113894  \n",
       "\n",
       "[8 rows x 21 columns]"
      ]
     },
     "execution_count": 76,
     "metadata": {},
     "output_type": "execute_result"
    }
   ],
   "source": [
    "test.describe()"
   ]
  },
  {
   "cell_type": "code",
   "execution_count": 78,
   "metadata": {},
   "outputs": [
    {
     "name": "stdout",
     "output_type": "stream",
     "text": [
      "173\n",
      "0.010301298082648565\n"
     ]
    }
   ],
   "source": [
    "print(sum(test['Fraud']))\n",
    "print(sum(test['Fraud'])/len(test['Fraud']))"
   ]
  },
  {
   "cell_type": "markdown",
   "metadata": {
    "nbpresent": {
     "id": "6dd1e682-6841-4836-a4cd-9786c98d6d8d"
    }
   },
   "source": [
    "## Build algorithm"
   ]
  },
  {
   "cell_type": "code",
   "execution_count": 79,
   "metadata": {
    "nbpresent": {
     "id": "8ff86ed0-ffa6-4cf9-8314-f3b419fa06ce"
    },
    "scrolled": true
   },
   "outputs": [
    {
     "data": {
      "text/html": [
       "<div>\n",
       "<style scoped>\n",
       "    .dataframe tbody tr th:only-of-type {\n",
       "        vertical-align: middle;\n",
       "    }\n",
       "\n",
       "    .dataframe tbody tr th {\n",
       "        vertical-align: top;\n",
       "    }\n",
       "\n",
       "    .dataframe thead th {\n",
       "        text-align: right;\n",
       "    }\n",
       "</style>\n",
       "<table border=\"1\" class=\"dataframe\">\n",
       "  <thead>\n",
       "    <tr style=\"text-align: right;\">\n",
       "      <th></th>\n",
       "      <th>Actual/mean_Cardnum_30d</th>\n",
       "      <th>Actual/mean_Merchnum_14d</th>\n",
       "      <th>Actual/mean_Merchnum_30d</th>\n",
       "      <th>Actual/mean_Merchnum_7d</th>\n",
       "      <th>Actual/median_Merchnum_7d</th>\n",
       "      <th>Actual/sum_Cardnum_Merch zip_3d</th>\n",
       "      <th>Actual/sum_Cardnum_Merchnum_3d</th>\n",
       "      <th>Days_since_per_Cardnum</th>\n",
       "      <th>Days_since_per_Cardnum_Merch state</th>\n",
       "      <th>count_Cardnum_1d</th>\n",
       "      <th>count_Cardnum_7d</th>\n",
       "      <th>count_Cardnum_Merch state_3d</th>\n",
       "      <th>count_Cardnum_Merch state_7d</th>\n",
       "      <th>count_Cardnum_Merch zip_3d</th>\n",
       "      <th>count_Cardnum_Merchnum_3d</th>\n",
       "      <th>count_Cardnum_Merchnum_7d</th>\n",
       "      <th>mean_Cardnum_1d</th>\n",
       "      <th>Actual/count_Cardnum_1d</th>\n",
       "      <th>Actual/count_Cardnum_30d</th>\n",
       "      <th>mean_Cardnum_30d</th>\n",
       "    </tr>\n",
       "    <tr>\n",
       "      <th>Recnum</th>\n",
       "      <th></th>\n",
       "      <th></th>\n",
       "      <th></th>\n",
       "      <th></th>\n",
       "      <th></th>\n",
       "      <th></th>\n",
       "      <th></th>\n",
       "      <th></th>\n",
       "      <th></th>\n",
       "      <th></th>\n",
       "      <th></th>\n",
       "      <th></th>\n",
       "      <th></th>\n",
       "      <th></th>\n",
       "      <th></th>\n",
       "      <th></th>\n",
       "      <th></th>\n",
       "      <th></th>\n",
       "      <th></th>\n",
       "      <th></th>\n",
       "    </tr>\n",
       "  </thead>\n",
       "  <tbody>\n",
       "    <tr>\n",
       "      <th>65692</th>\n",
       "      <td>-0.515356</td>\n",
       "      <td>0.252535</td>\n",
       "      <td>0.041959</td>\n",
       "      <td>-0.014424</td>\n",
       "      <td>0.141105</td>\n",
       "      <td>-0.349862</td>\n",
       "      <td>-0.397862</td>\n",
       "      <td>-0.222747</td>\n",
       "      <td>-0.580685</td>\n",
       "      <td>0.254302</td>\n",
       "      <td>-0.051314</td>\n",
       "      <td>0.013019</td>\n",
       "      <td>-0.083686</td>\n",
       "      <td>0.033355</td>\n",
       "      <td>0.044402</td>\n",
       "      <td>-0.051431</td>\n",
       "      <td>-0.425295</td>\n",
       "      <td>-0.477997</td>\n",
       "      <td>-0.280689</td>\n",
       "      <td>-0.438790</td>\n",
       "    </tr>\n",
       "    <tr>\n",
       "      <th>23220</th>\n",
       "      <td>0.004730</td>\n",
       "      <td>-0.322369</td>\n",
       "      <td>-0.231213</td>\n",
       "      <td>-0.000786</td>\n",
       "      <td>-0.031299</td>\n",
       "      <td>0.529859</td>\n",
       "      <td>0.505899</td>\n",
       "      <td>-0.056856</td>\n",
       "      <td>-0.520088</td>\n",
       "      <td>-0.245524</td>\n",
       "      <td>-0.368917</td>\n",
       "      <td>-0.227509</td>\n",
       "      <td>-0.212899</td>\n",
       "      <td>-0.207194</td>\n",
       "      <td>-0.204367</td>\n",
       "      <td>-0.185907</td>\n",
       "      <td>-0.469039</td>\n",
       "      <td>-0.408631</td>\n",
       "      <td>-0.218570</td>\n",
       "      <td>-0.715735</td>\n",
       "    </tr>\n",
       "    <tr>\n",
       "      <th>65844</th>\n",
       "      <td>-0.270497</td>\n",
       "      <td>0.001750</td>\n",
       "      <td>0.001823</td>\n",
       "      <td>-0.000786</td>\n",
       "      <td>-0.031299</td>\n",
       "      <td>0.529859</td>\n",
       "      <td>0.505899</td>\n",
       "      <td>-0.098329</td>\n",
       "      <td>2.184037</td>\n",
       "      <td>-0.245524</td>\n",
       "      <td>-0.305396</td>\n",
       "      <td>-0.227509</td>\n",
       "      <td>-0.212899</td>\n",
       "      <td>-0.207194</td>\n",
       "      <td>-0.204367</td>\n",
       "      <td>-0.185907</td>\n",
       "      <td>0.146445</td>\n",
       "      <td>0.292411</td>\n",
       "      <td>0.151928</td>\n",
       "      <td>0.989532</td>\n",
       "    </tr>\n",
       "    <tr>\n",
       "      <th>19799</th>\n",
       "      <td>-0.115891</td>\n",
       "      <td>0.001750</td>\n",
       "      <td>0.001823</td>\n",
       "      <td>-0.000786</td>\n",
       "      <td>-0.031299</td>\n",
       "      <td>-1.017089</td>\n",
       "      <td>-1.083322</td>\n",
       "      <td>-0.222747</td>\n",
       "      <td>-0.565536</td>\n",
       "      <td>0.420911</td>\n",
       "      <td>0.075727</td>\n",
       "      <td>-0.107245</td>\n",
       "      <td>-0.148293</td>\n",
       "      <td>-0.086920</td>\n",
       "      <td>-0.079983</td>\n",
       "      <td>-0.118669</td>\n",
       "      <td>-0.181943</td>\n",
       "      <td>-0.419979</td>\n",
       "      <td>-0.269848</td>\n",
       "      <td>-0.248851</td>\n",
       "    </tr>\n",
       "    <tr>\n",
       "      <th>68306</th>\n",
       "      <td>1.322042</td>\n",
       "      <td>0.451580</td>\n",
       "      <td>0.258612</td>\n",
       "      <td>0.685772</td>\n",
       "      <td>0.073252</td>\n",
       "      <td>0.529859</td>\n",
       "      <td>0.505899</td>\n",
       "      <td>-0.160538</td>\n",
       "      <td>-0.020166</td>\n",
       "      <td>-0.245524</td>\n",
       "      <td>-0.114835</td>\n",
       "      <td>-0.227509</td>\n",
       "      <td>-0.212899</td>\n",
       "      <td>-0.207194</td>\n",
       "      <td>-0.204367</td>\n",
       "      <td>-0.185907</td>\n",
       "      <td>1.276773</td>\n",
       "      <td>1.579863</td>\n",
       "      <td>-0.014635</td>\n",
       "      <td>0.055582</td>\n",
       "    </tr>\n",
       "  </tbody>\n",
       "</table>\n",
       "</div>"
      ],
      "text/plain": [
       "        Actual/mean_Cardnum_30d  Actual/mean_Merchnum_14d  \\\n",
       "Recnum                                                      \n",
       "65692                 -0.515356                  0.252535   \n",
       "23220                  0.004730                 -0.322369   \n",
       "65844                 -0.270497                  0.001750   \n",
       "19799                 -0.115891                  0.001750   \n",
       "68306                  1.322042                  0.451580   \n",
       "\n",
       "        Actual/mean_Merchnum_30d  Actual/mean_Merchnum_7d  \\\n",
       "Recnum                                                      \n",
       "65692                   0.041959                -0.014424   \n",
       "23220                  -0.231213                -0.000786   \n",
       "65844                   0.001823                -0.000786   \n",
       "19799                   0.001823                -0.000786   \n",
       "68306                   0.258612                 0.685772   \n",
       "\n",
       "        Actual/median_Merchnum_7d  Actual/sum_Cardnum_Merch zip_3d  \\\n",
       "Recnum                                                               \n",
       "65692                    0.141105                        -0.349862   \n",
       "23220                   -0.031299                         0.529859   \n",
       "65844                   -0.031299                         0.529859   \n",
       "19799                   -0.031299                        -1.017089   \n",
       "68306                    0.073252                         0.529859   \n",
       "\n",
       "        Actual/sum_Cardnum_Merchnum_3d  Days_since_per_Cardnum  \\\n",
       "Recnum                                                           \n",
       "65692                        -0.397862               -0.222747   \n",
       "23220                         0.505899               -0.056856   \n",
       "65844                         0.505899               -0.098329   \n",
       "19799                        -1.083322               -0.222747   \n",
       "68306                         0.505899               -0.160538   \n",
       "\n",
       "        Days_since_per_Cardnum_Merch state  count_Cardnum_1d  \\\n",
       "Recnum                                                         \n",
       "65692                            -0.580685          0.254302   \n",
       "23220                            -0.520088         -0.245524   \n",
       "65844                             2.184037         -0.245524   \n",
       "19799                            -0.565536          0.420911   \n",
       "68306                            -0.020166         -0.245524   \n",
       "\n",
       "        count_Cardnum_7d  count_Cardnum_Merch state_3d  \\\n",
       "Recnum                                                   \n",
       "65692          -0.051314                      0.013019   \n",
       "23220          -0.368917                     -0.227509   \n",
       "65844          -0.305396                     -0.227509   \n",
       "19799           0.075727                     -0.107245   \n",
       "68306          -0.114835                     -0.227509   \n",
       "\n",
       "        count_Cardnum_Merch state_7d  count_Cardnum_Merch zip_3d  \\\n",
       "Recnum                                                             \n",
       "65692                      -0.083686                    0.033355   \n",
       "23220                      -0.212899                   -0.207194   \n",
       "65844                      -0.212899                   -0.207194   \n",
       "19799                      -0.148293                   -0.086920   \n",
       "68306                      -0.212899                   -0.207194   \n",
       "\n",
       "        count_Cardnum_Merchnum_3d  count_Cardnum_Merchnum_7d  mean_Cardnum_1d  \\\n",
       "Recnum                                                                          \n",
       "65692                    0.044402                  -0.051431        -0.425295   \n",
       "23220                   -0.204367                  -0.185907        -0.469039   \n",
       "65844                   -0.204367                  -0.185907         0.146445   \n",
       "19799                   -0.079983                  -0.118669        -0.181943   \n",
       "68306                   -0.204367                  -0.185907         1.276773   \n",
       "\n",
       "        Actual/count_Cardnum_1d  Actual/count_Cardnum_30d  mean_Cardnum_30d  \n",
       "Recnum                                                                       \n",
       "65692                 -0.477997                 -0.280689         -0.438790  \n",
       "23220                 -0.408631                 -0.218570         -0.715735  \n",
       "65844                  0.292411                  0.151928          0.989532  \n",
       "19799                 -0.419979                 -0.269848         -0.248851  \n",
       "68306                  1.579863                 -0.014635          0.055582  "
      ]
     },
     "execution_count": 79,
     "metadata": {},
     "output_type": "execute_result"
    }
   ],
   "source": [
    "# split lables and features\n",
    "train_lab = train[\"Fraud\"]\n",
    "train_fea = train.iloc[:,1:]\n",
    "\n",
    "train_fea.head()"
   ]
  },
  {
   "cell_type": "code",
   "execution_count": 80,
   "metadata": {},
   "outputs": [
    {
     "data": {
      "text/html": [
       "<div>\n",
       "<style scoped>\n",
       "    .dataframe tbody tr th:only-of-type {\n",
       "        vertical-align: middle;\n",
       "    }\n",
       "\n",
       "    .dataframe tbody tr th {\n",
       "        vertical-align: top;\n",
       "    }\n",
       "\n",
       "    .dataframe thead th {\n",
       "        text-align: right;\n",
       "    }\n",
       "</style>\n",
       "<table border=\"1\" class=\"dataframe\">\n",
       "  <thead>\n",
       "    <tr style=\"text-align: right;\">\n",
       "      <th></th>\n",
       "      <th>Actual/mean_Cardnum_30d</th>\n",
       "      <th>Actual/mean_Merchnum_14d</th>\n",
       "      <th>Actual/mean_Merchnum_30d</th>\n",
       "      <th>Actual/mean_Merchnum_7d</th>\n",
       "      <th>Actual/median_Merchnum_7d</th>\n",
       "      <th>Actual/sum_Cardnum_Merch zip_3d</th>\n",
       "      <th>Actual/sum_Cardnum_Merchnum_3d</th>\n",
       "      <th>Days_since_per_Cardnum</th>\n",
       "      <th>Days_since_per_Cardnum_Merch state</th>\n",
       "      <th>count_Cardnum_1d</th>\n",
       "      <th>count_Cardnum_7d</th>\n",
       "      <th>count_Cardnum_Merch state_3d</th>\n",
       "      <th>count_Cardnum_Merch state_7d</th>\n",
       "      <th>count_Cardnum_Merch zip_3d</th>\n",
       "      <th>count_Cardnum_Merchnum_3d</th>\n",
       "      <th>count_Cardnum_Merchnum_7d</th>\n",
       "      <th>mean_Cardnum_1d</th>\n",
       "      <th>Actual/count_Cardnum_1d</th>\n",
       "      <th>Actual/count_Cardnum_30d</th>\n",
       "      <th>mean_Cardnum_30d</th>\n",
       "    </tr>\n",
       "    <tr>\n",
       "      <th>Recnum</th>\n",
       "      <th></th>\n",
       "      <th></th>\n",
       "      <th></th>\n",
       "      <th></th>\n",
       "      <th></th>\n",
       "      <th></th>\n",
       "      <th></th>\n",
       "      <th></th>\n",
       "      <th></th>\n",
       "      <th></th>\n",
       "      <th></th>\n",
       "      <th></th>\n",
       "      <th></th>\n",
       "      <th></th>\n",
       "      <th></th>\n",
       "      <th></th>\n",
       "      <th></th>\n",
       "      <th></th>\n",
       "      <th></th>\n",
       "      <th></th>\n",
       "    </tr>\n",
       "  </thead>\n",
       "  <tbody>\n",
       "    <tr>\n",
       "      <th>1173</th>\n",
       "      <td>-0.393933</td>\n",
       "      <td>0.414291</td>\n",
       "      <td>0.322914</td>\n",
       "      <td>0.459085</td>\n",
       "      <td>-0.002285</td>\n",
       "      <td>0.529859</td>\n",
       "      <td>0.505899</td>\n",
       "      <td>-0.160538</td>\n",
       "      <td>2.184037</td>\n",
       "      <td>-0.245524</td>\n",
       "      <td>-0.305396</td>\n",
       "      <td>-0.227509</td>\n",
       "      <td>-0.212899</td>\n",
       "      <td>-0.207194</td>\n",
       "      <td>-0.204367</td>\n",
       "      <td>-0.185907</td>\n",
       "      <td>-0.436694</td>\n",
       "      <td>-0.371789</td>\n",
       "      <td>-0.126327</td>\n",
       "      <td>-0.402051</td>\n",
       "    </tr>\n",
       "    <tr>\n",
       "      <th>64224</th>\n",
       "      <td>0.356711</td>\n",
       "      <td>-0.010515</td>\n",
       "      <td>-0.049512</td>\n",
       "      <td>-0.014458</td>\n",
       "      <td>-0.031936</td>\n",
       "      <td>0.529859</td>\n",
       "      <td>0.505899</td>\n",
       "      <td>-0.160538</td>\n",
       "      <td>-0.557961</td>\n",
       "      <td>-0.245524</td>\n",
       "      <td>-0.305396</td>\n",
       "      <td>-0.227509</td>\n",
       "      <td>-0.148293</td>\n",
       "      <td>-0.207194</td>\n",
       "      <td>-0.204367</td>\n",
       "      <td>-0.118669</td>\n",
       "      <td>-0.087443</td>\n",
       "      <td>0.026010</td>\n",
       "      <td>-0.050276</td>\n",
       "      <td>-0.388934</td>\n",
       "    </tr>\n",
       "    <tr>\n",
       "      <th>21305</th>\n",
       "      <td>-0.411196</td>\n",
       "      <td>0.001750</td>\n",
       "      <td>0.001823</td>\n",
       "      <td>-0.000786</td>\n",
       "      <td>-0.031299</td>\n",
       "      <td>0.529859</td>\n",
       "      <td>0.505899</td>\n",
       "      <td>0.109035</td>\n",
       "      <td>-0.459492</td>\n",
       "      <td>-0.245524</td>\n",
       "      <td>-0.368917</td>\n",
       "      <td>-0.227509</td>\n",
       "      <td>-0.212899</td>\n",
       "      <td>-0.207194</td>\n",
       "      <td>-0.204367</td>\n",
       "      <td>-0.185907</td>\n",
       "      <td>-0.456684</td>\n",
       "      <td>-0.394559</td>\n",
       "      <td>-0.205120</td>\n",
       "      <td>-0.455365</td>\n",
       "    </tr>\n",
       "    <tr>\n",
       "      <th>56467</th>\n",
       "      <td>-0.512506</td>\n",
       "      <td>0.002873</td>\n",
       "      <td>0.102281</td>\n",
       "      <td>-0.000786</td>\n",
       "      <td>-0.031299</td>\n",
       "      <td>0.529859</td>\n",
       "      <td>0.505899</td>\n",
       "      <td>-0.139801</td>\n",
       "      <td>-0.535237</td>\n",
       "      <td>-0.078915</td>\n",
       "      <td>-0.114835</td>\n",
       "      <td>-0.227509</td>\n",
       "      <td>-0.148293</td>\n",
       "      <td>-0.207194</td>\n",
       "      <td>-0.204367</td>\n",
       "      <td>-0.185907</td>\n",
       "      <td>-0.379240</td>\n",
       "      <td>-0.448810</td>\n",
       "      <td>-0.281238</td>\n",
       "      <td>-0.218561</td>\n",
       "    </tr>\n",
       "    <tr>\n",
       "      <th>62362</th>\n",
       "      <td>-0.046142</td>\n",
       "      <td>-0.159239</td>\n",
       "      <td>-0.087947</td>\n",
       "      <td>-0.092043</td>\n",
       "      <td>-0.016727</td>\n",
       "      <td>0.529859</td>\n",
       "      <td>0.505899</td>\n",
       "      <td>-0.222747</td>\n",
       "      <td>-0.179232</td>\n",
       "      <td>-0.245524</td>\n",
       "      <td>-0.051314</td>\n",
       "      <td>-0.227509</td>\n",
       "      <td>-0.212899</td>\n",
       "      <td>-0.207194</td>\n",
       "      <td>-0.204367</td>\n",
       "      <td>-0.185907</td>\n",
       "      <td>-0.023963</td>\n",
       "      <td>0.098314</td>\n",
       "      <td>-0.208459</td>\n",
       "      <td>0.014711</td>\n",
       "    </tr>\n",
       "  </tbody>\n",
       "</table>\n",
       "</div>"
      ],
      "text/plain": [
       "        Actual/mean_Cardnum_30d  Actual/mean_Merchnum_14d  \\\n",
       "Recnum                                                      \n",
       "1173                  -0.393933                  0.414291   \n",
       "64224                  0.356711                 -0.010515   \n",
       "21305                 -0.411196                  0.001750   \n",
       "56467                 -0.512506                  0.002873   \n",
       "62362                 -0.046142                 -0.159239   \n",
       "\n",
       "        Actual/mean_Merchnum_30d  Actual/mean_Merchnum_7d  \\\n",
       "Recnum                                                      \n",
       "1173                    0.322914                 0.459085   \n",
       "64224                  -0.049512                -0.014458   \n",
       "21305                   0.001823                -0.000786   \n",
       "56467                   0.102281                -0.000786   \n",
       "62362                  -0.087947                -0.092043   \n",
       "\n",
       "        Actual/median_Merchnum_7d  Actual/sum_Cardnum_Merch zip_3d  \\\n",
       "Recnum                                                               \n",
       "1173                    -0.002285                         0.529859   \n",
       "64224                   -0.031936                         0.529859   \n",
       "21305                   -0.031299                         0.529859   \n",
       "56467                   -0.031299                         0.529859   \n",
       "62362                   -0.016727                         0.529859   \n",
       "\n",
       "        Actual/sum_Cardnum_Merchnum_3d  Days_since_per_Cardnum  \\\n",
       "Recnum                                                           \n",
       "1173                          0.505899               -0.160538   \n",
       "64224                         0.505899               -0.160538   \n",
       "21305                         0.505899                0.109035   \n",
       "56467                         0.505899               -0.139801   \n",
       "62362                         0.505899               -0.222747   \n",
       "\n",
       "        Days_since_per_Cardnum_Merch state  count_Cardnum_1d  \\\n",
       "Recnum                                                         \n",
       "1173                              2.184037         -0.245524   \n",
       "64224                            -0.557961         -0.245524   \n",
       "21305                            -0.459492         -0.245524   \n",
       "56467                            -0.535237         -0.078915   \n",
       "62362                            -0.179232         -0.245524   \n",
       "\n",
       "        count_Cardnum_7d  count_Cardnum_Merch state_3d  \\\n",
       "Recnum                                                   \n",
       "1173           -0.305396                     -0.227509   \n",
       "64224          -0.305396                     -0.227509   \n",
       "21305          -0.368917                     -0.227509   \n",
       "56467          -0.114835                     -0.227509   \n",
       "62362          -0.051314                     -0.227509   \n",
       "\n",
       "        count_Cardnum_Merch state_7d  count_Cardnum_Merch zip_3d  \\\n",
       "Recnum                                                             \n",
       "1173                       -0.212899                   -0.207194   \n",
       "64224                      -0.148293                   -0.207194   \n",
       "21305                      -0.212899                   -0.207194   \n",
       "56467                      -0.148293                   -0.207194   \n",
       "62362                      -0.212899                   -0.207194   \n",
       "\n",
       "        count_Cardnum_Merchnum_3d  count_Cardnum_Merchnum_7d  mean_Cardnum_1d  \\\n",
       "Recnum                                                                          \n",
       "1173                    -0.204367                  -0.185907        -0.436694   \n",
       "64224                   -0.204367                  -0.118669        -0.087443   \n",
       "21305                   -0.204367                  -0.185907        -0.456684   \n",
       "56467                   -0.204367                  -0.185907        -0.379240   \n",
       "62362                   -0.204367                  -0.185907        -0.023963   \n",
       "\n",
       "        Actual/count_Cardnum_1d  Actual/count_Cardnum_30d  mean_Cardnum_30d  \n",
       "Recnum                                                                       \n",
       "1173                  -0.371789                 -0.126327         -0.402051  \n",
       "64224                  0.026010                 -0.050276         -0.388934  \n",
       "21305                 -0.394559                 -0.205120         -0.455365  \n",
       "56467                 -0.448810                 -0.281238         -0.218561  \n",
       "62362                  0.098314                 -0.208459          0.014711  "
      ]
     },
     "execution_count": 80,
     "metadata": {},
     "output_type": "execute_result"
    }
   ],
   "source": [
    "test_lab = test[\"Fraud\"]\n",
    "test_fea = test.iloc[:,1:]\n",
    "\n",
    "test_fea.head()"
   ]
  },
  {
   "cell_type": "code",
   "execution_count": 107,
   "metadata": {},
   "outputs": [],
   "source": [
    "oot_df = pd.read_csv(\"0325_oot_20var_zscale.csv\", index_col = 0)"
   ]
  },
  {
   "cell_type": "code",
   "execution_count": 108,
   "metadata": {},
   "outputs": [
    {
     "data": {
      "text/html": [
       "<div>\n",
       "<style scoped>\n",
       "    .dataframe tbody tr th:only-of-type {\n",
       "        vertical-align: middle;\n",
       "    }\n",
       "\n",
       "    .dataframe tbody tr th {\n",
       "        vertical-align: top;\n",
       "    }\n",
       "\n",
       "    .dataframe thead th {\n",
       "        text-align: right;\n",
       "    }\n",
       "</style>\n",
       "<table border=\"1\" class=\"dataframe\">\n",
       "  <thead>\n",
       "    <tr style=\"text-align: right;\">\n",
       "      <th></th>\n",
       "      <th>Recnum</th>\n",
       "      <th>Fraud</th>\n",
       "      <th>Actual/mean_Cardnum_30d</th>\n",
       "      <th>Actual/mean_Merchnum_14d</th>\n",
       "      <th>Actual/mean_Merchnum_30d</th>\n",
       "      <th>Actual/mean_Merchnum_7d</th>\n",
       "      <th>Actual/sum_Cardnum_Merch state_3d</th>\n",
       "      <th>Actual/sum_Cardnum_Merch zip_3d</th>\n",
       "      <th>Actual/sum_Cardnum_Merchnum_3d</th>\n",
       "      <th>count_Cardnum_1d</th>\n",
       "      <th>...</th>\n",
       "      <th>count_Cardnum_Merch state_3d</th>\n",
       "      <th>count_Cardnum_Merch state_7d</th>\n",
       "      <th>count_Cardnum_Merch zip_3d</th>\n",
       "      <th>count_Cardnum_Merchnum_7d</th>\n",
       "      <th>Days_since_per_Cardnum</th>\n",
       "      <th>mean_Cardnum_1d</th>\n",
       "      <th>Actual/count_Cardnum_1d</th>\n",
       "      <th>max_Cardnum_1d</th>\n",
       "      <th>max_Cardnum_Merchnum_3d</th>\n",
       "      <th>median_Cardnum_Merchnum_7d</th>\n",
       "    </tr>\n",
       "  </thead>\n",
       "  <tbody>\n",
       "    <tr>\n",
       "      <th>47</th>\n",
       "      <td>85057</td>\n",
       "      <td>0</td>\n",
       "      <td>0.591938</td>\n",
       "      <td>0.001779</td>\n",
       "      <td>0.001854</td>\n",
       "      <td>-0.000772</td>\n",
       "      <td>0.632791</td>\n",
       "      <td>0.530733</td>\n",
       "      <td>0.506863</td>\n",
       "      <td>-0.244334</td>\n",
       "      <td>...</td>\n",
       "      <td>-0.226372</td>\n",
       "      <td>-0.212185</td>\n",
       "      <td>-0.206144</td>\n",
       "      <td>-0.185153</td>\n",
       "      <td>0.201967</td>\n",
       "      <td>-0.095950</td>\n",
       "      <td>0.017075</td>\n",
       "      <td>-0.168852</td>\n",
       "      <td>-0.111763</td>\n",
       "      <td>-0.089775</td>\n",
       "    </tr>\n",
       "    <tr>\n",
       "      <th>48</th>\n",
       "      <td>87822</td>\n",
       "      <td>0</td>\n",
       "      <td>-0.154497</td>\n",
       "      <td>-0.139652</td>\n",
       "      <td>-0.108161</td>\n",
       "      <td>-0.000772</td>\n",
       "      <td>0.632791</td>\n",
       "      <td>0.530733</td>\n",
       "      <td>0.506863</td>\n",
       "      <td>-0.244334</td>\n",
       "      <td>...</td>\n",
       "      <td>-0.226372</td>\n",
       "      <td>-0.212185</td>\n",
       "      <td>-0.206144</td>\n",
       "      <td>-0.185153</td>\n",
       "      <td>-0.162939</td>\n",
       "      <td>-0.324843</td>\n",
       "      <td>-0.244504</td>\n",
       "      <td>-0.329262</td>\n",
       "      <td>-0.275031</td>\n",
       "      <td>-0.300401</td>\n",
       "    </tr>\n",
       "    <tr>\n",
       "      <th>49</th>\n",
       "      <td>91529</td>\n",
       "      <td>0</td>\n",
       "      <td>-0.003210</td>\n",
       "      <td>0.001779</td>\n",
       "      <td>-0.210039</td>\n",
       "      <td>-0.000772</td>\n",
       "      <td>0.632791</td>\n",
       "      <td>0.530733</td>\n",
       "      <td>0.506863</td>\n",
       "      <td>-0.244334</td>\n",
       "      <td>...</td>\n",
       "      <td>-0.226372</td>\n",
       "      <td>-0.212185</td>\n",
       "      <td>-0.206144</td>\n",
       "      <td>-0.185153</td>\n",
       "      <td>0.903707</td>\n",
       "      <td>-0.498480</td>\n",
       "      <td>-0.442938</td>\n",
       "      <td>-0.450948</td>\n",
       "      <td>-0.398885</td>\n",
       "      <td>-0.460183</td>\n",
       "    </tr>\n",
       "    <tr>\n",
       "      <th>50</th>\n",
       "      <td>91745</td>\n",
       "      <td>0</td>\n",
       "      <td>-0.384508</td>\n",
       "      <td>-0.129360</td>\n",
       "      <td>-0.240966</td>\n",
       "      <td>-0.146985</td>\n",
       "      <td>0.632791</td>\n",
       "      <td>0.530733</td>\n",
       "      <td>0.506863</td>\n",
       "      <td>-0.244334</td>\n",
       "      <td>...</td>\n",
       "      <td>-0.226372</td>\n",
       "      <td>-0.212185</td>\n",
       "      <td>-0.206144</td>\n",
       "      <td>-0.185153</td>\n",
       "      <td>-0.162939</td>\n",
       "      <td>-0.519775</td>\n",
       "      <td>-0.467273</td>\n",
       "      <td>-0.465871</td>\n",
       "      <td>-0.414074</td>\n",
       "      <td>-0.479778</td>\n",
       "    </tr>\n",
       "    <tr>\n",
       "      <th>51</th>\n",
       "      <td>91926</td>\n",
       "      <td>0</td>\n",
       "      <td>-0.321605</td>\n",
       "      <td>-0.056970</td>\n",
       "      <td>-0.207929</td>\n",
       "      <td>-0.066274</td>\n",
       "      <td>-0.676613</td>\n",
       "      <td>-0.889717</td>\n",
       "      <td>-0.952330</td>\n",
       "      <td>-0.079562</td>\n",
       "      <td>...</td>\n",
       "      <td>-0.107026</td>\n",
       "      <td>-0.148131</td>\n",
       "      <td>-0.086784</td>\n",
       "      <td>-0.118478</td>\n",
       "      <td>-0.219078</td>\n",
       "      <td>-0.517790</td>\n",
       "      <td>-0.477957</td>\n",
       "      <td>-0.463089</td>\n",
       "      <td>-0.411242</td>\n",
       "      <td>-0.477951</td>\n",
       "    </tr>\n",
       "  </tbody>\n",
       "</table>\n",
       "<p>5 rows × 22 columns</p>\n",
       "</div>"
      ],
      "text/plain": [
       "    Recnum  Fraud  Actual/mean_Cardnum_30d  Actual/mean_Merchnum_14d  \\\n",
       "47   85057      0                 0.591938                  0.001779   \n",
       "48   87822      0                -0.154497                 -0.139652   \n",
       "49   91529      0                -0.003210                  0.001779   \n",
       "50   91745      0                -0.384508                 -0.129360   \n",
       "51   91926      0                -0.321605                 -0.056970   \n",
       "\n",
       "    Actual/mean_Merchnum_30d  Actual/mean_Merchnum_7d  \\\n",
       "47                  0.001854                -0.000772   \n",
       "48                 -0.108161                -0.000772   \n",
       "49                 -0.210039                -0.000772   \n",
       "50                 -0.240966                -0.146985   \n",
       "51                 -0.207929                -0.066274   \n",
       "\n",
       "    Actual/sum_Cardnum_Merch state_3d  Actual/sum_Cardnum_Merch zip_3d  \\\n",
       "47                           0.632791                         0.530733   \n",
       "48                           0.632791                         0.530733   \n",
       "49                           0.632791                         0.530733   \n",
       "50                           0.632791                         0.530733   \n",
       "51                          -0.676613                        -0.889717   \n",
       "\n",
       "    Actual/sum_Cardnum_Merchnum_3d  count_Cardnum_1d  \\\n",
       "47                        0.506863         -0.244334   \n",
       "48                        0.506863         -0.244334   \n",
       "49                        0.506863         -0.244334   \n",
       "50                        0.506863         -0.244334   \n",
       "51                       -0.952330         -0.079562   \n",
       "\n",
       "               ...              count_Cardnum_Merch state_3d  \\\n",
       "47             ...                                 -0.226372   \n",
       "48             ...                                 -0.226372   \n",
       "49             ...                                 -0.226372   \n",
       "50             ...                                 -0.226372   \n",
       "51             ...                                 -0.107026   \n",
       "\n",
       "    count_Cardnum_Merch state_7d  count_Cardnum_Merch zip_3d  \\\n",
       "47                     -0.212185                   -0.206144   \n",
       "48                     -0.212185                   -0.206144   \n",
       "49                     -0.212185                   -0.206144   \n",
       "50                     -0.212185                   -0.206144   \n",
       "51                     -0.148131                   -0.086784   \n",
       "\n",
       "    count_Cardnum_Merchnum_7d  Days_since_per_Cardnum  mean_Cardnum_1d  \\\n",
       "47                  -0.185153                0.201967        -0.095950   \n",
       "48                  -0.185153               -0.162939        -0.324843   \n",
       "49                  -0.185153                0.903707        -0.498480   \n",
       "50                  -0.185153               -0.162939        -0.519775   \n",
       "51                  -0.118478               -0.219078        -0.517790   \n",
       "\n",
       "    Actual/count_Cardnum_1d  max_Cardnum_1d  max_Cardnum_Merchnum_3d  \\\n",
       "47                 0.017075       -0.168852                -0.111763   \n",
       "48                -0.244504       -0.329262                -0.275031   \n",
       "49                -0.442938       -0.450948                -0.398885   \n",
       "50                -0.467273       -0.465871                -0.414074   \n",
       "51                -0.477957       -0.463089                -0.411242   \n",
       "\n",
       "    median_Cardnum_Merchnum_7d  \n",
       "47                   -0.089775  \n",
       "48                   -0.300401  \n",
       "49                   -0.460183  \n",
       "50                   -0.479778  \n",
       "51                   -0.477951  \n",
       "\n",
       "[5 rows x 22 columns]"
      ]
     },
     "execution_count": 108,
     "metadata": {},
     "output_type": "execute_result"
    }
   ],
   "source": [
    "oot_df.head()"
   ]
  },
  {
   "cell_type": "code",
   "execution_count": 109,
   "metadata": {},
   "outputs": [
    {
     "data": {
      "text/html": [
       "<div>\n",
       "<style scoped>\n",
       "    .dataframe tbody tr th:only-of-type {\n",
       "        vertical-align: middle;\n",
       "    }\n",
       "\n",
       "    .dataframe tbody tr th {\n",
       "        vertical-align: top;\n",
       "    }\n",
       "\n",
       "    .dataframe thead th {\n",
       "        text-align: right;\n",
       "    }\n",
       "</style>\n",
       "<table border=\"1\" class=\"dataframe\">\n",
       "  <thead>\n",
       "    <tr style=\"text-align: right;\">\n",
       "      <th></th>\n",
       "      <th>Recnum</th>\n",
       "      <th>Fraud</th>\n",
       "      <th>Actual/mean_Cardnum_30d</th>\n",
       "      <th>Actual/mean_Merchnum_14d</th>\n",
       "      <th>Actual/mean_Merchnum_30d</th>\n",
       "      <th>Actual/mean_Merchnum_7d</th>\n",
       "      <th>Actual/sum_Cardnum_Merch state_3d</th>\n",
       "      <th>Actual/sum_Cardnum_Merch zip_3d</th>\n",
       "      <th>Actual/sum_Cardnum_Merchnum_3d</th>\n",
       "      <th>count_Cardnum_1d</th>\n",
       "      <th>...</th>\n",
       "      <th>count_Cardnum_Merch state_3d</th>\n",
       "      <th>count_Cardnum_Merch state_7d</th>\n",
       "      <th>count_Cardnum_Merch zip_3d</th>\n",
       "      <th>count_Cardnum_Merchnum_7d</th>\n",
       "      <th>Days_since_per_Cardnum</th>\n",
       "      <th>mean_Cardnum_1d</th>\n",
       "      <th>Actual/count_Cardnum_1d</th>\n",
       "      <th>max_Cardnum_1d</th>\n",
       "      <th>max_Cardnum_Merchnum_3d</th>\n",
       "      <th>median_Cardnum_Merchnum_7d</th>\n",
       "    </tr>\n",
       "  </thead>\n",
       "  <tbody>\n",
       "    <tr>\n",
       "      <th>count</th>\n",
       "      <td>12427.000000</td>\n",
       "      <td>12427.000000</td>\n",
       "      <td>12427.000000</td>\n",
       "      <td>12427.000000</td>\n",
       "      <td>12427.000000</td>\n",
       "      <td>12427.000000</td>\n",
       "      <td>12427.000000</td>\n",
       "      <td>12427.000000</td>\n",
       "      <td>12427.000000</td>\n",
       "      <td>12427.000000</td>\n",
       "      <td>...</td>\n",
       "      <td>12427.000000</td>\n",
       "      <td>12427.000000</td>\n",
       "      <td>12427.000000</td>\n",
       "      <td>12427.000000</td>\n",
       "      <td>12427.000000</td>\n",
       "      <td>12427.000000</td>\n",
       "      <td>12427.000000</td>\n",
       "      <td>12427.000000</td>\n",
       "      <td>12427.000000</td>\n",
       "      <td>12427.000000</td>\n",
       "    </tr>\n",
       "    <tr>\n",
       "      <th>mean</th>\n",
       "      <td>90529.361954</td>\n",
       "      <td>0.014404</td>\n",
       "      <td>-0.015205</td>\n",
       "      <td>-0.003626</td>\n",
       "      <td>-0.004805</td>\n",
       "      <td>-0.002340</td>\n",
       "      <td>0.078683</td>\n",
       "      <td>0.079904</td>\n",
       "      <td>0.081548</td>\n",
       "      <td>-0.040753</td>\n",
       "      <td>...</td>\n",
       "      <td>-0.064817</td>\n",
       "      <td>-0.086175</td>\n",
       "      <td>-0.063934</td>\n",
       "      <td>-0.083914</td>\n",
       "      <td>-0.016950</td>\n",
       "      <td>-0.028731</td>\n",
       "      <td>-0.011203</td>\n",
       "      <td>-0.026939</td>\n",
       "      <td>-0.023440</td>\n",
       "      <td>-0.023081</td>\n",
       "    </tr>\n",
       "    <tr>\n",
       "      <th>std</th>\n",
       "      <td>3592.671472</td>\n",
       "      <td>0.119154</td>\n",
       "      <td>0.752554</td>\n",
       "      <td>0.524631</td>\n",
       "      <td>0.449551</td>\n",
       "      <td>0.485727</td>\n",
       "      <td>0.954802</td>\n",
       "      <td>0.935809</td>\n",
       "      <td>0.928409</td>\n",
       "      <td>0.803342</td>\n",
       "      <td>...</td>\n",
       "      <td>0.621073</td>\n",
       "      <td>0.379176</td>\n",
       "      <td>0.619274</td>\n",
       "      <td>0.388582</td>\n",
       "      <td>0.661301</td>\n",
       "      <td>0.917706</td>\n",
       "      <td>0.944759</td>\n",
       "      <td>0.883583</td>\n",
       "      <td>0.837219</td>\n",
       "      <td>0.998653</td>\n",
       "    </tr>\n",
       "    <tr>\n",
       "      <th>min</th>\n",
       "      <td>84300.000000</td>\n",
       "      <td>0.000000</td>\n",
       "      <td>-0.625399</td>\n",
       "      <td>-0.408497</td>\n",
       "      <td>-0.317317</td>\n",
       "      <td>-0.458210</td>\n",
       "      <td>-2.213751</td>\n",
       "      <td>-2.557215</td>\n",
       "      <td>-2.665311</td>\n",
       "      <td>-0.244334</td>\n",
       "      <td>...</td>\n",
       "      <td>-0.226372</td>\n",
       "      <td>-0.212185</td>\n",
       "      <td>-0.206144</td>\n",
       "      <td>-0.185153</td>\n",
       "      <td>-0.219078</td>\n",
       "      <td>-0.542031</td>\n",
       "      <td>-0.493170</td>\n",
       "      <td>-0.481468</td>\n",
       "      <td>-0.430233</td>\n",
       "      <td>-0.500624</td>\n",
       "    </tr>\n",
       "    <tr>\n",
       "      <th>25%</th>\n",
       "      <td>87420.500000</td>\n",
       "      <td>0.000000</td>\n",
       "      <td>-0.494674</td>\n",
       "      <td>-0.218698</td>\n",
       "      <td>-0.197099</td>\n",
       "      <td>-0.186565</td>\n",
       "      <td>-0.316593</td>\n",
       "      <td>0.530733</td>\n",
       "      <td>0.506863</td>\n",
       "      <td>-0.244334</td>\n",
       "      <td>...</td>\n",
       "      <td>-0.226372</td>\n",
       "      <td>-0.212185</td>\n",
       "      <td>-0.206144</td>\n",
       "      <td>-0.185153</td>\n",
       "      <td>-0.219078</td>\n",
       "      <td>-0.467576</td>\n",
       "      <td>-0.447648</td>\n",
       "      <td>-0.423841</td>\n",
       "      <td>-0.381271</td>\n",
       "      <td>-0.440616</td>\n",
       "    </tr>\n",
       "    <tr>\n",
       "      <th>50%</th>\n",
       "      <td>90531.000000</td>\n",
       "      <td>0.000000</td>\n",
       "      <td>-0.231608</td>\n",
       "      <td>0.001779</td>\n",
       "      <td>0.001854</td>\n",
       "      <td>-0.000772</td>\n",
       "      <td>0.632791</td>\n",
       "      <td>0.530733</td>\n",
       "      <td>0.506863</td>\n",
       "      <td>-0.244334</td>\n",
       "      <td>...</td>\n",
       "      <td>-0.226372</td>\n",
       "      <td>-0.212185</td>\n",
       "      <td>-0.206144</td>\n",
       "      <td>-0.185153</td>\n",
       "      <td>-0.191008</td>\n",
       "      <td>-0.323579</td>\n",
       "      <td>-0.330305</td>\n",
       "      <td>-0.293283</td>\n",
       "      <td>-0.271591</td>\n",
       "      <td>-0.315382</td>\n",
       "    </tr>\n",
       "    <tr>\n",
       "      <th>75%</th>\n",
       "      <td>93639.500000</td>\n",
       "      <td>0.000000</td>\n",
       "      <td>0.166270</td>\n",
       "      <td>0.001779</td>\n",
       "      <td>0.004500</td>\n",
       "      <td>-0.000772</td>\n",
       "      <td>0.632791</td>\n",
       "      <td>0.530733</td>\n",
       "      <td>0.506863</td>\n",
       "      <td>-0.079562</td>\n",
       "      <td>...</td>\n",
       "      <td>-0.107026</td>\n",
       "      <td>-0.148131</td>\n",
       "      <td>-0.206144</td>\n",
       "      <td>-0.118478</td>\n",
       "      <td>-0.050660</td>\n",
       "      <td>0.063139</td>\n",
       "      <td>0.037760</td>\n",
       "      <td>0.042960</td>\n",
       "      <td>0.022910</td>\n",
       "      <td>0.034470</td>\n",
       "    </tr>\n",
       "    <tr>\n",
       "      <th>max</th>\n",
       "      <td>96753.000000</td>\n",
       "      <td>1.000000</td>\n",
       "      <td>16.695489</td>\n",
       "      <td>42.132589</td>\n",
       "      <td>35.580119</td>\n",
       "      <td>35.818771</td>\n",
       "      <td>0.632791</td>\n",
       "      <td>0.530733</td>\n",
       "      <td>0.506863</td>\n",
       "      <td>13.761237</td>\n",
       "      <td>...</td>\n",
       "      <td>9.798742</td>\n",
       "      <td>5.168339</td>\n",
       "      <td>9.820114</td>\n",
       "      <td>5.415540</td>\n",
       "      <td>10.026339</td>\n",
       "      <td>33.590259</td>\n",
       "      <td>38.513724</td>\n",
       "      <td>25.723276</td>\n",
       "      <td>26.241745</td>\n",
       "      <td>33.908120</td>\n",
       "    </tr>\n",
       "  </tbody>\n",
       "</table>\n",
       "<p>8 rows × 22 columns</p>\n",
       "</div>"
      ],
      "text/plain": [
       "             Recnum         Fraud  Actual/mean_Cardnum_30d  \\\n",
       "count  12427.000000  12427.000000             12427.000000   \n",
       "mean   90529.361954      0.014404                -0.015205   \n",
       "std     3592.671472      0.119154                 0.752554   \n",
       "min    84300.000000      0.000000                -0.625399   \n",
       "25%    87420.500000      0.000000                -0.494674   \n",
       "50%    90531.000000      0.000000                -0.231608   \n",
       "75%    93639.500000      0.000000                 0.166270   \n",
       "max    96753.000000      1.000000                16.695489   \n",
       "\n",
       "       Actual/mean_Merchnum_14d  Actual/mean_Merchnum_30d  \\\n",
       "count              12427.000000              12427.000000   \n",
       "mean                  -0.003626                 -0.004805   \n",
       "std                    0.524631                  0.449551   \n",
       "min                   -0.408497                 -0.317317   \n",
       "25%                   -0.218698                 -0.197099   \n",
       "50%                    0.001779                  0.001854   \n",
       "75%                    0.001779                  0.004500   \n",
       "max                   42.132589                 35.580119   \n",
       "\n",
       "       Actual/mean_Merchnum_7d  Actual/sum_Cardnum_Merch state_3d  \\\n",
       "count             12427.000000                       12427.000000   \n",
       "mean                 -0.002340                           0.078683   \n",
       "std                   0.485727                           0.954802   \n",
       "min                  -0.458210                          -2.213751   \n",
       "25%                  -0.186565                          -0.316593   \n",
       "50%                  -0.000772                           0.632791   \n",
       "75%                  -0.000772                           0.632791   \n",
       "max                  35.818771                           0.632791   \n",
       "\n",
       "       Actual/sum_Cardnum_Merch zip_3d  Actual/sum_Cardnum_Merchnum_3d  \\\n",
       "count                     12427.000000                    12427.000000   \n",
       "mean                          0.079904                        0.081548   \n",
       "std                           0.935809                        0.928409   \n",
       "min                          -2.557215                       -2.665311   \n",
       "25%                           0.530733                        0.506863   \n",
       "50%                           0.530733                        0.506863   \n",
       "75%                           0.530733                        0.506863   \n",
       "max                           0.530733                        0.506863   \n",
       "\n",
       "       count_Cardnum_1d             ...              \\\n",
       "count      12427.000000             ...               \n",
       "mean          -0.040753             ...               \n",
       "std            0.803342             ...               \n",
       "min           -0.244334             ...               \n",
       "25%           -0.244334             ...               \n",
       "50%           -0.244334             ...               \n",
       "75%           -0.079562             ...               \n",
       "max           13.761237             ...               \n",
       "\n",
       "       count_Cardnum_Merch state_3d  count_Cardnum_Merch state_7d  \\\n",
       "count                  12427.000000                  12427.000000   \n",
       "mean                      -0.064817                     -0.086175   \n",
       "std                        0.621073                      0.379176   \n",
       "min                       -0.226372                     -0.212185   \n",
       "25%                       -0.226372                     -0.212185   \n",
       "50%                       -0.226372                     -0.212185   \n",
       "75%                       -0.107026                     -0.148131   \n",
       "max                        9.798742                      5.168339   \n",
       "\n",
       "       count_Cardnum_Merch zip_3d  count_Cardnum_Merchnum_7d  \\\n",
       "count                12427.000000               12427.000000   \n",
       "mean                    -0.063934                  -0.083914   \n",
       "std                      0.619274                   0.388582   \n",
       "min                     -0.206144                  -0.185153   \n",
       "25%                     -0.206144                  -0.185153   \n",
       "50%                     -0.206144                  -0.185153   \n",
       "75%                     -0.206144                  -0.118478   \n",
       "max                      9.820114                   5.415540   \n",
       "\n",
       "       Days_since_per_Cardnum  mean_Cardnum_1d  Actual/count_Cardnum_1d  \\\n",
       "count            12427.000000     12427.000000             12427.000000   \n",
       "mean                -0.016950        -0.028731                -0.011203   \n",
       "std                  0.661301         0.917706                 0.944759   \n",
       "min                 -0.219078        -0.542031                -0.493170   \n",
       "25%                 -0.219078        -0.467576                -0.447648   \n",
       "50%                 -0.191008        -0.323579                -0.330305   \n",
       "75%                 -0.050660         0.063139                 0.037760   \n",
       "max                 10.026339        33.590259                38.513724   \n",
       "\n",
       "       max_Cardnum_1d  max_Cardnum_Merchnum_3d  median_Cardnum_Merchnum_7d  \n",
       "count    12427.000000             12427.000000                12427.000000  \n",
       "mean        -0.026939                -0.023440                   -0.023081  \n",
       "std          0.883583                 0.837219                    0.998653  \n",
       "min         -0.481468                -0.430233                   -0.500624  \n",
       "25%         -0.423841                -0.381271                   -0.440616  \n",
       "50%         -0.293283                -0.271591                   -0.315382  \n",
       "75%          0.042960                 0.022910                    0.034470  \n",
       "max         25.723276                26.241745                   33.908120  \n",
       "\n",
       "[8 rows x 22 columns]"
      ]
     },
     "execution_count": 109,
     "metadata": {},
     "output_type": "execute_result"
    }
   ],
   "source": [
    "oot_df.describe()"
   ]
  },
  {
   "cell_type": "code",
   "execution_count": 111,
   "metadata": {},
   "outputs": [
    {
     "data": {
      "text/html": [
       "<div>\n",
       "<style scoped>\n",
       "    .dataframe tbody tr th:only-of-type {\n",
       "        vertical-align: middle;\n",
       "    }\n",
       "\n",
       "    .dataframe tbody tr th {\n",
       "        vertical-align: top;\n",
       "    }\n",
       "\n",
       "    .dataframe thead th {\n",
       "        text-align: right;\n",
       "    }\n",
       "</style>\n",
       "<table border=\"1\" class=\"dataframe\">\n",
       "  <thead>\n",
       "    <tr style=\"text-align: right;\">\n",
       "      <th></th>\n",
       "      <th>Actual/mean_Cardnum_30d</th>\n",
       "      <th>Actual/mean_Merchnum_14d</th>\n",
       "      <th>Actual/mean_Merchnum_30d</th>\n",
       "      <th>Actual/mean_Merchnum_7d</th>\n",
       "      <th>Actual/sum_Cardnum_Merch state_3d</th>\n",
       "      <th>Actual/sum_Cardnum_Merch zip_3d</th>\n",
       "      <th>Actual/sum_Cardnum_Merchnum_3d</th>\n",
       "      <th>count_Cardnum_1d</th>\n",
       "      <th>count_Cardnum_3d</th>\n",
       "      <th>count_Cardnum_7d</th>\n",
       "      <th>count_Cardnum_Merch state_3d</th>\n",
       "      <th>count_Cardnum_Merch state_7d</th>\n",
       "      <th>count_Cardnum_Merch zip_3d</th>\n",
       "      <th>count_Cardnum_Merchnum_7d</th>\n",
       "      <th>Days_since_per_Cardnum</th>\n",
       "      <th>mean_Cardnum_1d</th>\n",
       "      <th>Actual/count_Cardnum_1d</th>\n",
       "      <th>max_Cardnum_1d</th>\n",
       "      <th>max_Cardnum_Merchnum_3d</th>\n",
       "      <th>median_Cardnum_Merchnum_7d</th>\n",
       "    </tr>\n",
       "  </thead>\n",
       "  <tbody>\n",
       "    <tr>\n",
       "      <th>47</th>\n",
       "      <td>0.591938</td>\n",
       "      <td>0.001779</td>\n",
       "      <td>0.001854</td>\n",
       "      <td>-0.000772</td>\n",
       "      <td>0.632791</td>\n",
       "      <td>0.530733</td>\n",
       "      <td>0.506863</td>\n",
       "      <td>-0.244334</td>\n",
       "      <td>-0.354532</td>\n",
       "      <td>-0.368519</td>\n",
       "      <td>-0.226372</td>\n",
       "      <td>-0.212185</td>\n",
       "      <td>-0.206144</td>\n",
       "      <td>-0.185153</td>\n",
       "      <td>0.201967</td>\n",
       "      <td>-0.095950</td>\n",
       "      <td>0.017075</td>\n",
       "      <td>-0.168852</td>\n",
       "      <td>-0.111763</td>\n",
       "      <td>-0.089775</td>\n",
       "    </tr>\n",
       "    <tr>\n",
       "      <th>48</th>\n",
       "      <td>-0.154497</td>\n",
       "      <td>-0.139652</td>\n",
       "      <td>-0.108161</td>\n",
       "      <td>-0.000772</td>\n",
       "      <td>0.632791</td>\n",
       "      <td>0.530733</td>\n",
       "      <td>0.506863</td>\n",
       "      <td>-0.244334</td>\n",
       "      <td>-0.237949</td>\n",
       "      <td>-0.305537</td>\n",
       "      <td>-0.226372</td>\n",
       "      <td>-0.212185</td>\n",
       "      <td>-0.206144</td>\n",
       "      <td>-0.185153</td>\n",
       "      <td>-0.162939</td>\n",
       "      <td>-0.324843</td>\n",
       "      <td>-0.244504</td>\n",
       "      <td>-0.329262</td>\n",
       "      <td>-0.275031</td>\n",
       "      <td>-0.300401</td>\n",
       "    </tr>\n",
       "    <tr>\n",
       "      <th>49</th>\n",
       "      <td>-0.003210</td>\n",
       "      <td>0.001779</td>\n",
       "      <td>-0.210039</td>\n",
       "      <td>-0.000772</td>\n",
       "      <td>0.632791</td>\n",
       "      <td>0.530733</td>\n",
       "      <td>0.506863</td>\n",
       "      <td>-0.244334</td>\n",
       "      <td>-0.354532</td>\n",
       "      <td>-0.368519</td>\n",
       "      <td>-0.226372</td>\n",
       "      <td>-0.212185</td>\n",
       "      <td>-0.206144</td>\n",
       "      <td>-0.185153</td>\n",
       "      <td>0.903707</td>\n",
       "      <td>-0.498480</td>\n",
       "      <td>-0.442938</td>\n",
       "      <td>-0.450948</td>\n",
       "      <td>-0.398885</td>\n",
       "      <td>-0.460183</td>\n",
       "    </tr>\n",
       "    <tr>\n",
       "      <th>50</th>\n",
       "      <td>-0.384508</td>\n",
       "      <td>-0.129360</td>\n",
       "      <td>-0.240966</td>\n",
       "      <td>-0.146985</td>\n",
       "      <td>0.632791</td>\n",
       "      <td>0.530733</td>\n",
       "      <td>0.506863</td>\n",
       "      <td>-0.244334</td>\n",
       "      <td>-0.237949</td>\n",
       "      <td>-0.242555</td>\n",
       "      <td>-0.226372</td>\n",
       "      <td>-0.212185</td>\n",
       "      <td>-0.206144</td>\n",
       "      <td>-0.185153</td>\n",
       "      <td>-0.162939</td>\n",
       "      <td>-0.519775</td>\n",
       "      <td>-0.467273</td>\n",
       "      <td>-0.465871</td>\n",
       "      <td>-0.414074</td>\n",
       "      <td>-0.479778</td>\n",
       "    </tr>\n",
       "    <tr>\n",
       "      <th>51</th>\n",
       "      <td>-0.321605</td>\n",
       "      <td>-0.056970</td>\n",
       "      <td>-0.207929</td>\n",
       "      <td>-0.066274</td>\n",
       "      <td>-0.676613</td>\n",
       "      <td>-0.889717</td>\n",
       "      <td>-0.952330</td>\n",
       "      <td>-0.079562</td>\n",
       "      <td>-0.121367</td>\n",
       "      <td>-0.179573</td>\n",
       "      <td>-0.107026</td>\n",
       "      <td>-0.148131</td>\n",
       "      <td>-0.086784</td>\n",
       "      <td>-0.118478</td>\n",
       "      <td>-0.219078</td>\n",
       "      <td>-0.517790</td>\n",
       "      <td>-0.477957</td>\n",
       "      <td>-0.463089</td>\n",
       "      <td>-0.411242</td>\n",
       "      <td>-0.477951</td>\n",
       "    </tr>\n",
       "  </tbody>\n",
       "</table>\n",
       "</div>"
      ],
      "text/plain": [
       "    Actual/mean_Cardnum_30d  Actual/mean_Merchnum_14d  \\\n",
       "47                 0.591938                  0.001779   \n",
       "48                -0.154497                 -0.139652   \n",
       "49                -0.003210                  0.001779   \n",
       "50                -0.384508                 -0.129360   \n",
       "51                -0.321605                 -0.056970   \n",
       "\n",
       "    Actual/mean_Merchnum_30d  Actual/mean_Merchnum_7d  \\\n",
       "47                  0.001854                -0.000772   \n",
       "48                 -0.108161                -0.000772   \n",
       "49                 -0.210039                -0.000772   \n",
       "50                 -0.240966                -0.146985   \n",
       "51                 -0.207929                -0.066274   \n",
       "\n",
       "    Actual/sum_Cardnum_Merch state_3d  Actual/sum_Cardnum_Merch zip_3d  \\\n",
       "47                           0.632791                         0.530733   \n",
       "48                           0.632791                         0.530733   \n",
       "49                           0.632791                         0.530733   \n",
       "50                           0.632791                         0.530733   \n",
       "51                          -0.676613                        -0.889717   \n",
       "\n",
       "    Actual/sum_Cardnum_Merchnum_3d  count_Cardnum_1d  count_Cardnum_3d  \\\n",
       "47                        0.506863         -0.244334         -0.354532   \n",
       "48                        0.506863         -0.244334         -0.237949   \n",
       "49                        0.506863         -0.244334         -0.354532   \n",
       "50                        0.506863         -0.244334         -0.237949   \n",
       "51                       -0.952330         -0.079562         -0.121367   \n",
       "\n",
       "    count_Cardnum_7d  count_Cardnum_Merch state_3d  \\\n",
       "47         -0.368519                     -0.226372   \n",
       "48         -0.305537                     -0.226372   \n",
       "49         -0.368519                     -0.226372   \n",
       "50         -0.242555                     -0.226372   \n",
       "51         -0.179573                     -0.107026   \n",
       "\n",
       "    count_Cardnum_Merch state_7d  count_Cardnum_Merch zip_3d  \\\n",
       "47                     -0.212185                   -0.206144   \n",
       "48                     -0.212185                   -0.206144   \n",
       "49                     -0.212185                   -0.206144   \n",
       "50                     -0.212185                   -0.206144   \n",
       "51                     -0.148131                   -0.086784   \n",
       "\n",
       "    count_Cardnum_Merchnum_7d  Days_since_per_Cardnum  mean_Cardnum_1d  \\\n",
       "47                  -0.185153                0.201967        -0.095950   \n",
       "48                  -0.185153               -0.162939        -0.324843   \n",
       "49                  -0.185153                0.903707        -0.498480   \n",
       "50                  -0.185153               -0.162939        -0.519775   \n",
       "51                  -0.118478               -0.219078        -0.517790   \n",
       "\n",
       "    Actual/count_Cardnum_1d  max_Cardnum_1d  max_Cardnum_Merchnum_3d  \\\n",
       "47                 0.017075       -0.168852                -0.111763   \n",
       "48                -0.244504       -0.329262                -0.275031   \n",
       "49                -0.442938       -0.450948                -0.398885   \n",
       "50                -0.467273       -0.465871                -0.414074   \n",
       "51                -0.477957       -0.463089                -0.411242   \n",
       "\n",
       "    median_Cardnum_Merchnum_7d  \n",
       "47                   -0.089775  \n",
       "48                   -0.300401  \n",
       "49                   -0.460183  \n",
       "50                   -0.479778  \n",
       "51                   -0.477951  "
      ]
     },
     "execution_count": 111,
     "metadata": {},
     "output_type": "execute_result"
    }
   ],
   "source": [
    "oot_lab = oot_df[\"Fraud\"]\n",
    "oot_fea = oot_df.iloc[:,2:]\n",
    "\n",
    "oot_fea.head()"
   ]
  },
  {
   "cell_type": "code",
   "execution_count": 112,
   "metadata": {},
   "outputs": [
    {
     "data": {
      "text/plain": [
       "47    0\n",
       "48    0\n",
       "49    0\n",
       "50    0\n",
       "51    0\n",
       "Name: Fraud, dtype: int64"
      ]
     },
     "execution_count": 112,
     "metadata": {},
     "output_type": "execute_result"
    }
   ],
   "source": [
    "oot_lab.head()"
   ]
  },
  {
   "cell_type": "code",
   "execution_count": 113,
   "metadata": {},
   "outputs": [],
   "source": [
    "# import neccessary packages\n",
    "from sklearn.linear_model import LogisticRegression\n",
    "from sklearn.metrics import roc_auc_score\n",
    "from sklearn.metrics import confusion_matrix"
   ]
  },
  {
   "cell_type": "markdown",
   "metadata": {
    "nbpresent": {
     "id": "183c6087-bab7-495b-991e-5f26dbc87272"
    }
   },
   "source": [
    "### Trial on Logistic Regression With All the Features"
   ]
  },
  {
   "cell_type": "code",
   "execution_count": 114,
   "metadata": {
    "nbpresent": {
     "id": "6a5dc069-a3a0-47f0-8c1e-8ab2fcaa2fb8"
    },
    "scrolled": true
   },
   "outputs": [
    {
     "name": "stderr",
     "output_type": "stream",
     "text": [
      "/Users/kailinghung/anaconda3/lib/python3.7/site-packages/sklearn/linear_model/logistic.py:433: FutureWarning: Default solver will be changed to 'lbfgs' in 0.22. Specify a solver to silence this warning.\n",
      "  FutureWarning)\n"
     ]
    },
    {
     "name": "stdout",
     "output_type": "stream",
     "text": [
      "accuracy: 0.9898624508753127\n"
     ]
    }
   ],
   "source": [
    "clf = LogisticRegression()\n",
    "\n",
    "# train the classifier and fit the model\n",
    "clf.fit(train_fea, train_lab)\n",
    "\n",
    "# model evaluation: the mean accuracy on the given test data and labels\n",
    "accuracy = clf.score(train_fea, train_lab)\n",
    "print(\"accuracy:\", accuracy)"
   ]
  },
  {
   "cell_type": "markdown",
   "metadata": {},
   "source": [
    "# Feature Selection based on Accuracy"
   ]
  },
  {
   "cell_type": "code",
   "execution_count": 115,
   "metadata": {},
   "outputs": [
    {
     "name": "stderr",
     "output_type": "stream",
     "text": [
      "/Users/kailinghung/anaconda3/lib/python3.7/site-packages/sklearn/linear_model/logistic.py:433: FutureWarning: Default solver will be changed to 'lbfgs' in 0.22. Specify a solver to silence this warning.\n",
      "  FutureWarning)\n",
      "/Users/kailinghung/anaconda3/lib/python3.7/site-packages/sklearn/linear_model/logistic.py:433: FutureWarning: Default solver will be changed to 'lbfgs' in 0.22. Specify a solver to silence this warning.\n",
      "  FutureWarning)\n",
      "/Users/kailinghung/anaconda3/lib/python3.7/site-packages/sklearn/linear_model/logistic.py:433: FutureWarning: Default solver will be changed to 'lbfgs' in 0.22. Specify a solver to silence this warning.\n",
      "  FutureWarning)\n"
     ]
    },
    {
     "name": "stdout",
     "output_type": "stream",
     "text": [
      "1 0.9894307490770513\n",
      "2 0.9893860902703346\n",
      "3 0.9893265451947124\n"
     ]
    },
    {
     "name": "stderr",
     "output_type": "stream",
     "text": [
      "/Users/kailinghung/anaconda3/lib/python3.7/site-packages/sklearn/linear_model/logistic.py:433: FutureWarning: Default solver will be changed to 'lbfgs' in 0.22. Specify a solver to silence this warning.\n",
      "  FutureWarning)\n",
      "/Users/kailinghung/anaconda3/lib/python3.7/site-packages/sklearn/linear_model/logistic.py:433: FutureWarning: Default solver will be changed to 'lbfgs' in 0.22. Specify a solver to silence this warning.\n",
      "  FutureWarning)\n"
     ]
    },
    {
     "name": "stdout",
     "output_type": "stream",
     "text": [
      "4 0.9893563177325235\n",
      "5 0.9893860902703346\n"
     ]
    },
    {
     "name": "stderr",
     "output_type": "stream",
     "text": [
      "/Users/kailinghung/anaconda3/lib/python3.7/site-packages/sklearn/linear_model/logistic.py:433: FutureWarning: Default solver will be changed to 'lbfgs' in 0.22. Specify a solver to silence this warning.\n",
      "  FutureWarning)\n"
     ]
    },
    {
     "name": "stdout",
     "output_type": "stream",
     "text": [
      "6 0.9892818863879957\n"
     ]
    },
    {
     "name": "stderr",
     "output_type": "stream",
     "text": [
      "/Users/kailinghung/anaconda3/lib/python3.7/site-packages/sklearn/linear_model/logistic.py:433: FutureWarning: Default solver will be changed to 'lbfgs' in 0.22. Specify a solver to silence this warning.\n",
      "  FutureWarning)\n"
     ]
    },
    {
     "name": "stdout",
     "output_type": "stream",
     "text": [
      "7 0.9892967726569013\n"
     ]
    },
    {
     "name": "stderr",
     "output_type": "stream",
     "text": [
      "/Users/kailinghung/anaconda3/lib/python3.7/site-packages/sklearn/linear_model/logistic.py:433: FutureWarning: Default solver will be changed to 'lbfgs' in 0.22. Specify a solver to silence this warning.\n",
      "  FutureWarning)\n"
     ]
    },
    {
     "name": "stdout",
     "output_type": "stream",
     "text": [
      "8 0.9892967726569013\n"
     ]
    },
    {
     "name": "stderr",
     "output_type": "stream",
     "text": [
      "/Users/kailinghung/anaconda3/lib/python3.7/site-packages/sklearn/linear_model/logistic.py:433: FutureWarning: Default solver will be changed to 'lbfgs' in 0.22. Specify a solver to silence this warning.\n",
      "  FutureWarning)\n"
     ]
    },
    {
     "name": "stdout",
     "output_type": "stream",
     "text": [
      "9 0.9892967726569013\n"
     ]
    },
    {
     "name": "stderr",
     "output_type": "stream",
     "text": [
      "/Users/kailinghung/anaconda3/lib/python3.7/site-packages/sklearn/linear_model/logistic.py:433: FutureWarning: Default solver will be changed to 'lbfgs' in 0.22. Specify a solver to silence this warning.\n",
      "  FutureWarning)\n"
     ]
    },
    {
     "name": "stdout",
     "output_type": "stream",
     "text": [
      "10 0.9892967726569013\n"
     ]
    },
    {
     "name": "stderr",
     "output_type": "stream",
     "text": [
      "/Users/kailinghung/anaconda3/lib/python3.7/site-packages/sklearn/linear_model/logistic.py:433: FutureWarning: Default solver will be changed to 'lbfgs' in 0.22. Specify a solver to silence this warning.\n",
      "  FutureWarning)\n"
     ]
    },
    {
     "name": "stdout",
     "output_type": "stream",
     "text": [
      "11 0.9892967726569013\n"
     ]
    },
    {
     "name": "stderr",
     "output_type": "stream",
     "text": [
      "/Users/kailinghung/anaconda3/lib/python3.7/site-packages/sklearn/linear_model/logistic.py:433: FutureWarning: Default solver will be changed to 'lbfgs' in 0.22. Specify a solver to silence this warning.\n",
      "  FutureWarning)\n"
     ]
    },
    {
     "name": "stdout",
     "output_type": "stream",
     "text": [
      "12 0.9892967726569013\n"
     ]
    },
    {
     "name": "stderr",
     "output_type": "stream",
     "text": [
      "/Users/kailinghung/anaconda3/lib/python3.7/site-packages/sklearn/linear_model/logistic.py:433: FutureWarning: Default solver will be changed to 'lbfgs' in 0.22. Specify a solver to silence this warning.\n",
      "  FutureWarning)\n"
     ]
    },
    {
     "name": "stdout",
     "output_type": "stream",
     "text": [
      "13 0.9893563177325235\n"
     ]
    },
    {
     "name": "stderr",
     "output_type": "stream",
     "text": [
      "/Users/kailinghung/anaconda3/lib/python3.7/site-packages/sklearn/linear_model/logistic.py:433: FutureWarning: Default solver will be changed to 'lbfgs' in 0.22. Specify a solver to silence this warning.\n",
      "  FutureWarning)\n"
     ]
    },
    {
     "name": "stdout",
     "output_type": "stream",
     "text": [
      "14 0.989341431463618\n"
     ]
    },
    {
     "name": "stderr",
     "output_type": "stream",
     "text": [
      "/Users/kailinghung/anaconda3/lib/python3.7/site-packages/sklearn/linear_model/logistic.py:433: FutureWarning: Default solver will be changed to 'lbfgs' in 0.22. Specify a solver to silence this warning.\n",
      "  FutureWarning)\n"
     ]
    },
    {
     "name": "stdout",
     "output_type": "stream",
     "text": [
      "15 0.9893860902703346\n"
     ]
    },
    {
     "name": "stderr",
     "output_type": "stream",
     "text": [
      "/Users/kailinghung/anaconda3/lib/python3.7/site-packages/sklearn/linear_model/logistic.py:433: FutureWarning: Default solver will be changed to 'lbfgs' in 0.22. Specify a solver to silence this warning.\n",
      "  FutureWarning)\n"
     ]
    },
    {
     "name": "stdout",
     "output_type": "stream",
     "text": [
      "16 0.9893860902703346\n"
     ]
    },
    {
     "name": "stderr",
     "output_type": "stream",
     "text": [
      "/Users/kailinghung/anaconda3/lib/python3.7/site-packages/sklearn/linear_model/logistic.py:433: FutureWarning: Default solver will be changed to 'lbfgs' in 0.22. Specify a solver to silence this warning.\n",
      "  FutureWarning)\n"
     ]
    },
    {
     "name": "stdout",
     "output_type": "stream",
     "text": [
      "17 0.9893860902703346\n"
     ]
    },
    {
     "name": "stderr",
     "output_type": "stream",
     "text": [
      "/Users/kailinghung/anaconda3/lib/python3.7/site-packages/sklearn/linear_model/logistic.py:433: FutureWarning: Default solver will be changed to 'lbfgs' in 0.22. Specify a solver to silence this warning.\n",
      "  FutureWarning)\n"
     ]
    },
    {
     "name": "stdout",
     "output_type": "stream",
     "text": [
      "18 0.989951768488746\n"
     ]
    },
    {
     "name": "stderr",
     "output_type": "stream",
     "text": [
      "/Users/kailinghung/anaconda3/lib/python3.7/site-packages/sklearn/linear_model/logistic.py:433: FutureWarning: Default solver will be changed to 'lbfgs' in 0.22. Specify a solver to silence this warning.\n",
      "  FutureWarning)\n"
     ]
    },
    {
     "name": "stdout",
     "output_type": "stream",
     "text": [
      "19 0.9900410861021793\n",
      "\n",
      "19\n",
      "0.9900410861021793\n"
     ]
    }
   ],
   "source": [
    "accuracy = []\n",
    "for i in range(1,train_fea.shape[1]):\n",
    "    features_sub = train_fea.iloc[:,:i]\n",
    "    clf = LogisticRegression()\n",
    "    clf.fit(features_sub, train_lab)\n",
    "    score = clf.score(features_sub, train_lab)\n",
    "    accuracy.append(score)\n",
    "    print(i, score)\n",
    "\n",
    "print(\"\")\n",
    "print(len(accuracy))\n",
    "print(max(accuracy))"
   ]
  },
  {
   "cell_type": "code",
   "execution_count": 116,
   "metadata": {},
   "outputs": [
    {
     "data": {
      "text/plain": [
       "Text(0, 0.5, 'Accuracy')"
      ]
     },
     "execution_count": 116,
     "metadata": {},
     "output_type": "execute_result"
    },
    {
     "data": {
      "image/png": "[encoded data removed]",
      "text/plain": [
       "<Figure size 432x288 with 1 Axes>"
      ]
     },
     "metadata": {
      "needs_background": "light"
     },
     "output_type": "display_data"
    }
   ],
   "source": [
    "plt.plot(accuracy)\n",
    "plt.title('Accuracy on training data')\n",
    "plt.ylabel('Accuracy')"
   ]
  },
  {
   "cell_type": "code",
   "execution_count": 117,
   "metadata": {},
   "outputs": [
    {
     "name": "stderr",
     "output_type": "stream",
     "text": [
      "/Users/kailinghung/anaconda3/lib/python3.7/site-packages/sklearn/linear_model/logistic.py:433: FutureWarning: Default solver will be changed to 'lbfgs' in 0.22. Specify a solver to silence this warning.\n",
      "  FutureWarning)\n",
      "/Users/kailinghung/anaconda3/lib/python3.7/site-packages/sklearn/linear_model/logistic.py:433: FutureWarning: Default solver will be changed to 'lbfgs' in 0.22. Specify a solver to silence this warning.\n",
      "  FutureWarning)\n",
      "/Users/kailinghung/anaconda3/lib/python3.7/site-packages/sklearn/linear_model/logistic.py:433: FutureWarning: Default solver will be changed to 'lbfgs' in 0.22. Specify a solver to silence this warning.\n",
      "  FutureWarning)\n"
     ]
    },
    {
     "name": "stdout",
     "output_type": "stream",
     "text": [
      "1 0.9896987019173514\n",
      "2 0.9895200666904846\n",
      "3 0.9894605216148624\n",
      "4 0.9895200666904846\n"
     ]
    },
    {
     "name": "stderr",
     "output_type": "stream",
     "text": [
      "/Users/kailinghung/anaconda3/lib/python3.7/site-packages/sklearn/linear_model/logistic.py:433: FutureWarning: Default solver will be changed to 'lbfgs' in 0.22. Specify a solver to silence this warning.\n",
      "  FutureWarning)\n",
      "/Users/kailinghung/anaconda3/lib/python3.7/site-packages/sklearn/linear_model/logistic.py:433: FutureWarning: Default solver will be changed to 'lbfgs' in 0.22. Specify a solver to silence this warning.\n",
      "  FutureWarning)\n"
     ]
    },
    {
     "name": "stdout",
     "output_type": "stream",
     "text": [
      "5 0.9895200666904846\n"
     ]
    },
    {
     "name": "stderr",
     "output_type": "stream",
     "text": [
      "/Users/kailinghung/anaconda3/lib/python3.7/site-packages/sklearn/linear_model/logistic.py:433: FutureWarning: Default solver will be changed to 'lbfgs' in 0.22. Specify a solver to silence this warning.\n",
      "  FutureWarning)\n"
     ]
    },
    {
     "name": "stdout",
     "output_type": "stream",
     "text": [
      "6 0.9896391568417292\n"
     ]
    },
    {
     "name": "stderr",
     "output_type": "stream",
     "text": [
      "/Users/kailinghung/anaconda3/lib/python3.7/site-packages/sklearn/linear_model/logistic.py:433: FutureWarning: Default solver will be changed to 'lbfgs' in 0.22. Specify a solver to silence this warning.\n",
      "  FutureWarning)\n"
     ]
    },
    {
     "name": "stdout",
     "output_type": "stream",
     "text": [
      "7 0.9896391568417292\n"
     ]
    },
    {
     "name": "stderr",
     "output_type": "stream",
     "text": [
      "/Users/kailinghung/anaconda3/lib/python3.7/site-packages/sklearn/linear_model/logistic.py:433: FutureWarning: Default solver will be changed to 'lbfgs' in 0.22. Specify a solver to silence this warning.\n",
      "  FutureWarning)\n"
     ]
    },
    {
     "name": "stdout",
     "output_type": "stream",
     "text": [
      "8 0.9896391568417292\n"
     ]
    },
    {
     "name": "stderr",
     "output_type": "stream",
     "text": [
      "/Users/kailinghung/anaconda3/lib/python3.7/site-packages/sklearn/linear_model/logistic.py:433: FutureWarning: Default solver will be changed to 'lbfgs' in 0.22. Specify a solver to silence this warning.\n",
      "  FutureWarning)\n"
     ]
    },
    {
     "name": "stdout",
     "output_type": "stream",
     "text": [
      "9 0.9896391568417292\n"
     ]
    },
    {
     "name": "stderr",
     "output_type": "stream",
     "text": [
      "/Users/kailinghung/anaconda3/lib/python3.7/site-packages/sklearn/linear_model/logistic.py:433: FutureWarning: Default solver will be changed to 'lbfgs' in 0.22. Specify a solver to silence this warning.\n",
      "  FutureWarning)\n"
     ]
    },
    {
     "name": "stdout",
     "output_type": "stream",
     "text": [
      "10 0.9896391568417292\n"
     ]
    },
    {
     "name": "stderr",
     "output_type": "stream",
     "text": [
      "/Users/kailinghung/anaconda3/lib/python3.7/site-packages/sklearn/linear_model/logistic.py:433: FutureWarning: Default solver will be changed to 'lbfgs' in 0.22. Specify a solver to silence this warning.\n",
      "  FutureWarning)\n"
     ]
    },
    {
     "name": "stdout",
     "output_type": "stream",
     "text": [
      "11 0.9896391568417292\n"
     ]
    },
    {
     "name": "stderr",
     "output_type": "stream",
     "text": [
      "/Users/kailinghung/anaconda3/lib/python3.7/site-packages/sklearn/linear_model/logistic.py:433: FutureWarning: Default solver will be changed to 'lbfgs' in 0.22. Specify a solver to silence this warning.\n",
      "  FutureWarning)\n"
     ]
    },
    {
     "name": "stdout",
     "output_type": "stream",
     "text": [
      "12 0.9896391568417292\n"
     ]
    },
    {
     "name": "stderr",
     "output_type": "stream",
     "text": [
      "/Users/kailinghung/anaconda3/lib/python3.7/site-packages/sklearn/linear_model/logistic.py:433: FutureWarning: Default solver will be changed to 'lbfgs' in 0.22. Specify a solver to silence this warning.\n",
      "  FutureWarning)\n"
     ]
    },
    {
     "name": "stdout",
     "output_type": "stream",
     "text": [
      "13 0.9896391568417292\n"
     ]
    },
    {
     "name": "stderr",
     "output_type": "stream",
     "text": [
      "/Users/kailinghung/anaconda3/lib/python3.7/site-packages/sklearn/linear_model/logistic.py:433: FutureWarning: Default solver will be changed to 'lbfgs' in 0.22. Specify a solver to silence this warning.\n",
      "  FutureWarning)\n"
     ]
    },
    {
     "name": "stdout",
     "output_type": "stream",
     "text": [
      "14 0.989579611766107\n"
     ]
    },
    {
     "name": "stderr",
     "output_type": "stream",
     "text": [
      "/Users/kailinghung/anaconda3/lib/python3.7/site-packages/sklearn/linear_model/logistic.py:433: FutureWarning: Default solver will be changed to 'lbfgs' in 0.22. Specify a solver to silence this warning.\n",
      "  FutureWarning)\n"
     ]
    },
    {
     "name": "stdout",
     "output_type": "stream",
     "text": [
      "15 0.9896391568417292\n"
     ]
    },
    {
     "name": "stderr",
     "output_type": "stream",
     "text": [
      "/Users/kailinghung/anaconda3/lib/python3.7/site-packages/sklearn/linear_model/logistic.py:433: FutureWarning: Default solver will be changed to 'lbfgs' in 0.22. Specify a solver to silence this warning.\n",
      "  FutureWarning)\n"
     ]
    },
    {
     "name": "stdout",
     "output_type": "stream",
     "text": [
      "16 0.9896391568417292\n"
     ]
    },
    {
     "name": "stderr",
     "output_type": "stream",
     "text": [
      "/Users/kailinghung/anaconda3/lib/python3.7/site-packages/sklearn/linear_model/logistic.py:433: FutureWarning: Default solver will be changed to 'lbfgs' in 0.22. Specify a solver to silence this warning.\n",
      "  FutureWarning)\n"
     ]
    },
    {
     "name": "stdout",
     "output_type": "stream",
     "text": [
      "17 0.9901750625223295\n"
     ]
    },
    {
     "name": "stderr",
     "output_type": "stream",
     "text": [
      "/Users/kailinghung/anaconda3/lib/python3.7/site-packages/sklearn/linear_model/logistic.py:433: FutureWarning: Default solver will be changed to 'lbfgs' in 0.22. Specify a solver to silence this warning.\n",
      "  FutureWarning)\n"
     ]
    },
    {
     "name": "stdout",
     "output_type": "stream",
     "text": [
      "18 0.9910086935810408\n"
     ]
    },
    {
     "name": "stderr",
     "output_type": "stream",
     "text": [
      "/Users/kailinghung/anaconda3/lib/python3.7/site-packages/sklearn/linear_model/logistic.py:433: FutureWarning: Default solver will be changed to 'lbfgs' in 0.22. Specify a solver to silence this warning.\n",
      "  FutureWarning)\n"
     ]
    },
    {
     "name": "stdout",
     "output_type": "stream",
     "text": [
      "19 0.9912468738835298\n",
      "\n",
      "19\n",
      "0.9912468738835298\n"
     ]
    }
   ],
   "source": [
    "accuracy = []\n",
    "for i in range(1,train_fea.shape[1]):\n",
    "    features_sub = train_fea.iloc[:,:i]\n",
    "    features_sub_test = test_fea.iloc[:,:i]\n",
    "    clf = LogisticRegression()\n",
    "    clf.fit(features_sub, train_lab)\n",
    "    score = clf.score(features_sub_test, test_lab)\n",
    "    accuracy.append(score)\n",
    "    print(i, score)\n",
    "\n",
    "print(\"\")\n",
    "print(len(accuracy))\n",
    "print(max(accuracy))"
   ]
  },
  {
   "cell_type": "code",
   "execution_count": 118,
   "metadata": {},
   "outputs": [
    {
     "data": {
      "text/plain": [
       "Text(0, 0.5, 'Accuracy')"
      ]
     },
     "execution_count": 118,
     "metadata": {},
     "output_type": "execute_result"
    },
    {
     "data": {
      "image/png": "[encoded data removed]",
      "text/plain": [
       "<Figure size 432x288 with 1 Axes>"
      ]
     },
     "metadata": {
      "needs_background": "light"
     },
     "output_type": "display_data"
    }
   ],
   "source": [
    "plt.plot(accuracy)\n",
    "plt.title('Accuracy on testing data')\n",
    "plt.ylabel('Accuracy')"
   ]
  },
  {
   "cell_type": "code",
   "execution_count": 119,
   "metadata": {},
   "outputs": [
    {
     "name": "stderr",
     "output_type": "stream",
     "text": [
      "/Users/kailinghung/anaconda3/lib/python3.7/site-packages/sklearn/linear_model/logistic.py:433: FutureWarning: Default solver will be changed to 'lbfgs' in 0.22. Specify a solver to silence this warning.\n",
      "  FutureWarning)\n",
      "/Users/kailinghung/anaconda3/lib/python3.7/site-packages/sklearn/linear_model/logistic.py:433: FutureWarning: Default solver will be changed to 'lbfgs' in 0.22. Specify a solver to silence this warning.\n",
      "  FutureWarning)\n",
      "/Users/kailinghung/anaconda3/lib/python3.7/site-packages/sklearn/linear_model/logistic.py:433: FutureWarning: Default solver will be changed to 'lbfgs' in 0.22. Specify a solver to silence this warning.\n",
      "  FutureWarning)\n"
     ]
    },
    {
     "name": "stdout",
     "output_type": "stream",
     "text": [
      "1 0.9855958799388428\n",
      "2 0.9855958799388428\n",
      "3 0.9855154099943672\n"
     ]
    },
    {
     "name": "stderr",
     "output_type": "stream",
     "text": [
      "/Users/kailinghung/anaconda3/lib/python3.7/site-packages/sklearn/linear_model/logistic.py:433: FutureWarning: Default solver will be changed to 'lbfgs' in 0.22. Specify a solver to silence this warning.\n",
      "  FutureWarning)\n",
      "/Users/kailinghung/anaconda3/lib/python3.7/site-packages/sklearn/linear_model/logistic.py:433: FutureWarning: Default solver will be changed to 'lbfgs' in 0.22. Specify a solver to silence this warning.\n",
      "  FutureWarning)\n"
     ]
    },
    {
     "name": "stdout",
     "output_type": "stream",
     "text": [
      "4 0.9854349400498914\n",
      "5 0.9856763498833185\n"
     ]
    },
    {
     "name": "stderr",
     "output_type": "stream",
     "text": [
      "/Users/kailinghung/anaconda3/lib/python3.7/site-packages/sklearn/linear_model/logistic.py:433: FutureWarning: Default solver will be changed to 'lbfgs' in 0.22. Specify a solver to silence this warning.\n",
      "  FutureWarning)\n"
     ]
    },
    {
     "name": "stdout",
     "output_type": "stream",
     "text": [
      "6 0.8825943510098978\n"
     ]
    },
    {
     "name": "stderr",
     "output_type": "stream",
     "text": [
      "/Users/kailinghung/anaconda3/lib/python3.7/site-packages/sklearn/linear_model/logistic.py:433: FutureWarning: Default solver will be changed to 'lbfgs' in 0.22. Specify a solver to silence this warning.\n",
      "  FutureWarning)\n"
     ]
    },
    {
     "name": "stdout",
     "output_type": "stream",
     "text": [
      "7 0.8803411925645771\n"
     ]
    },
    {
     "name": "stderr",
     "output_type": "stream",
     "text": [
      "/Users/kailinghung/anaconda3/lib/python3.7/site-packages/sklearn/linear_model/logistic.py:433: FutureWarning: Default solver will be changed to 'lbfgs' in 0.22. Specify a solver to silence this warning.\n",
      "  FutureWarning)\n"
     ]
    },
    {
     "name": "stdout",
     "output_type": "stream",
     "text": [
      "8 0.8805826023980043\n"
     ]
    },
    {
     "name": "stderr",
     "output_type": "stream",
     "text": [
      "/Users/kailinghung/anaconda3/lib/python3.7/site-packages/sklearn/linear_model/logistic.py:433: FutureWarning: Default solver will be changed to 'lbfgs' in 0.22. Specify a solver to silence this warning.\n",
      "  FutureWarning)\n"
     ]
    },
    {
     "name": "stdout",
     "output_type": "stream",
     "text": [
      "9 0.879134143397441\n"
     ]
    },
    {
     "name": "stderr",
     "output_type": "stream",
     "text": [
      "/Users/kailinghung/anaconda3/lib/python3.7/site-packages/sklearn/linear_model/logistic.py:433: FutureWarning: Default solver will be changed to 'lbfgs' in 0.22. Specify a solver to silence this warning.\n",
      "  FutureWarning)\n"
     ]
    },
    {
     "name": "stdout",
     "output_type": "stream",
     "text": [
      "10 0.8789732035084896\n"
     ]
    },
    {
     "name": "stderr",
     "output_type": "stream",
     "text": [
      "/Users/kailinghung/anaconda3/lib/python3.7/site-packages/sklearn/linear_model/logistic.py:433: FutureWarning: Default solver will be changed to 'lbfgs' in 0.22. Specify a solver to silence this warning.\n",
      "  FutureWarning)\n"
     ]
    },
    {
     "name": "stdout",
     "output_type": "stream",
     "text": [
      "11 0.8792950832863925\n"
     ]
    },
    {
     "name": "stderr",
     "output_type": "stream",
     "text": [
      "/Users/kailinghung/anaconda3/lib/python3.7/site-packages/sklearn/linear_model/logistic.py:433: FutureWarning: Default solver will be changed to 'lbfgs' in 0.22. Specify a solver to silence this warning.\n",
      "  FutureWarning)\n"
     ]
    },
    {
     "name": "stdout",
     "output_type": "stream",
     "text": [
      "12 0.8771223947855475\n"
     ]
    },
    {
     "name": "stderr",
     "output_type": "stream",
     "text": [
      "/Users/kailinghung/anaconda3/lib/python3.7/site-packages/sklearn/linear_model/logistic.py:433: FutureWarning: Default solver will be changed to 'lbfgs' in 0.22. Specify a solver to silence this warning.\n",
      "  FutureWarning)\n"
     ]
    },
    {
     "name": "stdout",
     "output_type": "stream",
     "text": [
      "13 0.872374668061479\n"
     ]
    },
    {
     "name": "stderr",
     "output_type": "stream",
     "text": [
      "/Users/kailinghung/anaconda3/lib/python3.7/site-packages/sklearn/linear_model/logistic.py:433: FutureWarning: Default solver will be changed to 'lbfgs' in 0.22. Specify a solver to silence this warning.\n",
      "  FutureWarning)\n"
     ]
    },
    {
     "name": "stdout",
     "output_type": "stream",
     "text": [
      "14 0.8706847992274885\n"
     ]
    },
    {
     "name": "stderr",
     "output_type": "stream",
     "text": [
      "/Users/kailinghung/anaconda3/lib/python3.7/site-packages/sklearn/linear_model/logistic.py:433: FutureWarning: Default solver will be changed to 'lbfgs' in 0.22. Specify a solver to silence this warning.\n",
      "  FutureWarning)\n"
     ]
    },
    {
     "name": "stdout",
     "output_type": "stream",
     "text": [
      "15 0.8908022853464231\n"
     ]
    },
    {
     "name": "stderr",
     "output_type": "stream",
     "text": [
      "/Users/kailinghung/anaconda3/lib/python3.7/site-packages/sklearn/linear_model/logistic.py:433: FutureWarning: Default solver will be changed to 'lbfgs' in 0.22. Specify a solver to silence this warning.\n",
      "  FutureWarning)\n"
     ]
    },
    {
     "name": "stdout",
     "output_type": "stream",
     "text": [
      "16 0.8665003621147501\n"
     ]
    },
    {
     "name": "stderr",
     "output_type": "stream",
     "text": [
      "/Users/kailinghung/anaconda3/lib/python3.7/site-packages/sklearn/linear_model/logistic.py:433: FutureWarning: Default solver will be changed to 'lbfgs' in 0.22. Specify a solver to silence this warning.\n",
      "  FutureWarning)\n"
     ]
    },
    {
     "name": "stdout",
     "output_type": "stream",
     "text": [
      "17 0.9586384485394706\n"
     ]
    },
    {
     "name": "stderr",
     "output_type": "stream",
     "text": [
      "/Users/kailinghung/anaconda3/lib/python3.7/site-packages/sklearn/linear_model/logistic.py:433: FutureWarning: Default solver will be changed to 'lbfgs' in 0.22. Specify a solver to silence this warning.\n",
      "  FutureWarning)\n"
     ]
    },
    {
     "name": "stdout",
     "output_type": "stream",
     "text": [
      "18 0.9648346342641023\n"
     ]
    },
    {
     "name": "stderr",
     "output_type": "stream",
     "text": [
      "/Users/kailinghung/anaconda3/lib/python3.7/site-packages/sklearn/linear_model/logistic.py:433: FutureWarning: Default solver will be changed to 'lbfgs' in 0.22. Specify a solver to silence this warning.\n",
      "  FutureWarning)\n"
     ]
    },
    {
     "name": "stdout",
     "output_type": "stream",
     "text": [
      "19 0.9686971915989377\n",
      "\n",
      "19\n",
      "0.9856763498833185\n"
     ]
    }
   ],
   "source": [
    "accuracy = []\n",
    "for i in range(1,train_fea.shape[1]):\n",
    "    features_sub = train_fea.iloc[:,:i]\n",
    "    features_sub_oot = oot_fea.iloc[:,:i]\n",
    "    clf = LogisticRegression()\n",
    "    clf.fit(features_sub, train_lab)\n",
    "    score = clf.score(features_sub_oot, oot_lab)\n",
    "    accuracy.append(score)\n",
    "    print(i, score)\n",
    "\n",
    "print(\"\")\n",
    "print(len(accuracy))\n",
    "print(max(accuracy))"
   ]
  },
  {
   "cell_type": "code",
   "execution_count": 120,
   "metadata": {},
   "outputs": [
    {
     "data": {
      "text/plain": [
       "Text(0, 0.5, 'Accuracy')"
      ]
     },
     "execution_count": 120,
     "metadata": {},
     "output_type": "execute_result"
    },
    {
     "data": {
      "image/png": "[encoded data removed]",
      "text/plain": [
       "<Figure size 432x288 with 1 Axes>"
      ]
     },
     "metadata": {
      "needs_background": "light"
     },
     "output_type": "display_data"
    }
   ],
   "source": [
    "plt.plot(accuracy)\n",
    "plt.title('Accuracy on oot data')\n",
    "plt.ylabel('Accuracy')"
   ]
  },
  {
   "cell_type": "markdown",
   "metadata": {},
   "source": [
    "# Feature Selection based on ROC_AUC"
   ]
  },
  {
   "cell_type": "code",
   "execution_count": 121,
   "metadata": {},
   "outputs": [
    {
     "name": "stderr",
     "output_type": "stream",
     "text": [
      "/Users/kailinghung/anaconda3/lib/python3.7/site-packages/sklearn/linear_model/logistic.py:433: FutureWarning: Default solver will be changed to 'lbfgs' in 0.22. Specify a solver to silence this warning.\n",
      "  FutureWarning)\n",
      "/Users/kailinghung/anaconda3/lib/python3.7/site-packages/sklearn/linear_model/logistic.py:433: FutureWarning: Default solver will be changed to 'lbfgs' in 0.22. Specify a solver to silence this warning.\n",
      "  FutureWarning)\n"
     ]
    },
    {
     "name": "stdout",
     "output_type": "stream",
     "text": [
      "1 0.5013768156388502\n",
      "2 0.5013542487279594\n"
     ]
    },
    {
     "name": "stderr",
     "output_type": "stream",
     "text": [
      "/Users/kailinghung/anaconda3/lib/python3.7/site-packages/sklearn/linear_model/logistic.py:433: FutureWarning: Default solver will be changed to 'lbfgs' in 0.22. Specify a solver to silence this warning.\n",
      "  FutureWarning)\n",
      "/Users/kailinghung/anaconda3/lib/python3.7/site-packages/sklearn/linear_model/logistic.py:433: FutureWarning: Default solver will be changed to 'lbfgs' in 0.22. Specify a solver to silence this warning.\n",
      "  FutureWarning)\n"
     ]
    },
    {
     "name": "stdout",
     "output_type": "stream",
     "text": [
      "3 0.5013241595134383\n",
      "4 0.5020388953955692\n"
     ]
    },
    {
     "name": "stderr",
     "output_type": "stream",
     "text": [
      "/Users/kailinghung/anaconda3/lib/python3.7/site-packages/sklearn/linear_model/logistic.py:433: FutureWarning: Default solver will be changed to 'lbfgs' in 0.22. Specify a solver to silence this warning.\n",
      "  FutureWarning)\n"
     ]
    },
    {
     "name": "stdout",
     "output_type": "stream",
     "text": [
      "5 0.5020539400028298\n"
     ]
    },
    {
     "name": "stderr",
     "output_type": "stream",
     "text": [
      "/Users/kailinghung/anaconda3/lib/python3.7/site-packages/sklearn/linear_model/logistic.py:433: FutureWarning: Default solver will be changed to 'lbfgs' in 0.22. Specify a solver to silence this warning.\n",
      "  FutureWarning)\n"
     ]
    },
    {
     "name": "stdout",
     "output_type": "stream",
     "text": [
      "6 0.5034006664271587\n"
     ]
    },
    {
     "name": "stderr",
     "output_type": "stream",
     "text": [
      "/Users/kailinghung/anaconda3/lib/python3.7/site-packages/sklearn/linear_model/logistic.py:433: FutureWarning: Default solver will be changed to 'lbfgs' in 0.22. Specify a solver to silence this warning.\n",
      "  FutureWarning)\n"
     ]
    },
    {
     "name": "stdout",
     "output_type": "stream",
     "text": [
      "7 0.5041078800056595\n"
     ]
    },
    {
     "name": "stderr",
     "output_type": "stream",
     "text": [
      "/Users/kailinghung/anaconda3/lib/python3.7/site-packages/sklearn/linear_model/logistic.py:433: FutureWarning: Default solver will be changed to 'lbfgs' in 0.22. Specify a solver to silence this warning.\n",
      "  FutureWarning)\n"
     ]
    },
    {
     "name": "stdout",
     "output_type": "stream",
     "text": [
      "8 0.5041078800056595\n"
     ]
    },
    {
     "name": "stderr",
     "output_type": "stream",
     "text": [
      "/Users/kailinghung/anaconda3/lib/python3.7/site-packages/sklearn/linear_model/logistic.py:433: FutureWarning: Default solver will be changed to 'lbfgs' in 0.22. Specify a solver to silence this warning.\n",
      "  FutureWarning)\n"
     ]
    },
    {
     "name": "stdout",
     "output_type": "stream",
     "text": [
      "9 0.5041078800056595\n"
     ]
    },
    {
     "name": "stderr",
     "output_type": "stream",
     "text": [
      "/Users/kailinghung/anaconda3/lib/python3.7/site-packages/sklearn/linear_model/logistic.py:433: FutureWarning: Default solver will be changed to 'lbfgs' in 0.22. Specify a solver to silence this warning.\n",
      "  FutureWarning)\n"
     ]
    },
    {
     "name": "stdout",
     "output_type": "stream",
     "text": [
      "10 0.5041078800056595\n"
     ]
    },
    {
     "name": "stderr",
     "output_type": "stream",
     "text": [
      "/Users/kailinghung/anaconda3/lib/python3.7/site-packages/sklearn/linear_model/logistic.py:433: FutureWarning: Default solver will be changed to 'lbfgs' in 0.22. Specify a solver to silence this warning.\n",
      "  FutureWarning)\n"
     ]
    },
    {
     "name": "stdout",
     "output_type": "stream",
     "text": [
      "11 0.5041078800056595\n"
     ]
    },
    {
     "name": "stderr",
     "output_type": "stream",
     "text": [
      "/Users/kailinghung/anaconda3/lib/python3.7/site-packages/sklearn/linear_model/logistic.py:433: FutureWarning: Default solver will be changed to 'lbfgs' in 0.22. Specify a solver to silence this warning.\n",
      "  FutureWarning)\n"
     ]
    },
    {
     "name": "stdout",
     "output_type": "stream",
     "text": [
      "12 0.5041078800056595\n"
     ]
    },
    {
     "name": "stderr",
     "output_type": "stream",
     "text": [
      "/Users/kailinghung/anaconda3/lib/python3.7/site-packages/sklearn/linear_model/logistic.py:433: FutureWarning: Default solver will be changed to 'lbfgs' in 0.22. Specify a solver to silence this warning.\n",
      "  FutureWarning)\n"
     ]
    },
    {
     "name": "stdout",
     "output_type": "stream",
     "text": [
      "13 0.5118345732437555\n"
     ]
    },
    {
     "name": "stderr",
     "output_type": "stream",
     "text": [
      "/Users/kailinghung/anaconda3/lib/python3.7/site-packages/sklearn/linear_model/logistic.py:433: FutureWarning: Default solver will be changed to 'lbfgs' in 0.22. Specify a solver to silence this warning.\n",
      "  FutureWarning)\n"
     ]
    },
    {
     "name": "stdout",
     "output_type": "stream",
     "text": [
      "14 0.5104276683903842\n"
     ]
    },
    {
     "name": "stderr",
     "output_type": "stream",
     "text": [
      "/Users/kailinghung/anaconda3/lib/python3.7/site-packages/sklearn/linear_model/logistic.py:433: FutureWarning: Default solver will be changed to 'lbfgs' in 0.22. Specify a solver to silence this warning.\n",
      "  FutureWarning)\n"
     ]
    },
    {
     "name": "stdout",
     "output_type": "stream",
     "text": [
      "15 0.5118496178510159\n"
     ]
    },
    {
     "name": "stderr",
     "output_type": "stream",
     "text": [
      "/Users/kailinghung/anaconda3/lib/python3.7/site-packages/sklearn/linear_model/logistic.py:433: FutureWarning: Default solver will be changed to 'lbfgs' in 0.22. Specify a solver to silence this warning.\n",
      "  FutureWarning)\n"
     ]
    },
    {
     "name": "stdout",
     "output_type": "stream",
     "text": [
      "16 0.5125493091258865\n"
     ]
    },
    {
     "name": "stderr",
     "output_type": "stream",
     "text": [
      "/Users/kailinghung/anaconda3/lib/python3.7/site-packages/sklearn/linear_model/logistic.py:433: FutureWarning: Default solver will be changed to 'lbfgs' in 0.22. Specify a solver to silence this warning.\n",
      "  FutureWarning)\n"
     ]
    },
    {
     "name": "stdout",
     "output_type": "stream",
     "text": [
      "17 0.5447351077699267\n"
     ]
    },
    {
     "name": "stderr",
     "output_type": "stream",
     "text": [
      "/Users/kailinghung/anaconda3/lib/python3.7/site-packages/sklearn/linear_model/logistic.py:433: FutureWarning: Default solver will be changed to 'lbfgs' in 0.22. Specify a solver to silence this warning.\n",
      "  FutureWarning)\n"
     ]
    },
    {
     "name": "stdout",
     "output_type": "stream",
     "text": [
      "18 0.573708297577565\n"
     ]
    },
    {
     "name": "stderr",
     "output_type": "stream",
     "text": [
      "/Users/kailinghung/anaconda3/lib/python3.7/site-packages/sklearn/linear_model/logistic.py:433: FutureWarning: Default solver will be changed to 'lbfgs' in 0.22. Specify a solver to silence this warning.\n",
      "  FutureWarning)\n"
     ]
    },
    {
     "name": "stdout",
     "output_type": "stream",
     "text": [
      "19 0.5758525052239579\n",
      "\n",
      "19\n",
      "0.5758525052239579\n"
     ]
    }
   ],
   "source": [
    "accuracy = []\n",
    "for i in range(1,train_fea.shape[1]):\n",
    "    features_sub = train_fea.iloc[:,:i]\n",
    "    clf = LogisticRegression()\n",
    "    clf.fit(features_sub, train_lab)\n",
    "    predictions = clf.predict(features_sub)\n",
    "    score = roc_auc_score(train_lab, predictions)\n",
    "    accuracy.append(score)\n",
    "    print(i, score)\n",
    "\n",
    "print(\"\")\n",
    "print(len(accuracy))\n",
    "print(max(accuracy))"
   ]
  },
  {
   "cell_type": "code",
   "execution_count": 122,
   "metadata": {},
   "outputs": [
    {
     "data": {
      "text/plain": [
       "Text(0, 0.5, 'ROC_AUC_Score')"
      ]
     },
     "execution_count": 122,
     "metadata": {},
     "output_type": "execute_result"
    },
    {
     "data": {
      "image/png": "[encoded data removed]",
      "text/plain": [
       "<Figure size 432x288 with 1 Axes>"
      ]
     },
     "metadata": {
      "needs_background": "light"
     },
     "output_type": "display_data"
    }
   ],
   "source": [
    "plt.plot(accuracy)\n",
    "plt.title('ROC_AUC_Score on training data')\n",
    "plt.ylabel('ROC_AUC_Score')"
   ]
  },
  {
   "cell_type": "code",
   "execution_count": 123,
   "metadata": {},
   "outputs": [
    {
     "name": "stderr",
     "output_type": "stream",
     "text": [
      "/Users/kailinghung/anaconda3/lib/python3.7/site-packages/sklearn/linear_model/logistic.py:433: FutureWarning: Default solver will be changed to 'lbfgs' in 0.22. Specify a solver to silence this warning.\n",
      "  FutureWarning)\n",
      "/Users/kailinghung/anaconda3/lib/python3.7/site-packages/sklearn/linear_model/logistic.py:433: FutureWarning: Default solver will be changed to 'lbfgs' in 0.22. Specify a solver to silence this warning.\n",
      "  FutureWarning)\n",
      "/Users/kailinghung/anaconda3/lib/python3.7/site-packages/sklearn/linear_model/logistic.py:433: FutureWarning: Default solver will be changed to 'lbfgs' in 0.22. Specify a solver to silence this warning.\n",
      "  FutureWarning)\n"
     ]
    },
    {
     "name": "stdout",
     "output_type": "stream",
     "text": [
      "1 0.5\n",
      "2 0.4999097527224595\n",
      "3 0.49987967029661273\n",
      "4 0.4999097527224595\n"
     ]
    },
    {
     "name": "stderr",
     "output_type": "stream",
     "text": [
      "/Users/kailinghung/anaconda3/lib/python3.7/site-packages/sklearn/linear_model/logistic.py:433: FutureWarning: Default solver will be changed to 'lbfgs' in 0.22. Specify a solver to silence this warning.\n",
      "  FutureWarning)\n",
      "/Users/kailinghung/anaconda3/lib/python3.7/site-packages/sklearn/linear_model/logistic.py:433: FutureWarning: Default solver will be changed to 'lbfgs' in 0.22. Specify a solver to silence this warning.\n",
      "  FutureWarning)\n"
     ]
    },
    {
     "name": "stdout",
     "output_type": "stream",
     "text": [
      "5 0.4999097527224595\n"
     ]
    },
    {
     "name": "stderr",
     "output_type": "stream",
     "text": [
      "/Users/kailinghung/anaconda3/lib/python3.7/site-packages/sklearn/linear_model/logistic.py:433: FutureWarning: Default solver will be changed to 'lbfgs' in 0.22. Specify a solver to silence this warning.\n",
      "  FutureWarning)\n"
     ]
    },
    {
     "name": "stdout",
     "output_type": "stream",
     "text": [
      "6 0.5056900995432688\n"
     ]
    },
    {
     "name": "stderr",
     "output_type": "stream",
     "text": [
      "/Users/kailinghung/anaconda3/lib/python3.7/site-packages/sklearn/linear_model/logistic.py:433: FutureWarning: Default solver will be changed to 'lbfgs' in 0.22. Specify a solver to silence this warning.\n",
      "  FutureWarning)\n"
     ]
    },
    {
     "name": "stdout",
     "output_type": "stream",
     "text": [
      "7 0.5056900995432688\n"
     ]
    },
    {
     "name": "stderr",
     "output_type": "stream",
     "text": [
      "/Users/kailinghung/anaconda3/lib/python3.7/site-packages/sklearn/linear_model/logistic.py:433: FutureWarning: Default solver will be changed to 'lbfgs' in 0.22. Specify a solver to silence this warning.\n",
      "  FutureWarning)\n"
     ]
    },
    {
     "name": "stdout",
     "output_type": "stream",
     "text": [
      "8 0.5056900995432688\n"
     ]
    },
    {
     "name": "stderr",
     "output_type": "stream",
     "text": [
      "/Users/kailinghung/anaconda3/lib/python3.7/site-packages/sklearn/linear_model/logistic.py:433: FutureWarning: Default solver will be changed to 'lbfgs' in 0.22. Specify a solver to silence this warning.\n",
      "  FutureWarning)\n"
     ]
    },
    {
     "name": "stdout",
     "output_type": "stream",
     "text": [
      "9 0.5056900995432688\n"
     ]
    },
    {
     "name": "stderr",
     "output_type": "stream",
     "text": [
      "/Users/kailinghung/anaconda3/lib/python3.7/site-packages/sklearn/linear_model/logistic.py:433: FutureWarning: Default solver will be changed to 'lbfgs' in 0.22. Specify a solver to silence this warning.\n",
      "  FutureWarning)\n"
     ]
    },
    {
     "name": "stdout",
     "output_type": "stream",
     "text": [
      "10 0.5056900995432688\n"
     ]
    },
    {
     "name": "stderr",
     "output_type": "stream",
     "text": [
      "/Users/kailinghung/anaconda3/lib/python3.7/site-packages/sklearn/linear_model/logistic.py:433: FutureWarning: Default solver will be changed to 'lbfgs' in 0.22. Specify a solver to silence this warning.\n",
      "  FutureWarning)\n"
     ]
    },
    {
     "name": "stdout",
     "output_type": "stream",
     "text": [
      "11 0.5056900995432688\n"
     ]
    },
    {
     "name": "stderr",
     "output_type": "stream",
     "text": [
      "/Users/kailinghung/anaconda3/lib/python3.7/site-packages/sklearn/linear_model/logistic.py:433: FutureWarning: Default solver will be changed to 'lbfgs' in 0.22. Specify a solver to silence this warning.\n",
      "  FutureWarning)\n"
     ]
    },
    {
     "name": "stdout",
     "output_type": "stream",
     "text": [
      "12 0.5056900995432688\n"
     ]
    },
    {
     "name": "stderr",
     "output_type": "stream",
     "text": [
      "/Users/kailinghung/anaconda3/lib/python3.7/site-packages/sklearn/linear_model/logistic.py:433: FutureWarning: Default solver will be changed to 'lbfgs' in 0.22. Specify a solver to silence this warning.\n",
      "  FutureWarning)\n"
     ]
    },
    {
     "name": "stdout",
     "output_type": "stream",
     "text": [
      "13 0.5085501905278266\n"
     ]
    },
    {
     "name": "stderr",
     "output_type": "stream",
     "text": [
      "/Users/kailinghung/anaconda3/lib/python3.7/site-packages/sklearn/linear_model/logistic.py:433: FutureWarning: Default solver will be changed to 'lbfgs' in 0.22. Specify a solver to silence this warning.\n",
      "  FutureWarning)\n"
     ]
    },
    {
     "name": "stdout",
     "output_type": "stream",
     "text": [
      "14 0.505660017117422\n"
     ]
    },
    {
     "name": "stderr",
     "output_type": "stream",
     "text": [
      "/Users/kailinghung/anaconda3/lib/python3.7/site-packages/sklearn/linear_model/logistic.py:433: FutureWarning: Default solver will be changed to 'lbfgs' in 0.22. Specify a solver to silence this warning.\n",
      "  FutureWarning)\n"
     ]
    },
    {
     "name": "stdout",
     "output_type": "stream",
     "text": [
      "15 0.5085501905278266\n"
     ]
    },
    {
     "name": "stderr",
     "output_type": "stream",
     "text": [
      "/Users/kailinghung/anaconda3/lib/python3.7/site-packages/sklearn/linear_model/logistic.py:433: FutureWarning: Default solver will be changed to 'lbfgs' in 0.22. Specify a solver to silence this warning.\n",
      "  FutureWarning)\n"
     ]
    },
    {
     "name": "stdout",
     "output_type": "stream",
     "text": [
      "16 0.5085501905278266\n"
     ]
    },
    {
     "name": "stderr",
     "output_type": "stream",
     "text": [
      "/Users/kailinghung/anaconda3/lib/python3.7/site-packages/sklearn/linear_model/logistic.py:433: FutureWarning: Default solver will be changed to 'lbfgs' in 0.22. Specify a solver to silence this warning.\n",
      "  FutureWarning)\n"
     ]
    },
    {
     "name": "stdout",
     "output_type": "stream",
     "text": [
      "17 0.5631626610670463\n"
     ]
    },
    {
     "name": "stderr",
     "output_type": "stream",
     "text": [
      "/Users/kailinghung/anaconda3/lib/python3.7/site-packages/sklearn/linear_model/logistic.py:433: FutureWarning: Default solver will be changed to 'lbfgs' in 0.22. Specify a solver to silence this warning.\n",
      "  FutureWarning)\n"
     ]
    },
    {
     "name": "stdout",
     "output_type": "stream",
     "text": [
      "18 0.6007649978281532\n"
     ]
    },
    {
     "name": "stderr",
     "output_type": "stream",
     "text": [
      "/Users/kailinghung/anaconda3/lib/python3.7/site-packages/sklearn/linear_model/logistic.py:433: FutureWarning: Default solver will be changed to 'lbfgs' in 0.22. Specify a solver to silence this warning.\n",
      "  FutureWarning)\n"
     ]
    },
    {
     "name": "stdout",
     "output_type": "stream",
     "text": [
      "19 0.6094656004852138\n",
      "\n",
      "19\n",
      "0.6094656004852138\n"
     ]
    }
   ],
   "source": [
    "accuracy = []\n",
    "for i in range(1,train_fea.shape[1]):\n",
    "    features_sub = train_fea.iloc[:,:i]\n",
    "    features_sub_test = test_fea.iloc[:,:i]\n",
    "    clf = LogisticRegression()\n",
    "    clf.fit(features_sub, train_lab)\n",
    "    predictions = clf.predict(features_sub_test)\n",
    "    score = roc_auc_score(test_lab, predictions)\n",
    "    accuracy.append(score)\n",
    "    print(i, score)\n",
    "\n",
    "print(\"\")\n",
    "print(len(accuracy))\n",
    "print(max(accuracy))"
   ]
  },
  {
   "cell_type": "code",
   "execution_count": 124,
   "metadata": {},
   "outputs": [
    {
     "data": {
      "text/plain": [
       "Text(0, 0.5, 'ROC_AUC_Score')"
      ]
     },
     "execution_count": 124,
     "metadata": {},
     "output_type": "execute_result"
    },
    {
     "data": {
      "image/png": "[encoded data removed]",
      "text/plain": [
       "<Figure size 432x288 with 1 Axes>"
      ]
     },
     "metadata": {
      "needs_background": "light"
     },
     "output_type": "display_data"
    }
   ],
   "source": [
    "plt.plot(accuracy)\n",
    "plt.title('ROC_AUC_Score on testing data')\n",
    "plt.ylabel('ROC_AUC_Score')"
   ]
  },
  {
   "cell_type": "code",
   "execution_count": 125,
   "metadata": {},
   "outputs": [
    {
     "name": "stderr",
     "output_type": "stream",
     "text": [
      "/Users/kailinghung/anaconda3/lib/python3.7/site-packages/sklearn/linear_model/logistic.py:433: FutureWarning: Default solver will be changed to 'lbfgs' in 0.22. Specify a solver to silence this warning.\n",
      "  FutureWarning)\n",
      "/Users/kailinghung/anaconda3/lib/python3.7/site-packages/sklearn/linear_model/logistic.py:433: FutureWarning: Default solver will be changed to 'lbfgs' in 0.22. Specify a solver to silence this warning.\n",
      "  FutureWarning)\n",
      "/Users/kailinghung/anaconda3/lib/python3.7/site-packages/sklearn/linear_model/logistic.py:433: FutureWarning: Default solver will be changed to 'lbfgs' in 0.22. Specify a solver to silence this warning.\n",
      "  FutureWarning)\n"
     ]
    },
    {
     "name": "stdout",
     "output_type": "stream",
     "text": [
      "1 0.5\n",
      "2 0.5\n",
      "3 0.4999591770084912\n"
     ]
    },
    {
     "name": "stderr",
     "output_type": "stream",
     "text": [
      "/Users/kailinghung/anaconda3/lib/python3.7/site-packages/sklearn/linear_model/logistic.py:433: FutureWarning: Default solver will be changed to 'lbfgs' in 0.22. Specify a solver to silence this warning.\n",
      "  FutureWarning)\n",
      "/Users/kailinghung/anaconda3/lib/python3.7/site-packages/sklearn/linear_model/logistic.py:433: FutureWarning: Default solver will be changed to 'lbfgs' in 0.22. Specify a solver to silence this warning.\n",
      "  FutureWarning)\n"
     ]
    },
    {
     "name": "stdout",
     "output_type": "stream",
     "text": [
      "4 0.49991835401698237\n",
      "5 0.5110507153830154\n"
     ]
    },
    {
     "name": "stderr",
     "output_type": "stream",
     "text": [
      "/Users/kailinghung/anaconda3/lib/python3.7/site-packages/sklearn/linear_model/logistic.py:433: FutureWarning: Default solver will be changed to 'lbfgs' in 0.22. Specify a solver to silence this warning.\n",
      "  FutureWarning)\n"
     ]
    },
    {
     "name": "stdout",
     "output_type": "stream",
     "text": [
      "6 0.7119839882648724\n"
     ]
    },
    {
     "name": "stderr",
     "output_type": "stream",
     "text": [
      "/Users/kailinghung/anaconda3/lib/python3.7/site-packages/sklearn/linear_model/logistic.py:433: FutureWarning: Default solver will be changed to 'lbfgs' in 0.22. Specify a solver to silence this warning.\n",
      "  FutureWarning)\n"
     ]
    },
    {
     "name": "stdout",
     "output_type": "stream",
     "text": [
      "7 0.7025835252089955\n"
     ]
    },
    {
     "name": "stderr",
     "output_type": "stream",
     "text": [
      "/Users/kailinghung/anaconda3/lib/python3.7/site-packages/sklearn/linear_model/logistic.py:433: FutureWarning: Default solver will be changed to 'lbfgs' in 0.22. Specify a solver to silence this warning.\n",
      "  FutureWarning)\n"
     ]
    },
    {
     "name": "stdout",
     "output_type": "stream",
     "text": [
      "8 0.7027059941835219\n"
     ]
    },
    {
     "name": "stderr",
     "output_type": "stream",
     "text": [
      "/Users/kailinghung/anaconda3/lib/python3.7/site-packages/sklearn/linear_model/logistic.py:433: FutureWarning: Default solver will be changed to 'lbfgs' in 0.22. Specify a solver to silence this warning.\n",
      "  FutureWarning)\n"
     ]
    },
    {
     "name": "stdout",
     "output_type": "stream",
     "text": [
      "9 0.7019711803363632\n"
     ]
    },
    {
     "name": "stderr",
     "output_type": "stream",
     "text": [
      "/Users/kailinghung/anaconda3/lib/python3.7/site-packages/sklearn/linear_model/logistic.py:433: FutureWarning: Default solver will be changed to 'lbfgs' in 0.22. Specify a solver to silence this warning.\n",
      "  FutureWarning)\n"
     ]
    },
    {
     "name": "stdout",
     "output_type": "stream",
     "text": [
      "10 0.7018895343533456\n"
     ]
    },
    {
     "name": "stderr",
     "output_type": "stream",
     "text": [
      "/Users/kailinghung/anaconda3/lib/python3.7/site-packages/sklearn/linear_model/logistic.py:433: FutureWarning: Default solver will be changed to 'lbfgs' in 0.22. Specify a solver to silence this warning.\n",
      "  FutureWarning)\n"
     ]
    },
    {
     "name": "stdout",
     "output_type": "stream",
     "text": [
      "11 0.7020528263193808\n"
     ]
    },
    {
     "name": "stderr",
     "output_type": "stream",
     "text": [
      "/Users/kailinghung/anaconda3/lib/python3.7/site-packages/sklearn/linear_model/logistic.py:433: FutureWarning: Default solver will be changed to 'lbfgs' in 0.22. Specify a solver to silence this warning.\n",
      "  FutureWarning)\n"
     ]
    },
    {
     "name": "stdout",
     "output_type": "stream",
     "text": [
      "12 0.7009506055486427\n"
     ]
    },
    {
     "name": "stderr",
     "output_type": "stream",
     "text": [
      "/Users/kailinghung/anaconda3/lib/python3.7/site-packages/sklearn/linear_model/logistic.py:433: FutureWarning: Default solver will be changed to 'lbfgs' in 0.22. Specify a solver to silence this warning.\n",
      "  FutureWarning)\n"
     ]
    },
    {
     "name": "stdout",
     "output_type": "stream",
     "text": [
      "13 0.7040469952453758\n"
     ]
    },
    {
     "name": "stderr",
     "output_type": "stream",
     "text": [
      "/Users/kailinghung/anaconda3/lib/python3.7/site-packages/sklearn/linear_model/logistic.py:433: FutureWarning: Default solver will be changed to 'lbfgs' in 0.22. Specify a solver to silence this warning.\n",
      "  FutureWarning)\n"
     ]
    },
    {
     "name": "stdout",
     "output_type": "stream",
     "text": [
      "14 0.7086946586194439\n"
     ]
    },
    {
     "name": "stderr",
     "output_type": "stream",
     "text": [
      "/Users/kailinghung/anaconda3/lib/python3.7/site-packages/sklearn/linear_model/logistic.py:433: FutureWarning: Default solver will be changed to 'lbfgs' in 0.22. Specify a solver to silence this warning.\n",
      "  FutureWarning)\n"
     ]
    },
    {
     "name": "stdout",
     "output_type": "stream",
     "text": [
      "15 0.6803657831263753\n"
     ]
    },
    {
     "name": "stderr",
     "output_type": "stream",
     "text": [
      "/Users/kailinghung/anaconda3/lib/python3.7/site-packages/sklearn/linear_model/logistic.py:433: FutureWarning: Default solver will be changed to 'lbfgs' in 0.22. Specify a solver to silence this warning.\n",
      "  FutureWarning)\n"
     ]
    },
    {
     "name": "stdout",
     "output_type": "stream",
     "text": [
      "16 0.6873045513758489\n"
     ]
    },
    {
     "name": "stderr",
     "output_type": "stream",
     "text": [
      "/Users/kailinghung/anaconda3/lib/python3.7/site-packages/sklearn/linear_model/logistic.py:433: FutureWarning: Default solver will be changed to 'lbfgs' in 0.22. Specify a solver to silence this warning.\n",
      "  FutureWarning)\n"
     ]
    },
    {
     "name": "stdout",
     "output_type": "stream",
     "text": [
      "17 0.5000866633339294\n"
     ]
    },
    {
     "name": "stderr",
     "output_type": "stream",
     "text": [
      "/Users/kailinghung/anaconda3/lib/python3.7/site-packages/sklearn/linear_model/logistic.py:433: FutureWarning: Default solver will be changed to 'lbfgs' in 0.22. Specify a solver to silence this warning.\n",
      "  FutureWarning)\n"
     ]
    },
    {
     "name": "stdout",
     "output_type": "stream",
     "text": [
      "18 0.49772508748435496\n"
     ]
    },
    {
     "name": "stderr",
     "output_type": "stream",
     "text": [
      "/Users/kailinghung/anaconda3/lib/python3.7/site-packages/sklearn/linear_model/logistic.py:433: FutureWarning: Default solver will be changed to 'lbfgs' in 0.22. Specify a solver to silence this warning.\n",
      "  FutureWarning)\n"
     ]
    },
    {
     "name": "stdout",
     "output_type": "stream",
     "text": [
      "19 0.502437064174655\n",
      "\n",
      "19\n",
      "0.7119839882648724\n"
     ]
    }
   ],
   "source": [
    "accuracy = []\n",
    "for i in range(1,train_fea.shape[1]):\n",
    "    features_sub = train_fea.iloc[:,:i]\n",
    "    features_sub_oot = oot_fea.iloc[:,:i]\n",
    "    clf = LogisticRegression()\n",
    "    clf.fit(features_sub, train_lab)\n",
    "    predictions = clf.predict(features_sub_oot)\n",
    "    score = roc_auc_score(oot_lab, predictions)\n",
    "    accuracy.append(score)\n",
    "    print(i, score)\n",
    "\n",
    "print(\"\")\n",
    "print(len(accuracy))\n",
    "print(max(accuracy))"
   ]
  },
  {
   "cell_type": "code",
   "execution_count": 126,
   "metadata": {},
   "outputs": [
    {
     "data": {
      "text/plain": [
       "Text(0, 0.5, 'ROC_AUC_Score')"
      ]
     },
     "execution_count": 126,
     "metadata": {},
     "output_type": "execute_result"
    },
    {
     "data": {
      "image/png": "[encoded data removed]",
      "text/plain": [
       "<Figure size 432x288 with 1 Axes>"
      ]
     },
     "metadata": {
      "needs_background": "light"
     },
     "output_type": "display_data"
    }
   ],
   "source": [
    "plt.plot(accuracy)\n",
    "plt.title('ROC_AUC_Score on oot data')\n",
    "plt.ylabel('ROC_AUC_Score')"
   ]
  },
  {
   "cell_type": "markdown",
   "metadata": {},
   "source": [
    "Sadly, the accuracy (optimal # of variables = 19) and ROC_AUC_score (optimal # of variables = 9) seem pretty weird on oot data. I didn't figure out whether anything is wrong yet. "
   ]
  },
  {
   "cell_type": "markdown",
   "metadata": {},
   "source": [
    "# Feature Selection based on FDR"
   ]
  },
  {
   "cell_type": "code",
   "execution_count": 127,
   "metadata": {},
   "outputs": [],
   "source": [
    "def multipltrun(a=10,v=18):\n",
    "    '''\n",
    "    This function run model on different samples based on user input:\n",
    "    \"a\" (int) how many randome samples, default as 5\n",
    "    \"v\" (int) how many variables, default as 6 (most important ones from backward selection)\n",
    "    users can modify model based on different machine learning algorithm and its parameters\n",
    "    \n",
    "    FDR is calculated by first sorting outcome in descending order and cut off at 3%,\n",
    "    sum number of fraud records on top 3% and divided by total fraud racords for that sample\n",
    "    \n",
    "    Final output would be a dataframe contains FDR at 3% for training set, testing set, and oot. \n",
    "    '''\n",
    "    #declare dict\n",
    "    FDRdict={\"train\":[],\"test\":[],\"oot\":[]}\n",
    "    \n",
    "    for i in range(a):        \n",
    "        #split training and testing\n",
    "        train, test = train_test_split(data, test_size=0.2,random_state=i)\n",
    "        \n",
    "        # split lables and features and t\n",
    "        train_lab = train[\"Fraud\"]\n",
    "        train_fea = train.iloc[:,1:v+1]\n",
    "\n",
    "        test_lab = test[\"Fraud\"]\n",
    "        test_fea = test.iloc[:,1:v+1]\n",
    "\n",
    "        oot_lab=oot_df[\"Fraud\"]\n",
    "        oot_fea=oot_df.iloc[:,1:v+1]\n",
    "\n",
    "        #define and fit model\n",
    "\n",
    "        clf = LogisticRegression()\n",
    "        clf.fit(train_fea, train_lab)\n",
    "    \n",
    "        #calculate FDR\n",
    "        for sets in [\"train\",\"test\",\"oot\"]:\n",
    "            fea=vars()[sets+'_fea'] \n",
    "            lab=vars()[sets+'_lab']\n",
    "            prob=pd.DataFrame(clf.predict_proba(fea)) #modify based on your model\n",
    "            result=pd.concat([pd.DataFrame(lab).reset_index(),prob],axis=1)\n",
    "            topRows=int(round(len(result)*0.03))\n",
    "            top3per=result.sort_values(by=1,ascending=False).head(topRows)\n",
    "            FDR=sum(top3per.loc[:,'Fraud'])/sum(result.loc[:,'Fraud'])\n",
    "            FDRdict[sets].append(FDR)\n",
    "    \n",
    "    #convert into dataframe\n",
    "    FDR_df=pd.DataFrame(FDRdict)\n",
    "   \n",
    "    #add new row to calculate mean\n",
    "    FDR_df.loc['mean']=FDR_df.mean()\n",
    "    \n",
    "    return FDR_df"
   ]
  },
  {
   "cell_type": "code",
   "execution_count": 128,
   "metadata": {},
   "outputs": [
    {
     "name": "stderr",
     "output_type": "stream",
     "text": [
      "/Users/kailinghung/anaconda3/lib/python3.7/site-packages/sklearn/linear_model/logistic.py:433: FutureWarning: Default solver will be changed to 'lbfgs' in 0.22. Specify a solver to silence this warning.\n",
      "  FutureWarning)\n",
      "/Users/kailinghung/anaconda3/lib/python3.7/site-packages/sklearn/linear_model/logistic.py:433: FutureWarning: Default solver will be changed to 'lbfgs' in 0.22. Specify a solver to silence this warning.\n",
      "  FutureWarning)\n",
      "/Users/kailinghung/anaconda3/lib/python3.7/site-packages/sklearn/linear_model/logistic.py:433: FutureWarning: Default solver will be changed to 'lbfgs' in 0.22. Specify a solver to silence this warning.\n",
      "  FutureWarning)\n",
      "/Users/kailinghung/anaconda3/lib/python3.7/site-packages/sklearn/linear_model/logistic.py:433: FutureWarning: Default solver will be changed to 'lbfgs' in 0.22. Specify a solver to silence this warning.\n",
      "  FutureWarning)\n",
      "/Users/kailinghung/anaconda3/lib/python3.7/site-packages/sklearn/linear_model/logistic.py:433: FutureWarning: Default solver will be changed to 'lbfgs' in 0.22. Specify a solver to silence this warning.\n",
      "  FutureWarning)\n",
      "/Users/kailinghung/anaconda3/lib/python3.7/site-packages/sklearn/linear_model/logistic.py:433: FutureWarning: Default solver will be changed to 'lbfgs' in 0.22. Specify a solver to silence this warning.\n",
      "  FutureWarning)\n",
      "/Users/kailinghung/anaconda3/lib/python3.7/site-packages/sklearn/linear_model/logistic.py:433: FutureWarning: Default solver will be changed to 'lbfgs' in 0.22. Specify a solver to silence this warning.\n",
      "  FutureWarning)\n",
      "/Users/kailinghung/anaconda3/lib/python3.7/site-packages/sklearn/linear_model/logistic.py:433: FutureWarning: Default solver will be changed to 'lbfgs' in 0.22. Specify a solver to silence this warning.\n",
      "  FutureWarning)\n",
      "/Users/kailinghung/anaconda3/lib/python3.7/site-packages/sklearn/linear_model/logistic.py:433: FutureWarning: Default solver will be changed to 'lbfgs' in 0.22. Specify a solver to silence this warning.\n",
      "  FutureWarning)\n",
      "/Users/kailinghung/anaconda3/lib/python3.7/site-packages/sklearn/linear_model/logistic.py:433: FutureWarning: Default solver will be changed to 'lbfgs' in 0.22. Specify a solver to silence this warning.\n",
      "  FutureWarning)\n"
     ]
    },
    {
     "data": {
      "text/html": [
       "<div>\n",
       "<style scoped>\n",
       "    .dataframe tbody tr th:only-of-type {\n",
       "        vertical-align: middle;\n",
       "    }\n",
       "\n",
       "    .dataframe tbody tr th {\n",
       "        vertical-align: top;\n",
       "    }\n",
       "\n",
       "    .dataframe thead th {\n",
       "        text-align: right;\n",
       "    }\n",
       "</style>\n",
       "<table border=\"1\" class=\"dataframe\">\n",
       "  <thead>\n",
       "    <tr style=\"text-align: right;\">\n",
       "      <th></th>\n",
       "      <th>train</th>\n",
       "      <th>test</th>\n",
       "      <th>oot</th>\n",
       "    </tr>\n",
       "  </thead>\n",
       "  <tbody>\n",
       "    <tr>\n",
       "      <th>0</th>\n",
       "      <td>0.553041</td>\n",
       "      <td>0.618497</td>\n",
       "      <td>0.273743</td>\n",
       "    </tr>\n",
       "    <tr>\n",
       "      <th>1</th>\n",
       "      <td>0.549858</td>\n",
       "      <td>0.640449</td>\n",
       "      <td>0.256983</td>\n",
       "    </tr>\n",
       "    <tr>\n",
       "      <th>2</th>\n",
       "      <td>0.556391</td>\n",
       "      <td>0.581395</td>\n",
       "      <td>0.273743</td>\n",
       "    </tr>\n",
       "    <tr>\n",
       "      <th>3</th>\n",
       "      <td>0.572263</td>\n",
       "      <td>0.574359</td>\n",
       "      <td>0.279330</td>\n",
       "    </tr>\n",
       "    <tr>\n",
       "      <th>4</th>\n",
       "      <td>0.561453</td>\n",
       "      <td>0.640244</td>\n",
       "      <td>0.268156</td>\n",
       "    </tr>\n",
       "    <tr>\n",
       "      <th>5</th>\n",
       "      <td>0.561605</td>\n",
       "      <td>0.571429</td>\n",
       "      <td>0.273743</td>\n",
       "    </tr>\n",
       "    <tr>\n",
       "      <th>6</th>\n",
       "      <td>0.568182</td>\n",
       "      <td>0.602273</td>\n",
       "      <td>0.268156</td>\n",
       "    </tr>\n",
       "    <tr>\n",
       "      <th>7</th>\n",
       "      <td>0.570442</td>\n",
       "      <td>0.519231</td>\n",
       "      <td>0.251397</td>\n",
       "    </tr>\n",
       "    <tr>\n",
       "      <th>8</th>\n",
       "      <td>0.568768</td>\n",
       "      <td>0.593407</td>\n",
       "      <td>0.279330</td>\n",
       "    </tr>\n",
       "    <tr>\n",
       "      <th>9</th>\n",
       "      <td>0.583217</td>\n",
       "      <td>0.557576</td>\n",
       "      <td>0.273743</td>\n",
       "    </tr>\n",
       "    <tr>\n",
       "      <th>mean</th>\n",
       "      <td>0.564522</td>\n",
       "      <td>0.589886</td>\n",
       "      <td>0.269832</td>\n",
       "    </tr>\n",
       "  </tbody>\n",
       "</table>\n",
       "</div>"
      ],
      "text/plain": [
       "         train      test       oot\n",
       "0     0.553041  0.618497  0.273743\n",
       "1     0.549858  0.640449  0.256983\n",
       "2     0.556391  0.581395  0.273743\n",
       "3     0.572263  0.574359  0.279330\n",
       "4     0.561453  0.640244  0.268156\n",
       "5     0.561605  0.571429  0.273743\n",
       "6     0.568182  0.602273  0.268156\n",
       "7     0.570442  0.519231  0.251397\n",
       "8     0.568768  0.593407  0.279330\n",
       "9     0.583217  0.557576  0.273743\n",
       "mean  0.564522  0.589886  0.269832"
      ]
     },
     "execution_count": 128,
     "metadata": {},
     "output_type": "execute_result"
    }
   ],
   "source": [
    "multipltrun()"
   ]
  },
  {
   "cell_type": "code",
   "execution_count": 129,
   "metadata": {},
   "outputs": [
    {
     "name": "stderr",
     "output_type": "stream",
     "text": [
      "/Users/kailinghung/anaconda3/lib/python3.7/site-packages/sklearn/linear_model/logistic.py:433: FutureWarning: Default solver will be changed to 'lbfgs' in 0.22. Specify a solver to silence this warning.\n",
      "  FutureWarning)\n",
      "/Users/kailinghung/anaconda3/lib/python3.7/site-packages/sklearn/linear_model/logistic.py:433: FutureWarning: Default solver will be changed to 'lbfgs' in 0.22. Specify a solver to silence this warning.\n",
      "  FutureWarning)\n",
      "/Users/kailinghung/anaconda3/lib/python3.7/site-packages/sklearn/linear_model/logistic.py:433: FutureWarning: Default solver will be changed to 'lbfgs' in 0.22. Specify a solver to silence this warning.\n",
      "  FutureWarning)\n",
      "/Users/kailinghung/anaconda3/lib/python3.7/site-packages/sklearn/linear_model/logistic.py:433: FutureWarning: Default solver will be changed to 'lbfgs' in 0.22. Specify a solver to silence this warning.\n",
      "  FutureWarning)\n",
      "/Users/kailinghung/anaconda3/lib/python3.7/site-packages/sklearn/linear_model/logistic.py:433: FutureWarning: Default solver will be changed to 'lbfgs' in 0.22. Specify a solver to silence this warning.\n",
      "  FutureWarning)\n",
      "/Users/kailinghung/anaconda3/lib/python3.7/site-packages/sklearn/linear_model/logistic.py:433: FutureWarning: Default solver will be changed to 'lbfgs' in 0.22. Specify a solver to silence this warning.\n",
      "  FutureWarning)\n",
      "/Users/kailinghung/anaconda3/lib/python3.7/site-packages/sklearn/linear_model/logistic.py:433: FutureWarning: Default solver will be changed to 'lbfgs' in 0.22. Specify a solver to silence this warning.\n",
      "  FutureWarning)\n",
      "/Users/kailinghung/anaconda3/lib/python3.7/site-packages/sklearn/linear_model/logistic.py:433: FutureWarning: Default solver will be changed to 'lbfgs' in 0.22. Specify a solver to silence this warning.\n",
      "  FutureWarning)\n",
      "/Users/kailinghung/anaconda3/lib/python3.7/site-packages/sklearn/linear_model/logistic.py:433: FutureWarning: Default solver will be changed to 'lbfgs' in 0.22. Specify a solver to silence this warning.\n",
      "  FutureWarning)\n",
      "/Users/kailinghung/anaconda3/lib/python3.7/site-packages/sklearn/linear_model/logistic.py:433: FutureWarning: Default solver will be changed to 'lbfgs' in 0.22. Specify a solver to silence this warning.\n",
      "  FutureWarning)\n"
     ]
    },
    {
     "data": {
      "text/html": [
       "<div>\n",
       "<style scoped>\n",
       "    .dataframe tbody tr th:only-of-type {\n",
       "        vertical-align: middle;\n",
       "    }\n",
       "\n",
       "    .dataframe tbody tr th {\n",
       "        vertical-align: top;\n",
       "    }\n",
       "\n",
       "    .dataframe thead th {\n",
       "        text-align: right;\n",
       "    }\n",
       "</style>\n",
       "<table border=\"1\" class=\"dataframe\">\n",
       "  <thead>\n",
       "    <tr style=\"text-align: right;\">\n",
       "      <th></th>\n",
       "      <th>train</th>\n",
       "      <th>test</th>\n",
       "      <th>oot</th>\n",
       "    </tr>\n",
       "  </thead>\n",
       "  <tbody>\n",
       "    <tr>\n",
       "      <th>0</th>\n",
       "      <td>0.545969</td>\n",
       "      <td>0.618497</td>\n",
       "      <td>0.296089</td>\n",
       "    </tr>\n",
       "    <tr>\n",
       "      <th>1</th>\n",
       "      <td>0.547009</td>\n",
       "      <td>0.651685</td>\n",
       "      <td>0.307263</td>\n",
       "    </tr>\n",
       "    <tr>\n",
       "      <th>2</th>\n",
       "      <td>0.557895</td>\n",
       "      <td>0.586047</td>\n",
       "      <td>0.318436</td>\n",
       "    </tr>\n",
       "    <tr>\n",
       "      <th>3</th>\n",
       "      <td>0.569343</td>\n",
       "      <td>0.589744</td>\n",
       "      <td>0.324022</td>\n",
       "    </tr>\n",
       "    <tr>\n",
       "      <th>4</th>\n",
       "      <td>0.562849</td>\n",
       "      <td>0.640244</td>\n",
       "      <td>0.301676</td>\n",
       "    </tr>\n",
       "    <tr>\n",
       "      <th>5</th>\n",
       "      <td>0.554441</td>\n",
       "      <td>0.582418</td>\n",
       "      <td>0.324022</td>\n",
       "    </tr>\n",
       "    <tr>\n",
       "      <th>6</th>\n",
       "      <td>0.561080</td>\n",
       "      <td>0.602273</td>\n",
       "      <td>0.312849</td>\n",
       "    </tr>\n",
       "    <tr>\n",
       "      <th>7</th>\n",
       "      <td>0.570442</td>\n",
       "      <td>0.519231</td>\n",
       "      <td>0.279330</td>\n",
       "    </tr>\n",
       "    <tr>\n",
       "      <th>8</th>\n",
       "      <td>0.567335</td>\n",
       "      <td>0.582418</td>\n",
       "      <td>0.318436</td>\n",
       "    </tr>\n",
       "    <tr>\n",
       "      <th>9</th>\n",
       "      <td>0.576224</td>\n",
       "      <td>0.557576</td>\n",
       "      <td>0.307263</td>\n",
       "    </tr>\n",
       "    <tr>\n",
       "      <th>mean</th>\n",
       "      <td>0.561259</td>\n",
       "      <td>0.593013</td>\n",
       "      <td>0.308939</td>\n",
       "    </tr>\n",
       "  </tbody>\n",
       "</table>\n",
       "</div>"
      ],
      "text/plain": [
       "         train      test       oot\n",
       "0     0.545969  0.618497  0.296089\n",
       "1     0.547009  0.651685  0.307263\n",
       "2     0.557895  0.586047  0.318436\n",
       "3     0.569343  0.589744  0.324022\n",
       "4     0.562849  0.640244  0.301676\n",
       "5     0.554441  0.582418  0.324022\n",
       "6     0.561080  0.602273  0.312849\n",
       "7     0.570442  0.519231  0.279330\n",
       "8     0.567335  0.582418  0.318436\n",
       "9     0.576224  0.557576  0.307263\n",
       "mean  0.561259  0.593013  0.308939"
      ]
     },
     "execution_count": 129,
     "metadata": {},
     "output_type": "execute_result"
    }
   ],
   "source": [
    "multipltrun(v=20)"
   ]
  },
  {
   "cell_type": "code",
   "execution_count": 131,
   "metadata": {},
   "outputs": [
    {
     "name": "stderr",
     "output_type": "stream",
     "text": [
      "/Users/kailinghung/anaconda3/lib/python3.7/site-packages/sklearn/linear_model/logistic.py:433: FutureWarning: Default solver will be changed to 'lbfgs' in 0.22. Specify a solver to silence this warning.\n",
      "  FutureWarning)\n",
      "/Users/kailinghung/anaconda3/lib/python3.7/site-packages/sklearn/linear_model/logistic.py:433: FutureWarning: Default solver will be changed to 'lbfgs' in 0.22. Specify a solver to silence this warning.\n",
      "  FutureWarning)\n",
      "/Users/kailinghung/anaconda3/lib/python3.7/site-packages/sklearn/linear_model/logistic.py:433: FutureWarning: Default solver will be changed to 'lbfgs' in 0.22. Specify a solver to silence this warning.\n",
      "  FutureWarning)\n",
      "/Users/kailinghung/anaconda3/lib/python3.7/site-packages/sklearn/linear_model/logistic.py:433: FutureWarning: Default solver will be changed to 'lbfgs' in 0.22. Specify a solver to silence this warning.\n",
      "  FutureWarning)\n",
      "/Users/kailinghung/anaconda3/lib/python3.7/site-packages/sklearn/linear_model/logistic.py:433: FutureWarning: Default solver will be changed to 'lbfgs' in 0.22. Specify a solver to silence this warning.\n",
      "  FutureWarning)\n",
      "/Users/kailinghung/anaconda3/lib/python3.7/site-packages/sklearn/linear_model/logistic.py:433: FutureWarning: Default solver will be changed to 'lbfgs' in 0.22. Specify a solver to silence this warning.\n",
      "  FutureWarning)\n",
      "/Users/kailinghung/anaconda3/lib/python3.7/site-packages/sklearn/linear_model/logistic.py:433: FutureWarning: Default solver will be changed to 'lbfgs' in 0.22. Specify a solver to silence this warning.\n",
      "  FutureWarning)\n",
      "/Users/kailinghung/anaconda3/lib/python3.7/site-packages/sklearn/linear_model/logistic.py:433: FutureWarning: Default solver will be changed to 'lbfgs' in 0.22. Specify a solver to silence this warning.\n",
      "  FutureWarning)\n",
      "/Users/kailinghung/anaconda3/lib/python3.7/site-packages/sklearn/linear_model/logistic.py:433: FutureWarning: Default solver will be changed to 'lbfgs' in 0.22. Specify a solver to silence this warning.\n",
      "  FutureWarning)\n",
      "/Users/kailinghung/anaconda3/lib/python3.7/site-packages/sklearn/linear_model/logistic.py:433: FutureWarning: Default solver will be changed to 'lbfgs' in 0.22. Specify a solver to silence this warning.\n",
      "  FutureWarning)\n"
     ]
    },
    {
     "data": {
      "text/html": [
       "<div>\n",
       "<style scoped>\n",
       "    .dataframe tbody tr th:only-of-type {\n",
       "        vertical-align: middle;\n",
       "    }\n",
       "\n",
       "    .dataframe tbody tr th {\n",
       "        vertical-align: top;\n",
       "    }\n",
       "\n",
       "    .dataframe thead th {\n",
       "        text-align: right;\n",
       "    }\n",
       "</style>\n",
       "<table border=\"1\" class=\"dataframe\">\n",
       "  <thead>\n",
       "    <tr style=\"text-align: right;\">\n",
       "      <th></th>\n",
       "      <th>train</th>\n",
       "      <th>test</th>\n",
       "      <th>oot</th>\n",
       "    </tr>\n",
       "  </thead>\n",
       "  <tbody>\n",
       "    <tr>\n",
       "      <th>0</th>\n",
       "      <td>0.352192</td>\n",
       "      <td>0.427746</td>\n",
       "      <td>0.128492</td>\n",
       "    </tr>\n",
       "    <tr>\n",
       "      <th>1</th>\n",
       "      <td>0.360399</td>\n",
       "      <td>0.404494</td>\n",
       "      <td>0.134078</td>\n",
       "    </tr>\n",
       "    <tr>\n",
       "      <th>2</th>\n",
       "      <td>0.353383</td>\n",
       "      <td>0.381395</td>\n",
       "      <td>0.128492</td>\n",
       "    </tr>\n",
       "    <tr>\n",
       "      <th>3</th>\n",
       "      <td>0.357664</td>\n",
       "      <td>0.405128</td>\n",
       "      <td>0.134078</td>\n",
       "    </tr>\n",
       "    <tr>\n",
       "      <th>4</th>\n",
       "      <td>0.360335</td>\n",
       "      <td>0.390244</td>\n",
       "      <td>0.139665</td>\n",
       "    </tr>\n",
       "    <tr>\n",
       "      <th>5</th>\n",
       "      <td>0.358166</td>\n",
       "      <td>0.401099</td>\n",
       "      <td>0.128492</td>\n",
       "    </tr>\n",
       "    <tr>\n",
       "      <th>6</th>\n",
       "      <td>0.357955</td>\n",
       "      <td>0.397727</td>\n",
       "      <td>0.122905</td>\n",
       "    </tr>\n",
       "    <tr>\n",
       "      <th>7</th>\n",
       "      <td>0.375691</td>\n",
       "      <td>0.352564</td>\n",
       "      <td>0.122905</td>\n",
       "    </tr>\n",
       "    <tr>\n",
       "      <th>8</th>\n",
       "      <td>0.368195</td>\n",
       "      <td>0.362637</td>\n",
       "      <td>0.128492</td>\n",
       "    </tr>\n",
       "    <tr>\n",
       "      <th>9</th>\n",
       "      <td>0.367832</td>\n",
       "      <td>0.321212</td>\n",
       "      <td>0.139665</td>\n",
       "    </tr>\n",
       "    <tr>\n",
       "      <th>mean</th>\n",
       "      <td>0.361181</td>\n",
       "      <td>0.384425</td>\n",
       "      <td>0.130726</td>\n",
       "    </tr>\n",
       "  </tbody>\n",
       "</table>\n",
       "</div>"
      ],
      "text/plain": [
       "         train      test       oot\n",
       "0     0.352192  0.427746  0.128492\n",
       "1     0.360399  0.404494  0.134078\n",
       "2     0.353383  0.381395  0.128492\n",
       "3     0.357664  0.405128  0.134078\n",
       "4     0.360335  0.390244  0.139665\n",
       "5     0.358166  0.401099  0.128492\n",
       "6     0.357955  0.397727  0.122905\n",
       "7     0.375691  0.352564  0.122905\n",
       "8     0.368195  0.362637  0.128492\n",
       "9     0.367832  0.321212  0.139665\n",
       "mean  0.361181  0.384425  0.130726"
      ]
     },
     "execution_count": 131,
     "metadata": {},
     "output_type": "execute_result"
    }
   ],
   "source": [
    "multipltrun(v=16)"
   ]
  },
  {
   "cell_type": "code",
   "execution_count": 130,
   "metadata": {},
   "outputs": [],
   "source": [
    "def multipltrun_2(a=10,v=16):\n",
    "    '''\n",
    "    This function run model on different samples based on user input:\n",
    "    \"a\" (int) how many randome samples, default as 5\n",
    "    \"v\" (int) how many variables, default as 6 (most important ones from backward selection)\n",
    "    users can modify model based on different machine learning algorithm and its parameters\n",
    "    \n",
    "    FDR is calculated by first sorting outcome in descending order and cut off at 3%,\n",
    "    sum number of fraud records on top 3% and divided by total fraud racords for that sample\n",
    "    \n",
    "    Final output would be a dataframe contains FDR at 3% for training set, testing set, and oot. \n",
    "    '''\n",
    "    #declare dict\n",
    "    FDRdf_v=pd.DataFrame({\"train\":[],\"test\":[],\"oot\":[]})\n",
    "    \n",
    "    for j in range(1,v+1):\n",
    "        FDRdict={\"train\":[],\"test\":[],\"oot\":[]}\n",
    "        \n",
    "        for i in range(a):\n",
    "        #split training and testing\n",
    "            train, test = train_test_split(data, test_size=0.2,random_state=i)\n",
    "        \n",
    "            # split lables and features and t\n",
    "            train_lab = train[\"Fraud\"]\n",
    "            train_fea = train.iloc[:,1:j+1]\n",
    "\n",
    "            test_lab = test[\"Fraud\"]\n",
    "            test_fea = test.iloc[:,1:j+1]\n",
    "\n",
    "            oot_lab=oot_df[\"Fraud\"]\n",
    "            oot_fea=oot_df.iloc[:,1:j+1]\n",
    "\n",
    "            #define and fit model\n",
    "\n",
    "            clf = LogisticRegression()\n",
    "            clf.fit(train_fea, train_lab)\n",
    "\n",
    "            #calculate FDR\n",
    "            for sets in [\"train\",\"test\",\"oot\"]:\n",
    "                fea=vars()[sets+'_fea'] \n",
    "                lab=vars()[sets+'_lab']\n",
    "                prob=pd.DataFrame(clf.predict_proba(fea)) \n",
    "                result=pd.concat([pd.DataFrame(lab).reset_index(),prob],axis=1)\n",
    "                topRows=int(round(len(result)*0.03))\n",
    "                top3per=result.sort_values(by=1,ascending=False).head(topRows)\n",
    "                FDR=sum(top3per.loc[:,'Fraud'])/sum(result.loc[:,'Fraud'])\n",
    "                FDRdict[sets].append(FDR)\n",
    "    \n",
    "    #convert into dataframe\n",
    "        FDR_df=pd.DataFrame(FDRdict)\n",
    "   \n",
    "    #add new row to calculate mean\n",
    "        # FDRdf_v.append(FDR_df.mean(),ignore_index=True)\n",
    "    \n",
    "        FDRdf_v.loc[j+1]=FDR_df.mean()\n",
    "        \n",
    "    return FDRdf_v"
   ]
  },
  {
   "cell_type": "code",
   "execution_count": 105,
   "metadata": {},
   "outputs": [
    {
     "name": "stderr",
     "output_type": "stream",
     "text": [
      "/Users/kailinghung/anaconda3/lib/python3.7/site-packages/sklearn/linear_model/logistic.py:433: FutureWarning: Default solver will be changed to 'lbfgs' in 0.22. Specify a solver to silence this warning.\n",
      "  FutureWarning)\n",
      "/Users/kailinghung/anaconda3/lib/python3.7/site-packages/sklearn/linear_model/logistic.py:433: FutureWarning: Default solver will be changed to 'lbfgs' in 0.22. Specify a solver to silence this warning.\n",
      "  FutureWarning)\n",
      "/Users/kailinghung/anaconda3/lib/python3.7/site-packages/sklearn/linear_model/logistic.py:433: FutureWarning: Default solver will be changed to 'lbfgs' in 0.22. Specify a solver to silence this warning.\n",
      "  FutureWarning)\n",
      "/Users/kailinghung/anaconda3/lib/python3.7/site-packages/sklearn/linear_model/logistic.py:433: FutureWarning: Default solver will be changed to 'lbfgs' in 0.22. Specify a solver to silence this warning.\n",
      "  FutureWarning)\n",
      "/Users/kailinghung/anaconda3/lib/python3.7/site-packages/sklearn/linear_model/logistic.py:433: FutureWarning: Default solver will be changed to 'lbfgs' in 0.22. Specify a solver to silence this warning.\n",
      "  FutureWarning)\n",
      "/Users/kailinghung/anaconda3/lib/python3.7/site-packages/sklearn/linear_model/logistic.py:433: FutureWarning: Default solver will be changed to 'lbfgs' in 0.22. Specify a solver to silence this warning.\n",
      "  FutureWarning)\n",
      "/Users/kailinghung/anaconda3/lib/python3.7/site-packages/sklearn/linear_model/logistic.py:433: FutureWarning: Default solver will be changed to 'lbfgs' in 0.22. Specify a solver to silence this warning.\n",
      "  FutureWarning)\n",
      "/Users/kailinghung/anaconda3/lib/python3.7/site-packages/sklearn/linear_model/logistic.py:433: FutureWarning: Default solver will be changed to 'lbfgs' in 0.22. Specify a solver to silence this warning.\n",
      "  FutureWarning)\n",
      "/Users/kailinghung/anaconda3/lib/python3.7/site-packages/sklearn/linear_model/logistic.py:433: FutureWarning: Default solver will be changed to 'lbfgs' in 0.22. Specify a solver to silence this warning.\n",
      "  FutureWarning)\n",
      "/Users/kailinghung/anaconda3/lib/python3.7/site-packages/sklearn/linear_model/logistic.py:433: FutureWarning: Default solver will be changed to 'lbfgs' in 0.22. Specify a solver to silence this warning.\n",
      "  FutureWarning)\n",
      "/Users/kailinghung/anaconda3/lib/python3.7/site-packages/sklearn/linear_model/logistic.py:433: FutureWarning: Default solver will be changed to 'lbfgs' in 0.22. Specify a solver to silence this warning.\n",
      "  FutureWarning)\n",
      "/Users/kailinghung/anaconda3/lib/python3.7/site-packages/sklearn/linear_model/logistic.py:433: FutureWarning: Default solver will be changed to 'lbfgs' in 0.22. Specify a solver to silence this warning.\n",
      "  FutureWarning)\n",
      "/Users/kailinghung/anaconda3/lib/python3.7/site-packages/sklearn/linear_model/logistic.py:433: FutureWarning: Default solver will be changed to 'lbfgs' in 0.22. Specify a solver to silence this warning.\n",
      "  FutureWarning)\n",
      "/Users/kailinghung/anaconda3/lib/python3.7/site-packages/sklearn/linear_model/logistic.py:433: FutureWarning: Default solver will be changed to 'lbfgs' in 0.22. Specify a solver to silence this warning.\n",
      "  FutureWarning)\n",
      "/Users/kailinghung/anaconda3/lib/python3.7/site-packages/sklearn/linear_model/logistic.py:433: FutureWarning: Default solver will be changed to 'lbfgs' in 0.22. Specify a solver to silence this warning.\n",
      "  FutureWarning)\n",
      "/Users/kailinghung/anaconda3/lib/python3.7/site-packages/sklearn/linear_model/logistic.py:433: FutureWarning: Default solver will be changed to 'lbfgs' in 0.22. Specify a solver to silence this warning.\n",
      "  FutureWarning)\n",
      "/Users/kailinghung/anaconda3/lib/python3.7/site-packages/sklearn/linear_model/logistic.py:433: FutureWarning: Default solver will be changed to 'lbfgs' in 0.22. Specify a solver to silence this warning.\n",
      "  FutureWarning)\n",
      "/Users/kailinghung/anaconda3/lib/python3.7/site-packages/sklearn/linear_model/logistic.py:433: FutureWarning: Default solver will be changed to 'lbfgs' in 0.22. Specify a solver to silence this warning.\n",
      "  FutureWarning)\n",
      "/Users/kailinghung/anaconda3/lib/python3.7/site-packages/sklearn/linear_model/logistic.py:433: FutureWarning: Default solver will be changed to 'lbfgs' in 0.22. Specify a solver to silence this warning.\n",
      "  FutureWarning)\n",
      "/Users/kailinghung/anaconda3/lib/python3.7/site-packages/sklearn/linear_model/logistic.py:433: FutureWarning: Default solver will be changed to 'lbfgs' in 0.22. Specify a solver to silence this warning.\n",
      "  FutureWarning)\n",
      "/Users/kailinghung/anaconda3/lib/python3.7/site-packages/sklearn/linear_model/logistic.py:433: FutureWarning: Default solver will be changed to 'lbfgs' in 0.22. Specify a solver to silence this warning.\n",
      "  FutureWarning)\n",
      "/Users/kailinghung/anaconda3/lib/python3.7/site-packages/sklearn/linear_model/logistic.py:433: FutureWarning: Default solver will be changed to 'lbfgs' in 0.22. Specify a solver to silence this warning.\n",
      "  FutureWarning)\n",
      "/Users/kailinghung/anaconda3/lib/python3.7/site-packages/sklearn/linear_model/logistic.py:433: FutureWarning: Default solver will be changed to 'lbfgs' in 0.22. Specify a solver to silence this warning.\n",
      "  FutureWarning)\n",
      "/Users/kailinghung/anaconda3/lib/python3.7/site-packages/sklearn/linear_model/logistic.py:433: FutureWarning: Default solver will be changed to 'lbfgs' in 0.22. Specify a solver to silence this warning.\n",
      "  FutureWarning)\n",
      "/Users/kailinghung/anaconda3/lib/python3.7/site-packages/sklearn/linear_model/logistic.py:433: FutureWarning: Default solver will be changed to 'lbfgs' in 0.22. Specify a solver to silence this warning.\n",
      "  FutureWarning)\n",
      "/Users/kailinghung/anaconda3/lib/python3.7/site-packages/sklearn/linear_model/logistic.py:433: FutureWarning: Default solver will be changed to 'lbfgs' in 0.22. Specify a solver to silence this warning.\n",
      "  FutureWarning)\n",
      "/Users/kailinghung/anaconda3/lib/python3.7/site-packages/sklearn/linear_model/logistic.py:433: FutureWarning: Default solver will be changed to 'lbfgs' in 0.22. Specify a solver to silence this warning.\n",
      "  FutureWarning)\n",
      "/Users/kailinghung/anaconda3/lib/python3.7/site-packages/sklearn/linear_model/logistic.py:433: FutureWarning: Default solver will be changed to 'lbfgs' in 0.22. Specify a solver to silence this warning.\n",
      "  FutureWarning)\n",
      "/Users/kailinghung/anaconda3/lib/python3.7/site-packages/sklearn/linear_model/logistic.py:433: FutureWarning: Default solver will be changed to 'lbfgs' in 0.22. Specify a solver to silence this warning.\n",
      "  FutureWarning)\n",
      "/Users/kailinghung/anaconda3/lib/python3.7/site-packages/sklearn/linear_model/logistic.py:433: FutureWarning: Default solver will be changed to 'lbfgs' in 0.22. Specify a solver to silence this warning.\n",
      "  FutureWarning)\n",
      "/Users/kailinghung/anaconda3/lib/python3.7/site-packages/sklearn/linear_model/logistic.py:433: FutureWarning: Default solver will be changed to 'lbfgs' in 0.22. Specify a solver to silence this warning.\n",
      "  FutureWarning)\n",
      "/Users/kailinghung/anaconda3/lib/python3.7/site-packages/sklearn/linear_model/logistic.py:433: FutureWarning: Default solver will be changed to 'lbfgs' in 0.22. Specify a solver to silence this warning.\n",
      "  FutureWarning)\n",
      "/Users/kailinghung/anaconda3/lib/python3.7/site-packages/sklearn/linear_model/logistic.py:433: FutureWarning: Default solver will be changed to 'lbfgs' in 0.22. Specify a solver to silence this warning.\n",
      "  FutureWarning)\n",
      "/Users/kailinghung/anaconda3/lib/python3.7/site-packages/sklearn/linear_model/logistic.py:433: FutureWarning: Default solver will be changed to 'lbfgs' in 0.22. Specify a solver to silence this warning.\n",
      "  FutureWarning)\n",
      "/Users/kailinghung/anaconda3/lib/python3.7/site-packages/sklearn/linear_model/logistic.py:433: FutureWarning: Default solver will be changed to 'lbfgs' in 0.22. Specify a solver to silence this warning.\n",
      "  FutureWarning)\n",
      "/Users/kailinghung/anaconda3/lib/python3.7/site-packages/sklearn/linear_model/logistic.py:433: FutureWarning: Default solver will be changed to 'lbfgs' in 0.22. Specify a solver to silence this warning.\n",
      "  FutureWarning)\n",
      "/Users/kailinghung/anaconda3/lib/python3.7/site-packages/sklearn/linear_model/logistic.py:433: FutureWarning: Default solver will be changed to 'lbfgs' in 0.22. Specify a solver to silence this warning.\n",
      "  FutureWarning)\n",
      "/Users/kailinghung/anaconda3/lib/python3.7/site-packages/sklearn/linear_model/logistic.py:433: FutureWarning: Default solver will be changed to 'lbfgs' in 0.22. Specify a solver to silence this warning.\n",
      "  FutureWarning)\n"
     ]
    },
    {
     "name": "stderr",
     "output_type": "stream",
     "text": [
      "/Users/kailinghung/anaconda3/lib/python3.7/site-packages/sklearn/linear_model/logistic.py:433: FutureWarning: Default solver will be changed to 'lbfgs' in 0.22. Specify a solver to silence this warning.\n",
      "  FutureWarning)\n",
      "/Users/kailinghung/anaconda3/lib/python3.7/site-packages/sklearn/linear_model/logistic.py:433: FutureWarning: Default solver will be changed to 'lbfgs' in 0.22. Specify a solver to silence this warning.\n",
      "  FutureWarning)\n",
      "/Users/kailinghung/anaconda3/lib/python3.7/site-packages/sklearn/linear_model/logistic.py:433: FutureWarning: Default solver will be changed to 'lbfgs' in 0.22. Specify a solver to silence this warning.\n",
      "  FutureWarning)\n",
      "/Users/kailinghung/anaconda3/lib/python3.7/site-packages/sklearn/linear_model/logistic.py:433: FutureWarning: Default solver will be changed to 'lbfgs' in 0.22. Specify a solver to silence this warning.\n",
      "  FutureWarning)\n",
      "/Users/kailinghung/anaconda3/lib/python3.7/site-packages/sklearn/linear_model/logistic.py:433: FutureWarning: Default solver will be changed to 'lbfgs' in 0.22. Specify a solver to silence this warning.\n",
      "  FutureWarning)\n",
      "/Users/kailinghung/anaconda3/lib/python3.7/site-packages/sklearn/linear_model/logistic.py:433: FutureWarning: Default solver will be changed to 'lbfgs' in 0.22. Specify a solver to silence this warning.\n",
      "  FutureWarning)\n",
      "/Users/kailinghung/anaconda3/lib/python3.7/site-packages/sklearn/linear_model/logistic.py:433: FutureWarning: Default solver will be changed to 'lbfgs' in 0.22. Specify a solver to silence this warning.\n",
      "  FutureWarning)\n",
      "/Users/kailinghung/anaconda3/lib/python3.7/site-packages/sklearn/linear_model/logistic.py:433: FutureWarning: Default solver will be changed to 'lbfgs' in 0.22. Specify a solver to silence this warning.\n",
      "  FutureWarning)\n",
      "/Users/kailinghung/anaconda3/lib/python3.7/site-packages/sklearn/linear_model/logistic.py:433: FutureWarning: Default solver will be changed to 'lbfgs' in 0.22. Specify a solver to silence this warning.\n",
      "  FutureWarning)\n",
      "/Users/kailinghung/anaconda3/lib/python3.7/site-packages/sklearn/linear_model/logistic.py:433: FutureWarning: Default solver will be changed to 'lbfgs' in 0.22. Specify a solver to silence this warning.\n",
      "  FutureWarning)\n",
      "/Users/kailinghung/anaconda3/lib/python3.7/site-packages/sklearn/linear_model/logistic.py:433: FutureWarning: Default solver will be changed to 'lbfgs' in 0.22. Specify a solver to silence this warning.\n",
      "  FutureWarning)\n",
      "/Users/kailinghung/anaconda3/lib/python3.7/site-packages/sklearn/linear_model/logistic.py:433: FutureWarning: Default solver will be changed to 'lbfgs' in 0.22. Specify a solver to silence this warning.\n",
      "  FutureWarning)\n",
      "/Users/kailinghung/anaconda3/lib/python3.7/site-packages/sklearn/linear_model/logistic.py:433: FutureWarning: Default solver will be changed to 'lbfgs' in 0.22. Specify a solver to silence this warning.\n",
      "  FutureWarning)\n",
      "/Users/kailinghung/anaconda3/lib/python3.7/site-packages/sklearn/linear_model/logistic.py:433: FutureWarning: Default solver will be changed to 'lbfgs' in 0.22. Specify a solver to silence this warning.\n",
      "  FutureWarning)\n",
      "/Users/kailinghung/anaconda3/lib/python3.7/site-packages/sklearn/linear_model/logistic.py:433: FutureWarning: Default solver will be changed to 'lbfgs' in 0.22. Specify a solver to silence this warning.\n",
      "  FutureWarning)\n",
      "/Users/kailinghung/anaconda3/lib/python3.7/site-packages/sklearn/linear_model/logistic.py:433: FutureWarning: Default solver will be changed to 'lbfgs' in 0.22. Specify a solver to silence this warning.\n",
      "  FutureWarning)\n",
      "/Users/kailinghung/anaconda3/lib/python3.7/site-packages/sklearn/linear_model/logistic.py:433: FutureWarning: Default solver will be changed to 'lbfgs' in 0.22. Specify a solver to silence this warning.\n",
      "  FutureWarning)\n",
      "/Users/kailinghung/anaconda3/lib/python3.7/site-packages/sklearn/linear_model/logistic.py:433: FutureWarning: Default solver will be changed to 'lbfgs' in 0.22. Specify a solver to silence this warning.\n",
      "  FutureWarning)\n",
      "/Users/kailinghung/anaconda3/lib/python3.7/site-packages/sklearn/linear_model/logistic.py:433: FutureWarning: Default solver will be changed to 'lbfgs' in 0.22. Specify a solver to silence this warning.\n",
      "  FutureWarning)\n",
      "/Users/kailinghung/anaconda3/lib/python3.7/site-packages/sklearn/linear_model/logistic.py:433: FutureWarning: Default solver will be changed to 'lbfgs' in 0.22. Specify a solver to silence this warning.\n",
      "  FutureWarning)\n",
      "/Users/kailinghung/anaconda3/lib/python3.7/site-packages/sklearn/linear_model/logistic.py:433: FutureWarning: Default solver will be changed to 'lbfgs' in 0.22. Specify a solver to silence this warning.\n",
      "  FutureWarning)\n",
      "/Users/kailinghung/anaconda3/lib/python3.7/site-packages/sklearn/linear_model/logistic.py:433: FutureWarning: Default solver will be changed to 'lbfgs' in 0.22. Specify a solver to silence this warning.\n",
      "  FutureWarning)\n",
      "/Users/kailinghung/anaconda3/lib/python3.7/site-packages/sklearn/linear_model/logistic.py:433: FutureWarning: Default solver will be changed to 'lbfgs' in 0.22. Specify a solver to silence this warning.\n",
      "  FutureWarning)\n",
      "/Users/kailinghung/anaconda3/lib/python3.7/site-packages/sklearn/linear_model/logistic.py:433: FutureWarning: Default solver will be changed to 'lbfgs' in 0.22. Specify a solver to silence this warning.\n",
      "  FutureWarning)\n",
      "/Users/kailinghung/anaconda3/lib/python3.7/site-packages/sklearn/linear_model/logistic.py:433: FutureWarning: Default solver will be changed to 'lbfgs' in 0.22. Specify a solver to silence this warning.\n",
      "  FutureWarning)\n",
      "/Users/kailinghung/anaconda3/lib/python3.7/site-packages/sklearn/linear_model/logistic.py:433: FutureWarning: Default solver will be changed to 'lbfgs' in 0.22. Specify a solver to silence this warning.\n",
      "  FutureWarning)\n",
      "/Users/kailinghung/anaconda3/lib/python3.7/site-packages/sklearn/linear_model/logistic.py:433: FutureWarning: Default solver will be changed to 'lbfgs' in 0.22. Specify a solver to silence this warning.\n",
      "  FutureWarning)\n",
      "/Users/kailinghung/anaconda3/lib/python3.7/site-packages/sklearn/linear_model/logistic.py:433: FutureWarning: Default solver will be changed to 'lbfgs' in 0.22. Specify a solver to silence this warning.\n",
      "  FutureWarning)\n",
      "/Users/kailinghung/anaconda3/lib/python3.7/site-packages/sklearn/linear_model/logistic.py:433: FutureWarning: Default solver will be changed to 'lbfgs' in 0.22. Specify a solver to silence this warning.\n",
      "  FutureWarning)\n",
      "/Users/kailinghung/anaconda3/lib/python3.7/site-packages/sklearn/linear_model/logistic.py:433: FutureWarning: Default solver will be changed to 'lbfgs' in 0.22. Specify a solver to silence this warning.\n",
      "  FutureWarning)\n",
      "/Users/kailinghung/anaconda3/lib/python3.7/site-packages/sklearn/linear_model/logistic.py:433: FutureWarning: Default solver will be changed to 'lbfgs' in 0.22. Specify a solver to silence this warning.\n",
      "  FutureWarning)\n",
      "/Users/kailinghung/anaconda3/lib/python3.7/site-packages/sklearn/linear_model/logistic.py:433: FutureWarning: Default solver will be changed to 'lbfgs' in 0.22. Specify a solver to silence this warning.\n",
      "  FutureWarning)\n",
      "/Users/kailinghung/anaconda3/lib/python3.7/site-packages/sklearn/linear_model/logistic.py:433: FutureWarning: Default solver will be changed to 'lbfgs' in 0.22. Specify a solver to silence this warning.\n",
      "  FutureWarning)\n",
      "/Users/kailinghung/anaconda3/lib/python3.7/site-packages/sklearn/linear_model/logistic.py:433: FutureWarning: Default solver will be changed to 'lbfgs' in 0.22. Specify a solver to silence this warning.\n",
      "  FutureWarning)\n",
      "/Users/kailinghung/anaconda3/lib/python3.7/site-packages/sklearn/linear_model/logistic.py:433: FutureWarning: Default solver will be changed to 'lbfgs' in 0.22. Specify a solver to silence this warning.\n",
      "  FutureWarning)\n",
      "/Users/kailinghung/anaconda3/lib/python3.7/site-packages/sklearn/linear_model/logistic.py:433: FutureWarning: Default solver will be changed to 'lbfgs' in 0.22. Specify a solver to silence this warning.\n",
      "  FutureWarning)\n",
      "/Users/kailinghung/anaconda3/lib/python3.7/site-packages/sklearn/linear_model/logistic.py:433: FutureWarning: Default solver will be changed to 'lbfgs' in 0.22. Specify a solver to silence this warning.\n",
      "  FutureWarning)\n",
      "/Users/kailinghung/anaconda3/lib/python3.7/site-packages/sklearn/linear_model/logistic.py:433: FutureWarning: Default solver will be changed to 'lbfgs' in 0.22. Specify a solver to silence this warning.\n",
      "  FutureWarning)\n"
     ]
    },
    {
     "name": "stderr",
     "output_type": "stream",
     "text": [
      "/Users/kailinghung/anaconda3/lib/python3.7/site-packages/sklearn/linear_model/logistic.py:433: FutureWarning: Default solver will be changed to 'lbfgs' in 0.22. Specify a solver to silence this warning.\n",
      "  FutureWarning)\n",
      "/Users/kailinghung/anaconda3/lib/python3.7/site-packages/sklearn/linear_model/logistic.py:433: FutureWarning: Default solver will be changed to 'lbfgs' in 0.22. Specify a solver to silence this warning.\n",
      "  FutureWarning)\n",
      "/Users/kailinghung/anaconda3/lib/python3.7/site-packages/sklearn/linear_model/logistic.py:433: FutureWarning: Default solver will be changed to 'lbfgs' in 0.22. Specify a solver to silence this warning.\n",
      "  FutureWarning)\n",
      "/Users/kailinghung/anaconda3/lib/python3.7/site-packages/sklearn/linear_model/logistic.py:433: FutureWarning: Default solver will be changed to 'lbfgs' in 0.22. Specify a solver to silence this warning.\n",
      "  FutureWarning)\n",
      "/Users/kailinghung/anaconda3/lib/python3.7/site-packages/sklearn/linear_model/logistic.py:433: FutureWarning: Default solver will be changed to 'lbfgs' in 0.22. Specify a solver to silence this warning.\n",
      "  FutureWarning)\n",
      "/Users/kailinghung/anaconda3/lib/python3.7/site-packages/sklearn/linear_model/logistic.py:433: FutureWarning: Default solver will be changed to 'lbfgs' in 0.22. Specify a solver to silence this warning.\n",
      "  FutureWarning)\n",
      "/Users/kailinghung/anaconda3/lib/python3.7/site-packages/sklearn/linear_model/logistic.py:433: FutureWarning: Default solver will be changed to 'lbfgs' in 0.22. Specify a solver to silence this warning.\n",
      "  FutureWarning)\n",
      "/Users/kailinghung/anaconda3/lib/python3.7/site-packages/sklearn/linear_model/logistic.py:433: FutureWarning: Default solver will be changed to 'lbfgs' in 0.22. Specify a solver to silence this warning.\n",
      "  FutureWarning)\n",
      "/Users/kailinghung/anaconda3/lib/python3.7/site-packages/sklearn/linear_model/logistic.py:433: FutureWarning: Default solver will be changed to 'lbfgs' in 0.22. Specify a solver to silence this warning.\n",
      "  FutureWarning)\n",
      "/Users/kailinghung/anaconda3/lib/python3.7/site-packages/sklearn/linear_model/logistic.py:433: FutureWarning: Default solver will be changed to 'lbfgs' in 0.22. Specify a solver to silence this warning.\n",
      "  FutureWarning)\n",
      "/Users/kailinghung/anaconda3/lib/python3.7/site-packages/sklearn/linear_model/logistic.py:433: FutureWarning: Default solver will be changed to 'lbfgs' in 0.22. Specify a solver to silence this warning.\n",
      "  FutureWarning)\n",
      "/Users/kailinghung/anaconda3/lib/python3.7/site-packages/sklearn/linear_model/logistic.py:433: FutureWarning: Default solver will be changed to 'lbfgs' in 0.22. Specify a solver to silence this warning.\n",
      "  FutureWarning)\n",
      "/Users/kailinghung/anaconda3/lib/python3.7/site-packages/sklearn/linear_model/logistic.py:433: FutureWarning: Default solver will be changed to 'lbfgs' in 0.22. Specify a solver to silence this warning.\n",
      "  FutureWarning)\n",
      "/Users/kailinghung/anaconda3/lib/python3.7/site-packages/sklearn/linear_model/logistic.py:433: FutureWarning: Default solver will be changed to 'lbfgs' in 0.22. Specify a solver to silence this warning.\n",
      "  FutureWarning)\n",
      "/Users/kailinghung/anaconda3/lib/python3.7/site-packages/sklearn/linear_model/logistic.py:433: FutureWarning: Default solver will be changed to 'lbfgs' in 0.22. Specify a solver to silence this warning.\n",
      "  FutureWarning)\n",
      "/Users/kailinghung/anaconda3/lib/python3.7/site-packages/sklearn/linear_model/logistic.py:433: FutureWarning: Default solver will be changed to 'lbfgs' in 0.22. Specify a solver to silence this warning.\n",
      "  FutureWarning)\n",
      "/Users/kailinghung/anaconda3/lib/python3.7/site-packages/sklearn/linear_model/logistic.py:433: FutureWarning: Default solver will be changed to 'lbfgs' in 0.22. Specify a solver to silence this warning.\n",
      "  FutureWarning)\n",
      "/Users/kailinghung/anaconda3/lib/python3.7/site-packages/sklearn/linear_model/logistic.py:433: FutureWarning: Default solver will be changed to 'lbfgs' in 0.22. Specify a solver to silence this warning.\n",
      "  FutureWarning)\n",
      "/Users/kailinghung/anaconda3/lib/python3.7/site-packages/sklearn/linear_model/logistic.py:433: FutureWarning: Default solver will be changed to 'lbfgs' in 0.22. Specify a solver to silence this warning.\n",
      "  FutureWarning)\n",
      "/Users/kailinghung/anaconda3/lib/python3.7/site-packages/sklearn/linear_model/logistic.py:433: FutureWarning: Default solver will be changed to 'lbfgs' in 0.22. Specify a solver to silence this warning.\n",
      "  FutureWarning)\n",
      "/Users/kailinghung/anaconda3/lib/python3.7/site-packages/sklearn/linear_model/logistic.py:433: FutureWarning: Default solver will be changed to 'lbfgs' in 0.22. Specify a solver to silence this warning.\n",
      "  FutureWarning)\n",
      "/Users/kailinghung/anaconda3/lib/python3.7/site-packages/sklearn/linear_model/logistic.py:433: FutureWarning: Default solver will be changed to 'lbfgs' in 0.22. Specify a solver to silence this warning.\n",
      "  FutureWarning)\n",
      "/Users/kailinghung/anaconda3/lib/python3.7/site-packages/sklearn/linear_model/logistic.py:433: FutureWarning: Default solver will be changed to 'lbfgs' in 0.22. Specify a solver to silence this warning.\n",
      "  FutureWarning)\n",
      "/Users/kailinghung/anaconda3/lib/python3.7/site-packages/sklearn/linear_model/logistic.py:433: FutureWarning: Default solver will be changed to 'lbfgs' in 0.22. Specify a solver to silence this warning.\n",
      "  FutureWarning)\n",
      "/Users/kailinghung/anaconda3/lib/python3.7/site-packages/sklearn/linear_model/logistic.py:433: FutureWarning: Default solver will be changed to 'lbfgs' in 0.22. Specify a solver to silence this warning.\n",
      "  FutureWarning)\n",
      "/Users/kailinghung/anaconda3/lib/python3.7/site-packages/sklearn/linear_model/logistic.py:433: FutureWarning: Default solver will be changed to 'lbfgs' in 0.22. Specify a solver to silence this warning.\n",
      "  FutureWarning)\n",
      "/Users/kailinghung/anaconda3/lib/python3.7/site-packages/sklearn/linear_model/logistic.py:433: FutureWarning: Default solver will be changed to 'lbfgs' in 0.22. Specify a solver to silence this warning.\n",
      "  FutureWarning)\n",
      "/Users/kailinghung/anaconda3/lib/python3.7/site-packages/sklearn/linear_model/logistic.py:433: FutureWarning: Default solver will be changed to 'lbfgs' in 0.22. Specify a solver to silence this warning.\n",
      "  FutureWarning)\n",
      "/Users/kailinghung/anaconda3/lib/python3.7/site-packages/sklearn/linear_model/logistic.py:433: FutureWarning: Default solver will be changed to 'lbfgs' in 0.22. Specify a solver to silence this warning.\n",
      "  FutureWarning)\n",
      "/Users/kailinghung/anaconda3/lib/python3.7/site-packages/sklearn/linear_model/logistic.py:433: FutureWarning: Default solver will be changed to 'lbfgs' in 0.22. Specify a solver to silence this warning.\n",
      "  FutureWarning)\n",
      "/Users/kailinghung/anaconda3/lib/python3.7/site-packages/sklearn/linear_model/logistic.py:433: FutureWarning: Default solver will be changed to 'lbfgs' in 0.22. Specify a solver to silence this warning.\n",
      "  FutureWarning)\n",
      "/Users/kailinghung/anaconda3/lib/python3.7/site-packages/sklearn/linear_model/logistic.py:433: FutureWarning: Default solver will be changed to 'lbfgs' in 0.22. Specify a solver to silence this warning.\n",
      "  FutureWarning)\n",
      "/Users/kailinghung/anaconda3/lib/python3.7/site-packages/sklearn/linear_model/logistic.py:433: FutureWarning: Default solver will be changed to 'lbfgs' in 0.22. Specify a solver to silence this warning.\n",
      "  FutureWarning)\n",
      "/Users/kailinghung/anaconda3/lib/python3.7/site-packages/sklearn/linear_model/logistic.py:433: FutureWarning: Default solver will be changed to 'lbfgs' in 0.22. Specify a solver to silence this warning.\n",
      "  FutureWarning)\n",
      "/Users/kailinghung/anaconda3/lib/python3.7/site-packages/sklearn/linear_model/logistic.py:433: FutureWarning: Default solver will be changed to 'lbfgs' in 0.22. Specify a solver to silence this warning.\n",
      "  FutureWarning)\n",
      "/Users/kailinghung/anaconda3/lib/python3.7/site-packages/sklearn/linear_model/logistic.py:433: FutureWarning: Default solver will be changed to 'lbfgs' in 0.22. Specify a solver to silence this warning.\n",
      "  FutureWarning)\n",
      "/Users/kailinghung/anaconda3/lib/python3.7/site-packages/sklearn/linear_model/logistic.py:433: FutureWarning: Default solver will be changed to 'lbfgs' in 0.22. Specify a solver to silence this warning.\n",
      "  FutureWarning)\n",
      "/Users/kailinghung/anaconda3/lib/python3.7/site-packages/sklearn/linear_model/logistic.py:433: FutureWarning: Default solver will be changed to 'lbfgs' in 0.22. Specify a solver to silence this warning.\n",
      "  FutureWarning)\n"
     ]
    },
    {
     "name": "stderr",
     "output_type": "stream",
     "text": [
      "/Users/kailinghung/anaconda3/lib/python3.7/site-packages/sklearn/linear_model/logistic.py:433: FutureWarning: Default solver will be changed to 'lbfgs' in 0.22. Specify a solver to silence this warning.\n",
      "  FutureWarning)\n",
      "/Users/kailinghung/anaconda3/lib/python3.7/site-packages/sklearn/linear_model/logistic.py:433: FutureWarning: Default solver will be changed to 'lbfgs' in 0.22. Specify a solver to silence this warning.\n",
      "  FutureWarning)\n",
      "/Users/kailinghung/anaconda3/lib/python3.7/site-packages/sklearn/linear_model/logistic.py:433: FutureWarning: Default solver will be changed to 'lbfgs' in 0.22. Specify a solver to silence this warning.\n",
      "  FutureWarning)\n",
      "/Users/kailinghung/anaconda3/lib/python3.7/site-packages/sklearn/linear_model/logistic.py:433: FutureWarning: Default solver will be changed to 'lbfgs' in 0.22. Specify a solver to silence this warning.\n",
      "  FutureWarning)\n",
      "/Users/kailinghung/anaconda3/lib/python3.7/site-packages/sklearn/linear_model/logistic.py:433: FutureWarning: Default solver will be changed to 'lbfgs' in 0.22. Specify a solver to silence this warning.\n",
      "  FutureWarning)\n",
      "/Users/kailinghung/anaconda3/lib/python3.7/site-packages/sklearn/linear_model/logistic.py:433: FutureWarning: Default solver will be changed to 'lbfgs' in 0.22. Specify a solver to silence this warning.\n",
      "  FutureWarning)\n",
      "/Users/kailinghung/anaconda3/lib/python3.7/site-packages/sklearn/linear_model/logistic.py:433: FutureWarning: Default solver will be changed to 'lbfgs' in 0.22. Specify a solver to silence this warning.\n",
      "  FutureWarning)\n",
      "/Users/kailinghung/anaconda3/lib/python3.7/site-packages/sklearn/linear_model/logistic.py:433: FutureWarning: Default solver will be changed to 'lbfgs' in 0.22. Specify a solver to silence this warning.\n",
      "  FutureWarning)\n",
      "/Users/kailinghung/anaconda3/lib/python3.7/site-packages/sklearn/linear_model/logistic.py:433: FutureWarning: Default solver will be changed to 'lbfgs' in 0.22. Specify a solver to silence this warning.\n",
      "  FutureWarning)\n",
      "/Users/kailinghung/anaconda3/lib/python3.7/site-packages/sklearn/linear_model/logistic.py:433: FutureWarning: Default solver will be changed to 'lbfgs' in 0.22. Specify a solver to silence this warning.\n",
      "  FutureWarning)\n",
      "/Users/kailinghung/anaconda3/lib/python3.7/site-packages/sklearn/linear_model/logistic.py:433: FutureWarning: Default solver will be changed to 'lbfgs' in 0.22. Specify a solver to silence this warning.\n",
      "  FutureWarning)\n",
      "/Users/kailinghung/anaconda3/lib/python3.7/site-packages/sklearn/linear_model/logistic.py:433: FutureWarning: Default solver will be changed to 'lbfgs' in 0.22. Specify a solver to silence this warning.\n",
      "  FutureWarning)\n",
      "/Users/kailinghung/anaconda3/lib/python3.7/site-packages/sklearn/linear_model/logistic.py:433: FutureWarning: Default solver will be changed to 'lbfgs' in 0.22. Specify a solver to silence this warning.\n",
      "  FutureWarning)\n",
      "/Users/kailinghung/anaconda3/lib/python3.7/site-packages/sklearn/linear_model/logistic.py:433: FutureWarning: Default solver will be changed to 'lbfgs' in 0.22. Specify a solver to silence this warning.\n",
      "  FutureWarning)\n",
      "/Users/kailinghung/anaconda3/lib/python3.7/site-packages/sklearn/linear_model/logistic.py:433: FutureWarning: Default solver will be changed to 'lbfgs' in 0.22. Specify a solver to silence this warning.\n",
      "  FutureWarning)\n",
      "/Users/kailinghung/anaconda3/lib/python3.7/site-packages/sklearn/linear_model/logistic.py:433: FutureWarning: Default solver will be changed to 'lbfgs' in 0.22. Specify a solver to silence this warning.\n",
      "  FutureWarning)\n",
      "/Users/kailinghung/anaconda3/lib/python3.7/site-packages/sklearn/linear_model/logistic.py:433: FutureWarning: Default solver will be changed to 'lbfgs' in 0.22. Specify a solver to silence this warning.\n",
      "  FutureWarning)\n",
      "/Users/kailinghung/anaconda3/lib/python3.7/site-packages/sklearn/linear_model/logistic.py:433: FutureWarning: Default solver will be changed to 'lbfgs' in 0.22. Specify a solver to silence this warning.\n",
      "  FutureWarning)\n",
      "/Users/kailinghung/anaconda3/lib/python3.7/site-packages/sklearn/linear_model/logistic.py:433: FutureWarning: Default solver will be changed to 'lbfgs' in 0.22. Specify a solver to silence this warning.\n",
      "  FutureWarning)\n",
      "/Users/kailinghung/anaconda3/lib/python3.7/site-packages/sklearn/linear_model/logistic.py:433: FutureWarning: Default solver will be changed to 'lbfgs' in 0.22. Specify a solver to silence this warning.\n",
      "  FutureWarning)\n",
      "/Users/kailinghung/anaconda3/lib/python3.7/site-packages/sklearn/linear_model/logistic.py:433: FutureWarning: Default solver will be changed to 'lbfgs' in 0.22. Specify a solver to silence this warning.\n",
      "  FutureWarning)\n",
      "/Users/kailinghung/anaconda3/lib/python3.7/site-packages/sklearn/linear_model/logistic.py:433: FutureWarning: Default solver will be changed to 'lbfgs' in 0.22. Specify a solver to silence this warning.\n",
      "  FutureWarning)\n",
      "/Users/kailinghung/anaconda3/lib/python3.7/site-packages/sklearn/linear_model/logistic.py:433: FutureWarning: Default solver will be changed to 'lbfgs' in 0.22. Specify a solver to silence this warning.\n",
      "  FutureWarning)\n",
      "/Users/kailinghung/anaconda3/lib/python3.7/site-packages/sklearn/linear_model/logistic.py:433: FutureWarning: Default solver will be changed to 'lbfgs' in 0.22. Specify a solver to silence this warning.\n",
      "  FutureWarning)\n",
      "/Users/kailinghung/anaconda3/lib/python3.7/site-packages/sklearn/linear_model/logistic.py:433: FutureWarning: Default solver will be changed to 'lbfgs' in 0.22. Specify a solver to silence this warning.\n",
      "  FutureWarning)\n",
      "/Users/kailinghung/anaconda3/lib/python3.7/site-packages/sklearn/linear_model/logistic.py:433: FutureWarning: Default solver will be changed to 'lbfgs' in 0.22. Specify a solver to silence this warning.\n",
      "  FutureWarning)\n",
      "/Users/kailinghung/anaconda3/lib/python3.7/site-packages/sklearn/linear_model/logistic.py:433: FutureWarning: Default solver will be changed to 'lbfgs' in 0.22. Specify a solver to silence this warning.\n",
      "  FutureWarning)\n",
      "/Users/kailinghung/anaconda3/lib/python3.7/site-packages/sklearn/linear_model/logistic.py:433: FutureWarning: Default solver will be changed to 'lbfgs' in 0.22. Specify a solver to silence this warning.\n",
      "  FutureWarning)\n",
      "/Users/kailinghung/anaconda3/lib/python3.7/site-packages/sklearn/linear_model/logistic.py:433: FutureWarning: Default solver will be changed to 'lbfgs' in 0.22. Specify a solver to silence this warning.\n",
      "  FutureWarning)\n",
      "/Users/kailinghung/anaconda3/lib/python3.7/site-packages/sklearn/linear_model/logistic.py:433: FutureWarning: Default solver will be changed to 'lbfgs' in 0.22. Specify a solver to silence this warning.\n",
      "  FutureWarning)\n",
      "/Users/kailinghung/anaconda3/lib/python3.7/site-packages/sklearn/linear_model/logistic.py:433: FutureWarning: Default solver will be changed to 'lbfgs' in 0.22. Specify a solver to silence this warning.\n",
      "  FutureWarning)\n",
      "/Users/kailinghung/anaconda3/lib/python3.7/site-packages/sklearn/linear_model/logistic.py:433: FutureWarning: Default solver will be changed to 'lbfgs' in 0.22. Specify a solver to silence this warning.\n",
      "  FutureWarning)\n",
      "/Users/kailinghung/anaconda3/lib/python3.7/site-packages/sklearn/linear_model/logistic.py:433: FutureWarning: Default solver will be changed to 'lbfgs' in 0.22. Specify a solver to silence this warning.\n",
      "  FutureWarning)\n",
      "/Users/kailinghung/anaconda3/lib/python3.7/site-packages/sklearn/linear_model/logistic.py:433: FutureWarning: Default solver will be changed to 'lbfgs' in 0.22. Specify a solver to silence this warning.\n",
      "  FutureWarning)\n",
      "/Users/kailinghung/anaconda3/lib/python3.7/site-packages/sklearn/linear_model/logistic.py:433: FutureWarning: Default solver will be changed to 'lbfgs' in 0.22. Specify a solver to silence this warning.\n",
      "  FutureWarning)\n",
      "/Users/kailinghung/anaconda3/lib/python3.7/site-packages/sklearn/linear_model/logistic.py:433: FutureWarning: Default solver will be changed to 'lbfgs' in 0.22. Specify a solver to silence this warning.\n",
      "  FutureWarning)\n",
      "/Users/kailinghung/anaconda3/lib/python3.7/site-packages/sklearn/linear_model/logistic.py:433: FutureWarning: Default solver will be changed to 'lbfgs' in 0.22. Specify a solver to silence this warning.\n",
      "  FutureWarning)\n",
      "/Users/kailinghung/anaconda3/lib/python3.7/site-packages/sklearn/linear_model/logistic.py:433: FutureWarning: Default solver will be changed to 'lbfgs' in 0.22. Specify a solver to silence this warning.\n",
      "  FutureWarning)\n"
     ]
    },
    {
     "name": "stderr",
     "output_type": "stream",
     "text": [
      "/Users/kailinghung/anaconda3/lib/python3.7/site-packages/sklearn/linear_model/logistic.py:433: FutureWarning: Default solver will be changed to 'lbfgs' in 0.22. Specify a solver to silence this warning.\n",
      "  FutureWarning)\n",
      "/Users/kailinghung/anaconda3/lib/python3.7/site-packages/sklearn/linear_model/logistic.py:433: FutureWarning: Default solver will be changed to 'lbfgs' in 0.22. Specify a solver to silence this warning.\n",
      "  FutureWarning)\n",
      "/Users/kailinghung/anaconda3/lib/python3.7/site-packages/sklearn/linear_model/logistic.py:433: FutureWarning: Default solver will be changed to 'lbfgs' in 0.22. Specify a solver to silence this warning.\n",
      "  FutureWarning)\n",
      "/Users/kailinghung/anaconda3/lib/python3.7/site-packages/sklearn/linear_model/logistic.py:433: FutureWarning: Default solver will be changed to 'lbfgs' in 0.22. Specify a solver to silence this warning.\n",
      "  FutureWarning)\n",
      "/Users/kailinghung/anaconda3/lib/python3.7/site-packages/sklearn/linear_model/logistic.py:433: FutureWarning: Default solver will be changed to 'lbfgs' in 0.22. Specify a solver to silence this warning.\n",
      "  FutureWarning)\n",
      "/Users/kailinghung/anaconda3/lib/python3.7/site-packages/sklearn/linear_model/logistic.py:433: FutureWarning: Default solver will be changed to 'lbfgs' in 0.22. Specify a solver to silence this warning.\n",
      "  FutureWarning)\n",
      "/Users/kailinghung/anaconda3/lib/python3.7/site-packages/sklearn/linear_model/logistic.py:433: FutureWarning: Default solver will be changed to 'lbfgs' in 0.22. Specify a solver to silence this warning.\n",
      "  FutureWarning)\n",
      "/Users/kailinghung/anaconda3/lib/python3.7/site-packages/sklearn/linear_model/logistic.py:433: FutureWarning: Default solver will be changed to 'lbfgs' in 0.22. Specify a solver to silence this warning.\n",
      "  FutureWarning)\n",
      "/Users/kailinghung/anaconda3/lib/python3.7/site-packages/sklearn/linear_model/logistic.py:433: FutureWarning: Default solver will be changed to 'lbfgs' in 0.22. Specify a solver to silence this warning.\n",
      "  FutureWarning)\n",
      "/Users/kailinghung/anaconda3/lib/python3.7/site-packages/sklearn/linear_model/logistic.py:433: FutureWarning: Default solver will be changed to 'lbfgs' in 0.22. Specify a solver to silence this warning.\n",
      "  FutureWarning)\n",
      "/Users/kailinghung/anaconda3/lib/python3.7/site-packages/sklearn/linear_model/logistic.py:433: FutureWarning: Default solver will be changed to 'lbfgs' in 0.22. Specify a solver to silence this warning.\n",
      "  FutureWarning)\n",
      "/Users/kailinghung/anaconda3/lib/python3.7/site-packages/sklearn/linear_model/logistic.py:433: FutureWarning: Default solver will be changed to 'lbfgs' in 0.22. Specify a solver to silence this warning.\n",
      "  FutureWarning)\n",
      "/Users/kailinghung/anaconda3/lib/python3.7/site-packages/sklearn/linear_model/logistic.py:433: FutureWarning: Default solver will be changed to 'lbfgs' in 0.22. Specify a solver to silence this warning.\n",
      "  FutureWarning)\n",
      "/Users/kailinghung/anaconda3/lib/python3.7/site-packages/sklearn/linear_model/logistic.py:433: FutureWarning: Default solver will be changed to 'lbfgs' in 0.22. Specify a solver to silence this warning.\n",
      "  FutureWarning)\n",
      "/Users/kailinghung/anaconda3/lib/python3.7/site-packages/sklearn/linear_model/logistic.py:433: FutureWarning: Default solver will be changed to 'lbfgs' in 0.22. Specify a solver to silence this warning.\n",
      "  FutureWarning)\n",
      "/Users/kailinghung/anaconda3/lib/python3.7/site-packages/sklearn/linear_model/logistic.py:433: FutureWarning: Default solver will be changed to 'lbfgs' in 0.22. Specify a solver to silence this warning.\n",
      "  FutureWarning)\n",
      "/Users/kailinghung/anaconda3/lib/python3.7/site-packages/sklearn/linear_model/logistic.py:433: FutureWarning: Default solver will be changed to 'lbfgs' in 0.22. Specify a solver to silence this warning.\n",
      "  FutureWarning)\n",
      "/Users/kailinghung/anaconda3/lib/python3.7/site-packages/sklearn/linear_model/logistic.py:433: FutureWarning: Default solver will be changed to 'lbfgs' in 0.22. Specify a solver to silence this warning.\n",
      "  FutureWarning)\n",
      "/Users/kailinghung/anaconda3/lib/python3.7/site-packages/sklearn/linear_model/logistic.py:433: FutureWarning: Default solver will be changed to 'lbfgs' in 0.22. Specify a solver to silence this warning.\n",
      "  FutureWarning)\n",
      "/Users/kailinghung/anaconda3/lib/python3.7/site-packages/sklearn/linear_model/logistic.py:433: FutureWarning: Default solver will be changed to 'lbfgs' in 0.22. Specify a solver to silence this warning.\n",
      "  FutureWarning)\n",
      "/Users/kailinghung/anaconda3/lib/python3.7/site-packages/sklearn/linear_model/logistic.py:433: FutureWarning: Default solver will be changed to 'lbfgs' in 0.22. Specify a solver to silence this warning.\n",
      "  FutureWarning)\n",
      "/Users/kailinghung/anaconda3/lib/python3.7/site-packages/sklearn/linear_model/logistic.py:433: FutureWarning: Default solver will be changed to 'lbfgs' in 0.22. Specify a solver to silence this warning.\n",
      "  FutureWarning)\n",
      "/Users/kailinghung/anaconda3/lib/python3.7/site-packages/sklearn/linear_model/logistic.py:433: FutureWarning: Default solver will be changed to 'lbfgs' in 0.22. Specify a solver to silence this warning.\n",
      "  FutureWarning)\n",
      "/Users/kailinghung/anaconda3/lib/python3.7/site-packages/sklearn/linear_model/logistic.py:433: FutureWarning: Default solver will be changed to 'lbfgs' in 0.22. Specify a solver to silence this warning.\n",
      "  FutureWarning)\n",
      "/Users/kailinghung/anaconda3/lib/python3.7/site-packages/sklearn/linear_model/logistic.py:433: FutureWarning: Default solver will be changed to 'lbfgs' in 0.22. Specify a solver to silence this warning.\n",
      "  FutureWarning)\n",
      "/Users/kailinghung/anaconda3/lib/python3.7/site-packages/sklearn/linear_model/logistic.py:433: FutureWarning: Default solver will be changed to 'lbfgs' in 0.22. Specify a solver to silence this warning.\n",
      "  FutureWarning)\n",
      "/Users/kailinghung/anaconda3/lib/python3.7/site-packages/sklearn/linear_model/logistic.py:433: FutureWarning: Default solver will be changed to 'lbfgs' in 0.22. Specify a solver to silence this warning.\n",
      "  FutureWarning)\n",
      "/Users/kailinghung/anaconda3/lib/python3.7/site-packages/sklearn/linear_model/logistic.py:433: FutureWarning: Default solver will be changed to 'lbfgs' in 0.22. Specify a solver to silence this warning.\n",
      "  FutureWarning)\n"
     ]
    },
    {
     "data": {
      "text/html": [
       "<div>\n",
       "<style scoped>\n",
       "    .dataframe tbody tr th:only-of-type {\n",
       "        vertical-align: middle;\n",
       "    }\n",
       "\n",
       "    .dataframe tbody tr th {\n",
       "        vertical-align: top;\n",
       "    }\n",
       "\n",
       "    .dataframe thead th {\n",
       "        text-align: right;\n",
       "    }\n",
       "</style>\n",
       "<table border=\"1\" class=\"dataframe\">\n",
       "  <thead>\n",
       "    <tr style=\"text-align: right;\">\n",
       "      <th></th>\n",
       "      <th>train</th>\n",
       "      <th>test</th>\n",
       "      <th>oot</th>\n",
       "    </tr>\n",
       "  </thead>\n",
       "  <tbody>\n",
       "    <tr>\n",
       "      <th>2</th>\n",
       "      <td>0.081355</td>\n",
       "      <td>0.081561</td>\n",
       "      <td>1.000000</td>\n",
       "    </tr>\n",
       "    <tr>\n",
       "      <th>3</th>\n",
       "      <td>0.099762</td>\n",
       "      <td>0.100310</td>\n",
       "      <td>0.758101</td>\n",
       "    </tr>\n",
       "    <tr>\n",
       "      <th>4</th>\n",
       "      <td>0.114629</td>\n",
       "      <td>0.116187</td>\n",
       "      <td>0.515084</td>\n",
       "    </tr>\n",
       "    <tr>\n",
       "      <th>5</th>\n",
       "      <td>0.118512</td>\n",
       "      <td>0.119396</td>\n",
       "      <td>0.102793</td>\n",
       "    </tr>\n",
       "    <tr>\n",
       "      <th>6</th>\n",
       "      <td>0.174997</td>\n",
       "      <td>0.183521</td>\n",
       "      <td>0.059777</td>\n",
       "    </tr>\n",
       "    <tr>\n",
       "      <th>7</th>\n",
       "      <td>0.366329</td>\n",
       "      <td>0.371566</td>\n",
       "      <td>0.164804</td>\n",
       "    </tr>\n",
       "    <tr>\n",
       "      <th>8</th>\n",
       "      <td>0.369623</td>\n",
       "      <td>0.375906</td>\n",
       "      <td>0.177095</td>\n",
       "    </tr>\n",
       "    <tr>\n",
       "      <th>9</th>\n",
       "      <td>0.369341</td>\n",
       "      <td>0.375328</td>\n",
       "      <td>0.177654</td>\n",
       "    </tr>\n",
       "    <tr>\n",
       "      <th>10</th>\n",
       "      <td>0.369774</td>\n",
       "      <td>0.374121</td>\n",
       "      <td>0.168715</td>\n",
       "    </tr>\n",
       "    <tr>\n",
       "      <th>11</th>\n",
       "      <td>0.355768</td>\n",
       "      <td>0.361196</td>\n",
       "      <td>0.160894</td>\n",
       "    </tr>\n",
       "    <tr>\n",
       "      <th>12</th>\n",
       "      <td>0.360201</td>\n",
       "      <td>0.368153</td>\n",
       "      <td>0.159777</td>\n",
       "    </tr>\n",
       "    <tr>\n",
       "      <th>13</th>\n",
       "      <td>0.343888</td>\n",
       "      <td>0.345938</td>\n",
       "      <td>0.168156</td>\n",
       "    </tr>\n",
       "    <tr>\n",
       "      <th>14</th>\n",
       "      <td>0.350152</td>\n",
       "      <td>0.369941</td>\n",
       "      <td>0.086034</td>\n",
       "    </tr>\n",
       "    <tr>\n",
       "      <th>15</th>\n",
       "      <td>0.345890</td>\n",
       "      <td>0.365869</td>\n",
       "      <td>0.088827</td>\n",
       "    </tr>\n",
       "    <tr>\n",
       "      <th>16</th>\n",
       "      <td>0.354734</td>\n",
       "      <td>0.375778</td>\n",
       "      <td>0.067039</td>\n",
       "    </tr>\n",
       "    <tr>\n",
       "      <th>17</th>\n",
       "      <td>0.361181</td>\n",
       "      <td>0.384425</td>\n",
       "      <td>0.130726</td>\n",
       "    </tr>\n",
       "    <tr>\n",
       "      <th>18</th>\n",
       "      <td>0.558786</td>\n",
       "      <td>0.593347</td>\n",
       "      <td>0.213966</td>\n",
       "    </tr>\n",
       "    <tr>\n",
       "      <th>19</th>\n",
       "      <td>0.564522</td>\n",
       "      <td>0.589886</td>\n",
       "      <td>0.269832</td>\n",
       "    </tr>\n",
       "  </tbody>\n",
       "</table>\n",
       "</div>"
      ],
      "text/plain": [
       "       train      test       oot\n",
       "2   0.081355  0.081561  1.000000\n",
       "3   0.099762  0.100310  0.758101\n",
       "4   0.114629  0.116187  0.515084\n",
       "5   0.118512  0.119396  0.102793\n",
       "6   0.174997  0.183521  0.059777\n",
       "7   0.366329  0.371566  0.164804\n",
       "8   0.369623  0.375906  0.177095\n",
       "9   0.369341  0.375328  0.177654\n",
       "10  0.369774  0.374121  0.168715\n",
       "11  0.355768  0.361196  0.160894\n",
       "12  0.360201  0.368153  0.159777\n",
       "13  0.343888  0.345938  0.168156\n",
       "14  0.350152  0.369941  0.086034\n",
       "15  0.345890  0.365869  0.088827\n",
       "16  0.354734  0.375778  0.067039\n",
       "17  0.361181  0.384425  0.130726\n",
       "18  0.558786  0.593347  0.213966\n",
       "19  0.564522  0.589886  0.269832"
      ]
     },
     "execution_count": 105,
     "metadata": {},
     "output_type": "execute_result"
    }
   ],
   "source": [
    "multipltrun_2()"
   ]
  },
  {
   "cell_type": "code",
   "execution_count": 106,
   "metadata": {},
   "outputs": [
    {
     "name": "stderr",
     "output_type": "stream",
     "text": [
      "/Users/kailinghung/anaconda3/lib/python3.7/site-packages/sklearn/linear_model/logistic.py:433: FutureWarning: Default solver will be changed to 'lbfgs' in 0.22. Specify a solver to silence this warning.\n",
      "  FutureWarning)\n",
      "/Users/kailinghung/anaconda3/lib/python3.7/site-packages/sklearn/linear_model/logistic.py:433: FutureWarning: Default solver will be changed to 'lbfgs' in 0.22. Specify a solver to silence this warning.\n",
      "  FutureWarning)\n",
      "/Users/kailinghung/anaconda3/lib/python3.7/site-packages/sklearn/linear_model/logistic.py:433: FutureWarning: Default solver will be changed to 'lbfgs' in 0.22. Specify a solver to silence this warning.\n",
      "  FutureWarning)\n",
      "/Users/kailinghung/anaconda3/lib/python3.7/site-packages/sklearn/linear_model/logistic.py:433: FutureWarning: Default solver will be changed to 'lbfgs' in 0.22. Specify a solver to silence this warning.\n",
      "  FutureWarning)\n",
      "/Users/kailinghung/anaconda3/lib/python3.7/site-packages/sklearn/linear_model/logistic.py:433: FutureWarning: Default solver will be changed to 'lbfgs' in 0.22. Specify a solver to silence this warning.\n",
      "  FutureWarning)\n",
      "/Users/kailinghung/anaconda3/lib/python3.7/site-packages/sklearn/linear_model/logistic.py:433: FutureWarning: Default solver will be changed to 'lbfgs' in 0.22. Specify a solver to silence this warning.\n",
      "  FutureWarning)\n",
      "/Users/kailinghung/anaconda3/lib/python3.7/site-packages/sklearn/linear_model/logistic.py:433: FutureWarning: Default solver will be changed to 'lbfgs' in 0.22. Specify a solver to silence this warning.\n",
      "  FutureWarning)\n",
      "/Users/kailinghung/anaconda3/lib/python3.7/site-packages/sklearn/linear_model/logistic.py:433: FutureWarning: Default solver will be changed to 'lbfgs' in 0.22. Specify a solver to silence this warning.\n",
      "  FutureWarning)\n",
      "/Users/kailinghung/anaconda3/lib/python3.7/site-packages/sklearn/linear_model/logistic.py:433: FutureWarning: Default solver will be changed to 'lbfgs' in 0.22. Specify a solver to silence this warning.\n",
      "  FutureWarning)\n",
      "/Users/kailinghung/anaconda3/lib/python3.7/site-packages/sklearn/linear_model/logistic.py:433: FutureWarning: Default solver will be changed to 'lbfgs' in 0.22. Specify a solver to silence this warning.\n",
      "  FutureWarning)\n",
      "/Users/kailinghung/anaconda3/lib/python3.7/site-packages/sklearn/linear_model/logistic.py:433: FutureWarning: Default solver will be changed to 'lbfgs' in 0.22. Specify a solver to silence this warning.\n",
      "  FutureWarning)\n",
      "/Users/kailinghung/anaconda3/lib/python3.7/site-packages/sklearn/linear_model/logistic.py:433: FutureWarning: Default solver will be changed to 'lbfgs' in 0.22. Specify a solver to silence this warning.\n",
      "  FutureWarning)\n",
      "/Users/kailinghung/anaconda3/lib/python3.7/site-packages/sklearn/linear_model/logistic.py:433: FutureWarning: Default solver will be changed to 'lbfgs' in 0.22. Specify a solver to silence this warning.\n",
      "  FutureWarning)\n",
      "/Users/kailinghung/anaconda3/lib/python3.7/site-packages/sklearn/linear_model/logistic.py:433: FutureWarning: Default solver will be changed to 'lbfgs' in 0.22. Specify a solver to silence this warning.\n",
      "  FutureWarning)\n",
      "/Users/kailinghung/anaconda3/lib/python3.7/site-packages/sklearn/linear_model/logistic.py:433: FutureWarning: Default solver will be changed to 'lbfgs' in 0.22. Specify a solver to silence this warning.\n",
      "  FutureWarning)\n",
      "/Users/kailinghung/anaconda3/lib/python3.7/site-packages/sklearn/linear_model/logistic.py:433: FutureWarning: Default solver will be changed to 'lbfgs' in 0.22. Specify a solver to silence this warning.\n",
      "  FutureWarning)\n",
      "/Users/kailinghung/anaconda3/lib/python3.7/site-packages/sklearn/linear_model/logistic.py:433: FutureWarning: Default solver will be changed to 'lbfgs' in 0.22. Specify a solver to silence this warning.\n",
      "  FutureWarning)\n",
      "/Users/kailinghung/anaconda3/lib/python3.7/site-packages/sklearn/linear_model/logistic.py:433: FutureWarning: Default solver will be changed to 'lbfgs' in 0.22. Specify a solver to silence this warning.\n",
      "  FutureWarning)\n",
      "/Users/kailinghung/anaconda3/lib/python3.7/site-packages/sklearn/linear_model/logistic.py:433: FutureWarning: Default solver will be changed to 'lbfgs' in 0.22. Specify a solver to silence this warning.\n",
      "  FutureWarning)\n",
      "/Users/kailinghung/anaconda3/lib/python3.7/site-packages/sklearn/linear_model/logistic.py:433: FutureWarning: Default solver will be changed to 'lbfgs' in 0.22. Specify a solver to silence this warning.\n",
      "  FutureWarning)\n",
      "/Users/kailinghung/anaconda3/lib/python3.7/site-packages/sklearn/linear_model/logistic.py:433: FutureWarning: Default solver will be changed to 'lbfgs' in 0.22. Specify a solver to silence this warning.\n",
      "  FutureWarning)\n",
      "/Users/kailinghung/anaconda3/lib/python3.7/site-packages/sklearn/linear_model/logistic.py:433: FutureWarning: Default solver will be changed to 'lbfgs' in 0.22. Specify a solver to silence this warning.\n",
      "  FutureWarning)\n",
      "/Users/kailinghung/anaconda3/lib/python3.7/site-packages/sklearn/linear_model/logistic.py:433: FutureWarning: Default solver will be changed to 'lbfgs' in 0.22. Specify a solver to silence this warning.\n",
      "  FutureWarning)\n",
      "/Users/kailinghung/anaconda3/lib/python3.7/site-packages/sklearn/linear_model/logistic.py:433: FutureWarning: Default solver will be changed to 'lbfgs' in 0.22. Specify a solver to silence this warning.\n",
      "  FutureWarning)\n",
      "/Users/kailinghung/anaconda3/lib/python3.7/site-packages/sklearn/linear_model/logistic.py:433: FutureWarning: Default solver will be changed to 'lbfgs' in 0.22. Specify a solver to silence this warning.\n",
      "  FutureWarning)\n",
      "/Users/kailinghung/anaconda3/lib/python3.7/site-packages/sklearn/linear_model/logistic.py:433: FutureWarning: Default solver will be changed to 'lbfgs' in 0.22. Specify a solver to silence this warning.\n",
      "  FutureWarning)\n",
      "/Users/kailinghung/anaconda3/lib/python3.7/site-packages/sklearn/linear_model/logistic.py:433: FutureWarning: Default solver will be changed to 'lbfgs' in 0.22. Specify a solver to silence this warning.\n",
      "  FutureWarning)\n",
      "/Users/kailinghung/anaconda3/lib/python3.7/site-packages/sklearn/linear_model/logistic.py:433: FutureWarning: Default solver will be changed to 'lbfgs' in 0.22. Specify a solver to silence this warning.\n",
      "  FutureWarning)\n",
      "/Users/kailinghung/anaconda3/lib/python3.7/site-packages/sklearn/linear_model/logistic.py:433: FutureWarning: Default solver will be changed to 'lbfgs' in 0.22. Specify a solver to silence this warning.\n",
      "  FutureWarning)\n",
      "/Users/kailinghung/anaconda3/lib/python3.7/site-packages/sklearn/linear_model/logistic.py:433: FutureWarning: Default solver will be changed to 'lbfgs' in 0.22. Specify a solver to silence this warning.\n",
      "  FutureWarning)\n",
      "/Users/kailinghung/anaconda3/lib/python3.7/site-packages/sklearn/linear_model/logistic.py:433: FutureWarning: Default solver will be changed to 'lbfgs' in 0.22. Specify a solver to silence this warning.\n",
      "  FutureWarning)\n",
      "/Users/kailinghung/anaconda3/lib/python3.7/site-packages/sklearn/linear_model/logistic.py:433: FutureWarning: Default solver will be changed to 'lbfgs' in 0.22. Specify a solver to silence this warning.\n",
      "  FutureWarning)\n",
      "/Users/kailinghung/anaconda3/lib/python3.7/site-packages/sklearn/linear_model/logistic.py:433: FutureWarning: Default solver will be changed to 'lbfgs' in 0.22. Specify a solver to silence this warning.\n",
      "  FutureWarning)\n",
      "/Users/kailinghung/anaconda3/lib/python3.7/site-packages/sklearn/linear_model/logistic.py:433: FutureWarning: Default solver will be changed to 'lbfgs' in 0.22. Specify a solver to silence this warning.\n",
      "  FutureWarning)\n",
      "/Users/kailinghung/anaconda3/lib/python3.7/site-packages/sklearn/linear_model/logistic.py:433: FutureWarning: Default solver will be changed to 'lbfgs' in 0.22. Specify a solver to silence this warning.\n",
      "  FutureWarning)\n",
      "/Users/kailinghung/anaconda3/lib/python3.7/site-packages/sklearn/linear_model/logistic.py:433: FutureWarning: Default solver will be changed to 'lbfgs' in 0.22. Specify a solver to silence this warning.\n",
      "  FutureWarning)\n",
      "/Users/kailinghung/anaconda3/lib/python3.7/site-packages/sklearn/linear_model/logistic.py:433: FutureWarning: Default solver will be changed to 'lbfgs' in 0.22. Specify a solver to silence this warning.\n",
      "  FutureWarning)\n",
      "/Users/kailinghung/anaconda3/lib/python3.7/site-packages/sklearn/linear_model/logistic.py:433: FutureWarning: Default solver will be changed to 'lbfgs' in 0.22. Specify a solver to silence this warning.\n",
      "  FutureWarning)\n"
     ]
    },
    {
     "name": "stderr",
     "output_type": "stream",
     "text": [
      "/Users/kailinghung/anaconda3/lib/python3.7/site-packages/sklearn/linear_model/logistic.py:433: FutureWarning: Default solver will be changed to 'lbfgs' in 0.22. Specify a solver to silence this warning.\n",
      "  FutureWarning)\n",
      "/Users/kailinghung/anaconda3/lib/python3.7/site-packages/sklearn/linear_model/logistic.py:433: FutureWarning: Default solver will be changed to 'lbfgs' in 0.22. Specify a solver to silence this warning.\n",
      "  FutureWarning)\n",
      "/Users/kailinghung/anaconda3/lib/python3.7/site-packages/sklearn/linear_model/logistic.py:433: FutureWarning: Default solver will be changed to 'lbfgs' in 0.22. Specify a solver to silence this warning.\n",
      "  FutureWarning)\n",
      "/Users/kailinghung/anaconda3/lib/python3.7/site-packages/sklearn/linear_model/logistic.py:433: FutureWarning: Default solver will be changed to 'lbfgs' in 0.22. Specify a solver to silence this warning.\n",
      "  FutureWarning)\n",
      "/Users/kailinghung/anaconda3/lib/python3.7/site-packages/sklearn/linear_model/logistic.py:433: FutureWarning: Default solver will be changed to 'lbfgs' in 0.22. Specify a solver to silence this warning.\n",
      "  FutureWarning)\n",
      "/Users/kailinghung/anaconda3/lib/python3.7/site-packages/sklearn/linear_model/logistic.py:433: FutureWarning: Default solver will be changed to 'lbfgs' in 0.22. Specify a solver to silence this warning.\n",
      "  FutureWarning)\n",
      "/Users/kailinghung/anaconda3/lib/python3.7/site-packages/sklearn/linear_model/logistic.py:433: FutureWarning: Default solver will be changed to 'lbfgs' in 0.22. Specify a solver to silence this warning.\n",
      "  FutureWarning)\n",
      "/Users/kailinghung/anaconda3/lib/python3.7/site-packages/sklearn/linear_model/logistic.py:433: FutureWarning: Default solver will be changed to 'lbfgs' in 0.22. Specify a solver to silence this warning.\n",
      "  FutureWarning)\n",
      "/Users/kailinghung/anaconda3/lib/python3.7/site-packages/sklearn/linear_model/logistic.py:433: FutureWarning: Default solver will be changed to 'lbfgs' in 0.22. Specify a solver to silence this warning.\n",
      "  FutureWarning)\n",
      "/Users/kailinghung/anaconda3/lib/python3.7/site-packages/sklearn/linear_model/logistic.py:433: FutureWarning: Default solver will be changed to 'lbfgs' in 0.22. Specify a solver to silence this warning.\n",
      "  FutureWarning)\n",
      "/Users/kailinghung/anaconda3/lib/python3.7/site-packages/sklearn/linear_model/logistic.py:433: FutureWarning: Default solver will be changed to 'lbfgs' in 0.22. Specify a solver to silence this warning.\n",
      "  FutureWarning)\n",
      "/Users/kailinghung/anaconda3/lib/python3.7/site-packages/sklearn/linear_model/logistic.py:433: FutureWarning: Default solver will be changed to 'lbfgs' in 0.22. Specify a solver to silence this warning.\n",
      "  FutureWarning)\n",
      "/Users/kailinghung/anaconda3/lib/python3.7/site-packages/sklearn/linear_model/logistic.py:433: FutureWarning: Default solver will be changed to 'lbfgs' in 0.22. Specify a solver to silence this warning.\n",
      "  FutureWarning)\n",
      "/Users/kailinghung/anaconda3/lib/python3.7/site-packages/sklearn/linear_model/logistic.py:433: FutureWarning: Default solver will be changed to 'lbfgs' in 0.22. Specify a solver to silence this warning.\n",
      "  FutureWarning)\n",
      "/Users/kailinghung/anaconda3/lib/python3.7/site-packages/sklearn/linear_model/logistic.py:433: FutureWarning: Default solver will be changed to 'lbfgs' in 0.22. Specify a solver to silence this warning.\n",
      "  FutureWarning)\n",
      "/Users/kailinghung/anaconda3/lib/python3.7/site-packages/sklearn/linear_model/logistic.py:433: FutureWarning: Default solver will be changed to 'lbfgs' in 0.22. Specify a solver to silence this warning.\n",
      "  FutureWarning)\n",
      "/Users/kailinghung/anaconda3/lib/python3.7/site-packages/sklearn/linear_model/logistic.py:433: FutureWarning: Default solver will be changed to 'lbfgs' in 0.22. Specify a solver to silence this warning.\n",
      "  FutureWarning)\n",
      "/Users/kailinghung/anaconda3/lib/python3.7/site-packages/sklearn/linear_model/logistic.py:433: FutureWarning: Default solver will be changed to 'lbfgs' in 0.22. Specify a solver to silence this warning.\n",
      "  FutureWarning)\n",
      "/Users/kailinghung/anaconda3/lib/python3.7/site-packages/sklearn/linear_model/logistic.py:433: FutureWarning: Default solver will be changed to 'lbfgs' in 0.22. Specify a solver to silence this warning.\n",
      "  FutureWarning)\n",
      "/Users/kailinghung/anaconda3/lib/python3.7/site-packages/sklearn/linear_model/logistic.py:433: FutureWarning: Default solver will be changed to 'lbfgs' in 0.22. Specify a solver to silence this warning.\n",
      "  FutureWarning)\n",
      "/Users/kailinghung/anaconda3/lib/python3.7/site-packages/sklearn/linear_model/logistic.py:433: FutureWarning: Default solver will be changed to 'lbfgs' in 0.22. Specify a solver to silence this warning.\n",
      "  FutureWarning)\n",
      "/Users/kailinghung/anaconda3/lib/python3.7/site-packages/sklearn/linear_model/logistic.py:433: FutureWarning: Default solver will be changed to 'lbfgs' in 0.22. Specify a solver to silence this warning.\n",
      "  FutureWarning)\n",
      "/Users/kailinghung/anaconda3/lib/python3.7/site-packages/sklearn/linear_model/logistic.py:433: FutureWarning: Default solver will be changed to 'lbfgs' in 0.22. Specify a solver to silence this warning.\n",
      "  FutureWarning)\n",
      "/Users/kailinghung/anaconda3/lib/python3.7/site-packages/sklearn/linear_model/logistic.py:433: FutureWarning: Default solver will be changed to 'lbfgs' in 0.22. Specify a solver to silence this warning.\n",
      "  FutureWarning)\n",
      "/Users/kailinghung/anaconda3/lib/python3.7/site-packages/sklearn/linear_model/logistic.py:433: FutureWarning: Default solver will be changed to 'lbfgs' in 0.22. Specify a solver to silence this warning.\n",
      "  FutureWarning)\n",
      "/Users/kailinghung/anaconda3/lib/python3.7/site-packages/sklearn/linear_model/logistic.py:433: FutureWarning: Default solver will be changed to 'lbfgs' in 0.22. Specify a solver to silence this warning.\n",
      "  FutureWarning)\n",
      "/Users/kailinghung/anaconda3/lib/python3.7/site-packages/sklearn/linear_model/logistic.py:433: FutureWarning: Default solver will be changed to 'lbfgs' in 0.22. Specify a solver to silence this warning.\n",
      "  FutureWarning)\n",
      "/Users/kailinghung/anaconda3/lib/python3.7/site-packages/sklearn/linear_model/logistic.py:433: FutureWarning: Default solver will be changed to 'lbfgs' in 0.22. Specify a solver to silence this warning.\n",
      "  FutureWarning)\n",
      "/Users/kailinghung/anaconda3/lib/python3.7/site-packages/sklearn/linear_model/logistic.py:433: FutureWarning: Default solver will be changed to 'lbfgs' in 0.22. Specify a solver to silence this warning.\n",
      "  FutureWarning)\n",
      "/Users/kailinghung/anaconda3/lib/python3.7/site-packages/sklearn/linear_model/logistic.py:433: FutureWarning: Default solver will be changed to 'lbfgs' in 0.22. Specify a solver to silence this warning.\n",
      "  FutureWarning)\n",
      "/Users/kailinghung/anaconda3/lib/python3.7/site-packages/sklearn/linear_model/logistic.py:433: FutureWarning: Default solver will be changed to 'lbfgs' in 0.22. Specify a solver to silence this warning.\n",
      "  FutureWarning)\n",
      "/Users/kailinghung/anaconda3/lib/python3.7/site-packages/sklearn/linear_model/logistic.py:433: FutureWarning: Default solver will be changed to 'lbfgs' in 0.22. Specify a solver to silence this warning.\n",
      "  FutureWarning)\n",
      "/Users/kailinghung/anaconda3/lib/python3.7/site-packages/sklearn/linear_model/logistic.py:433: FutureWarning: Default solver will be changed to 'lbfgs' in 0.22. Specify a solver to silence this warning.\n",
      "  FutureWarning)\n",
      "/Users/kailinghung/anaconda3/lib/python3.7/site-packages/sklearn/linear_model/logistic.py:433: FutureWarning: Default solver will be changed to 'lbfgs' in 0.22. Specify a solver to silence this warning.\n",
      "  FutureWarning)\n",
      "/Users/kailinghung/anaconda3/lib/python3.7/site-packages/sklearn/linear_model/logistic.py:433: FutureWarning: Default solver will be changed to 'lbfgs' in 0.22. Specify a solver to silence this warning.\n",
      "  FutureWarning)\n",
      "/Users/kailinghung/anaconda3/lib/python3.7/site-packages/sklearn/linear_model/logistic.py:433: FutureWarning: Default solver will be changed to 'lbfgs' in 0.22. Specify a solver to silence this warning.\n",
      "  FutureWarning)\n",
      "/Users/kailinghung/anaconda3/lib/python3.7/site-packages/sklearn/linear_model/logistic.py:433: FutureWarning: Default solver will be changed to 'lbfgs' in 0.22. Specify a solver to silence this warning.\n",
      "  FutureWarning)\n",
      "/Users/kailinghung/anaconda3/lib/python3.7/site-packages/sklearn/linear_model/logistic.py:433: FutureWarning: Default solver will be changed to 'lbfgs' in 0.22. Specify a solver to silence this warning.\n",
      "  FutureWarning)\n"
     ]
    },
    {
     "name": "stderr",
     "output_type": "stream",
     "text": [
      "/Users/kailinghung/anaconda3/lib/python3.7/site-packages/sklearn/linear_model/logistic.py:433: FutureWarning: Default solver will be changed to 'lbfgs' in 0.22. Specify a solver to silence this warning.\n",
      "  FutureWarning)\n",
      "/Users/kailinghung/anaconda3/lib/python3.7/site-packages/sklearn/linear_model/logistic.py:433: FutureWarning: Default solver will be changed to 'lbfgs' in 0.22. Specify a solver to silence this warning.\n",
      "  FutureWarning)\n",
      "/Users/kailinghung/anaconda3/lib/python3.7/site-packages/sklearn/linear_model/logistic.py:433: FutureWarning: Default solver will be changed to 'lbfgs' in 0.22. Specify a solver to silence this warning.\n",
      "  FutureWarning)\n",
      "/Users/kailinghung/anaconda3/lib/python3.7/site-packages/sklearn/linear_model/logistic.py:433: FutureWarning: Default solver will be changed to 'lbfgs' in 0.22. Specify a solver to silence this warning.\n",
      "  FutureWarning)\n",
      "/Users/kailinghung/anaconda3/lib/python3.7/site-packages/sklearn/linear_model/logistic.py:433: FutureWarning: Default solver will be changed to 'lbfgs' in 0.22. Specify a solver to silence this warning.\n",
      "  FutureWarning)\n",
      "/Users/kailinghung/anaconda3/lib/python3.7/site-packages/sklearn/linear_model/logistic.py:433: FutureWarning: Default solver will be changed to 'lbfgs' in 0.22. Specify a solver to silence this warning.\n",
      "  FutureWarning)\n",
      "/Users/kailinghung/anaconda3/lib/python3.7/site-packages/sklearn/linear_model/logistic.py:433: FutureWarning: Default solver will be changed to 'lbfgs' in 0.22. Specify a solver to silence this warning.\n",
      "  FutureWarning)\n",
      "/Users/kailinghung/anaconda3/lib/python3.7/site-packages/sklearn/linear_model/logistic.py:433: FutureWarning: Default solver will be changed to 'lbfgs' in 0.22. Specify a solver to silence this warning.\n",
      "  FutureWarning)\n",
      "/Users/kailinghung/anaconda3/lib/python3.7/site-packages/sklearn/linear_model/logistic.py:433: FutureWarning: Default solver will be changed to 'lbfgs' in 0.22. Specify a solver to silence this warning.\n",
      "  FutureWarning)\n",
      "/Users/kailinghung/anaconda3/lib/python3.7/site-packages/sklearn/linear_model/logistic.py:433: FutureWarning: Default solver will be changed to 'lbfgs' in 0.22. Specify a solver to silence this warning.\n",
      "  FutureWarning)\n",
      "/Users/kailinghung/anaconda3/lib/python3.7/site-packages/sklearn/linear_model/logistic.py:433: FutureWarning: Default solver will be changed to 'lbfgs' in 0.22. Specify a solver to silence this warning.\n",
      "  FutureWarning)\n",
      "/Users/kailinghung/anaconda3/lib/python3.7/site-packages/sklearn/linear_model/logistic.py:433: FutureWarning: Default solver will be changed to 'lbfgs' in 0.22. Specify a solver to silence this warning.\n",
      "  FutureWarning)\n",
      "/Users/kailinghung/anaconda3/lib/python3.7/site-packages/sklearn/linear_model/logistic.py:433: FutureWarning: Default solver will be changed to 'lbfgs' in 0.22. Specify a solver to silence this warning.\n",
      "  FutureWarning)\n",
      "/Users/kailinghung/anaconda3/lib/python3.7/site-packages/sklearn/linear_model/logistic.py:433: FutureWarning: Default solver will be changed to 'lbfgs' in 0.22. Specify a solver to silence this warning.\n",
      "  FutureWarning)\n",
      "/Users/kailinghung/anaconda3/lib/python3.7/site-packages/sklearn/linear_model/logistic.py:433: FutureWarning: Default solver will be changed to 'lbfgs' in 0.22. Specify a solver to silence this warning.\n",
      "  FutureWarning)\n",
      "/Users/kailinghung/anaconda3/lib/python3.7/site-packages/sklearn/linear_model/logistic.py:433: FutureWarning: Default solver will be changed to 'lbfgs' in 0.22. Specify a solver to silence this warning.\n",
      "  FutureWarning)\n",
      "/Users/kailinghung/anaconda3/lib/python3.7/site-packages/sklearn/linear_model/logistic.py:433: FutureWarning: Default solver will be changed to 'lbfgs' in 0.22. Specify a solver to silence this warning.\n",
      "  FutureWarning)\n",
      "/Users/kailinghung/anaconda3/lib/python3.7/site-packages/sklearn/linear_model/logistic.py:433: FutureWarning: Default solver will be changed to 'lbfgs' in 0.22. Specify a solver to silence this warning.\n",
      "  FutureWarning)\n",
      "/Users/kailinghung/anaconda3/lib/python3.7/site-packages/sklearn/linear_model/logistic.py:433: FutureWarning: Default solver will be changed to 'lbfgs' in 0.22. Specify a solver to silence this warning.\n",
      "  FutureWarning)\n",
      "/Users/kailinghung/anaconda3/lib/python3.7/site-packages/sklearn/linear_model/logistic.py:433: FutureWarning: Default solver will be changed to 'lbfgs' in 0.22. Specify a solver to silence this warning.\n",
      "  FutureWarning)\n",
      "/Users/kailinghung/anaconda3/lib/python3.7/site-packages/sklearn/linear_model/logistic.py:433: FutureWarning: Default solver will be changed to 'lbfgs' in 0.22. Specify a solver to silence this warning.\n",
      "  FutureWarning)\n",
      "/Users/kailinghung/anaconda3/lib/python3.7/site-packages/sklearn/linear_model/logistic.py:433: FutureWarning: Default solver will be changed to 'lbfgs' in 0.22. Specify a solver to silence this warning.\n",
      "  FutureWarning)\n",
      "/Users/kailinghung/anaconda3/lib/python3.7/site-packages/sklearn/linear_model/logistic.py:433: FutureWarning: Default solver will be changed to 'lbfgs' in 0.22. Specify a solver to silence this warning.\n",
      "  FutureWarning)\n",
      "/Users/kailinghung/anaconda3/lib/python3.7/site-packages/sklearn/linear_model/logistic.py:433: FutureWarning: Default solver will be changed to 'lbfgs' in 0.22. Specify a solver to silence this warning.\n",
      "  FutureWarning)\n",
      "/Users/kailinghung/anaconda3/lib/python3.7/site-packages/sklearn/linear_model/logistic.py:433: FutureWarning: Default solver will be changed to 'lbfgs' in 0.22. Specify a solver to silence this warning.\n",
      "  FutureWarning)\n",
      "/Users/kailinghung/anaconda3/lib/python3.7/site-packages/sklearn/linear_model/logistic.py:433: FutureWarning: Default solver will be changed to 'lbfgs' in 0.22. Specify a solver to silence this warning.\n",
      "  FutureWarning)\n",
      "/Users/kailinghung/anaconda3/lib/python3.7/site-packages/sklearn/linear_model/logistic.py:433: FutureWarning: Default solver will be changed to 'lbfgs' in 0.22. Specify a solver to silence this warning.\n",
      "  FutureWarning)\n",
      "/Users/kailinghung/anaconda3/lib/python3.7/site-packages/sklearn/linear_model/logistic.py:433: FutureWarning: Default solver will be changed to 'lbfgs' in 0.22. Specify a solver to silence this warning.\n",
      "  FutureWarning)\n",
      "/Users/kailinghung/anaconda3/lib/python3.7/site-packages/sklearn/linear_model/logistic.py:433: FutureWarning: Default solver will be changed to 'lbfgs' in 0.22. Specify a solver to silence this warning.\n",
      "  FutureWarning)\n",
      "/Users/kailinghung/anaconda3/lib/python3.7/site-packages/sklearn/linear_model/logistic.py:433: FutureWarning: Default solver will be changed to 'lbfgs' in 0.22. Specify a solver to silence this warning.\n",
      "  FutureWarning)\n",
      "/Users/kailinghung/anaconda3/lib/python3.7/site-packages/sklearn/linear_model/logistic.py:433: FutureWarning: Default solver will be changed to 'lbfgs' in 0.22. Specify a solver to silence this warning.\n",
      "  FutureWarning)\n",
      "/Users/kailinghung/anaconda3/lib/python3.7/site-packages/sklearn/linear_model/logistic.py:433: FutureWarning: Default solver will be changed to 'lbfgs' in 0.22. Specify a solver to silence this warning.\n",
      "  FutureWarning)\n",
      "/Users/kailinghung/anaconda3/lib/python3.7/site-packages/sklearn/linear_model/logistic.py:433: FutureWarning: Default solver will be changed to 'lbfgs' in 0.22. Specify a solver to silence this warning.\n",
      "  FutureWarning)\n",
      "/Users/kailinghung/anaconda3/lib/python3.7/site-packages/sklearn/linear_model/logistic.py:433: FutureWarning: Default solver will be changed to 'lbfgs' in 0.22. Specify a solver to silence this warning.\n",
      "  FutureWarning)\n",
      "/Users/kailinghung/anaconda3/lib/python3.7/site-packages/sklearn/linear_model/logistic.py:433: FutureWarning: Default solver will be changed to 'lbfgs' in 0.22. Specify a solver to silence this warning.\n",
      "  FutureWarning)\n",
      "/Users/kailinghung/anaconda3/lib/python3.7/site-packages/sklearn/linear_model/logistic.py:433: FutureWarning: Default solver will be changed to 'lbfgs' in 0.22. Specify a solver to silence this warning.\n",
      "  FutureWarning)\n",
      "/Users/kailinghung/anaconda3/lib/python3.7/site-packages/sklearn/linear_model/logistic.py:433: FutureWarning: Default solver will be changed to 'lbfgs' in 0.22. Specify a solver to silence this warning.\n",
      "  FutureWarning)\n",
      "/Users/kailinghung/anaconda3/lib/python3.7/site-packages/sklearn/linear_model/logistic.py:433: FutureWarning: Default solver will be changed to 'lbfgs' in 0.22. Specify a solver to silence this warning.\n",
      "  FutureWarning)\n"
     ]
    },
    {
     "name": "stderr",
     "output_type": "stream",
     "text": [
      "/Users/kailinghung/anaconda3/lib/python3.7/site-packages/sklearn/linear_model/logistic.py:433: FutureWarning: Default solver will be changed to 'lbfgs' in 0.22. Specify a solver to silence this warning.\n",
      "  FutureWarning)\n",
      "/Users/kailinghung/anaconda3/lib/python3.7/site-packages/sklearn/linear_model/logistic.py:433: FutureWarning: Default solver will be changed to 'lbfgs' in 0.22. Specify a solver to silence this warning.\n",
      "  FutureWarning)\n",
      "/Users/kailinghung/anaconda3/lib/python3.7/site-packages/sklearn/linear_model/logistic.py:433: FutureWarning: Default solver will be changed to 'lbfgs' in 0.22. Specify a solver to silence this warning.\n",
      "  FutureWarning)\n",
      "/Users/kailinghung/anaconda3/lib/python3.7/site-packages/sklearn/linear_model/logistic.py:433: FutureWarning: Default solver will be changed to 'lbfgs' in 0.22. Specify a solver to silence this warning.\n",
      "  FutureWarning)\n",
      "/Users/kailinghung/anaconda3/lib/python3.7/site-packages/sklearn/linear_model/logistic.py:433: FutureWarning: Default solver will be changed to 'lbfgs' in 0.22. Specify a solver to silence this warning.\n",
      "  FutureWarning)\n",
      "/Users/kailinghung/anaconda3/lib/python3.7/site-packages/sklearn/linear_model/logistic.py:433: FutureWarning: Default solver will be changed to 'lbfgs' in 0.22. Specify a solver to silence this warning.\n",
      "  FutureWarning)\n",
      "/Users/kailinghung/anaconda3/lib/python3.7/site-packages/sklearn/linear_model/logistic.py:433: FutureWarning: Default solver will be changed to 'lbfgs' in 0.22. Specify a solver to silence this warning.\n",
      "  FutureWarning)\n",
      "/Users/kailinghung/anaconda3/lib/python3.7/site-packages/sklearn/linear_model/logistic.py:433: FutureWarning: Default solver will be changed to 'lbfgs' in 0.22. Specify a solver to silence this warning.\n",
      "  FutureWarning)\n",
      "/Users/kailinghung/anaconda3/lib/python3.7/site-packages/sklearn/linear_model/logistic.py:433: FutureWarning: Default solver will be changed to 'lbfgs' in 0.22. Specify a solver to silence this warning.\n",
      "  FutureWarning)\n",
      "/Users/kailinghung/anaconda3/lib/python3.7/site-packages/sklearn/linear_model/logistic.py:433: FutureWarning: Default solver will be changed to 'lbfgs' in 0.22. Specify a solver to silence this warning.\n",
      "  FutureWarning)\n",
      "/Users/kailinghung/anaconda3/lib/python3.7/site-packages/sklearn/linear_model/logistic.py:433: FutureWarning: Default solver will be changed to 'lbfgs' in 0.22. Specify a solver to silence this warning.\n",
      "  FutureWarning)\n",
      "/Users/kailinghung/anaconda3/lib/python3.7/site-packages/sklearn/linear_model/logistic.py:433: FutureWarning: Default solver will be changed to 'lbfgs' in 0.22. Specify a solver to silence this warning.\n",
      "  FutureWarning)\n",
      "/Users/kailinghung/anaconda3/lib/python3.7/site-packages/sklearn/linear_model/logistic.py:433: FutureWarning: Default solver will be changed to 'lbfgs' in 0.22. Specify a solver to silence this warning.\n",
      "  FutureWarning)\n",
      "/Users/kailinghung/anaconda3/lib/python3.7/site-packages/sklearn/linear_model/logistic.py:433: FutureWarning: Default solver will be changed to 'lbfgs' in 0.22. Specify a solver to silence this warning.\n",
      "  FutureWarning)\n",
      "/Users/kailinghung/anaconda3/lib/python3.7/site-packages/sklearn/linear_model/logistic.py:433: FutureWarning: Default solver will be changed to 'lbfgs' in 0.22. Specify a solver to silence this warning.\n",
      "  FutureWarning)\n",
      "/Users/kailinghung/anaconda3/lib/python3.7/site-packages/sklearn/linear_model/logistic.py:433: FutureWarning: Default solver will be changed to 'lbfgs' in 0.22. Specify a solver to silence this warning.\n",
      "  FutureWarning)\n",
      "/Users/kailinghung/anaconda3/lib/python3.7/site-packages/sklearn/linear_model/logistic.py:433: FutureWarning: Default solver will be changed to 'lbfgs' in 0.22. Specify a solver to silence this warning.\n",
      "  FutureWarning)\n",
      "/Users/kailinghung/anaconda3/lib/python3.7/site-packages/sklearn/linear_model/logistic.py:433: FutureWarning: Default solver will be changed to 'lbfgs' in 0.22. Specify a solver to silence this warning.\n",
      "  FutureWarning)\n",
      "/Users/kailinghung/anaconda3/lib/python3.7/site-packages/sklearn/linear_model/logistic.py:433: FutureWarning: Default solver will be changed to 'lbfgs' in 0.22. Specify a solver to silence this warning.\n",
      "  FutureWarning)\n",
      "/Users/kailinghung/anaconda3/lib/python3.7/site-packages/sklearn/linear_model/logistic.py:433: FutureWarning: Default solver will be changed to 'lbfgs' in 0.22. Specify a solver to silence this warning.\n",
      "  FutureWarning)\n",
      "/Users/kailinghung/anaconda3/lib/python3.7/site-packages/sklearn/linear_model/logistic.py:433: FutureWarning: Default solver will be changed to 'lbfgs' in 0.22. Specify a solver to silence this warning.\n",
      "  FutureWarning)\n",
      "/Users/kailinghung/anaconda3/lib/python3.7/site-packages/sklearn/linear_model/logistic.py:433: FutureWarning: Default solver will be changed to 'lbfgs' in 0.22. Specify a solver to silence this warning.\n",
      "  FutureWarning)\n",
      "/Users/kailinghung/anaconda3/lib/python3.7/site-packages/sklearn/linear_model/logistic.py:433: FutureWarning: Default solver will be changed to 'lbfgs' in 0.22. Specify a solver to silence this warning.\n",
      "  FutureWarning)\n",
      "/Users/kailinghung/anaconda3/lib/python3.7/site-packages/sklearn/linear_model/logistic.py:433: FutureWarning: Default solver will be changed to 'lbfgs' in 0.22. Specify a solver to silence this warning.\n",
      "  FutureWarning)\n",
      "/Users/kailinghung/anaconda3/lib/python3.7/site-packages/sklearn/linear_model/logistic.py:433: FutureWarning: Default solver will be changed to 'lbfgs' in 0.22. Specify a solver to silence this warning.\n",
      "  FutureWarning)\n",
      "/Users/kailinghung/anaconda3/lib/python3.7/site-packages/sklearn/linear_model/logistic.py:433: FutureWarning: Default solver will be changed to 'lbfgs' in 0.22. Specify a solver to silence this warning.\n",
      "  FutureWarning)\n",
      "/Users/kailinghung/anaconda3/lib/python3.7/site-packages/sklearn/linear_model/logistic.py:433: FutureWarning: Default solver will be changed to 'lbfgs' in 0.22. Specify a solver to silence this warning.\n",
      "  FutureWarning)\n",
      "/Users/kailinghung/anaconda3/lib/python3.7/site-packages/sklearn/linear_model/logistic.py:433: FutureWarning: Default solver will be changed to 'lbfgs' in 0.22. Specify a solver to silence this warning.\n",
      "  FutureWarning)\n",
      "/Users/kailinghung/anaconda3/lib/python3.7/site-packages/sklearn/linear_model/logistic.py:433: FutureWarning: Default solver will be changed to 'lbfgs' in 0.22. Specify a solver to silence this warning.\n",
      "  FutureWarning)\n",
      "/Users/kailinghung/anaconda3/lib/python3.7/site-packages/sklearn/linear_model/logistic.py:433: FutureWarning: Default solver will be changed to 'lbfgs' in 0.22. Specify a solver to silence this warning.\n",
      "  FutureWarning)\n",
      "/Users/kailinghung/anaconda3/lib/python3.7/site-packages/sklearn/linear_model/logistic.py:433: FutureWarning: Default solver will be changed to 'lbfgs' in 0.22. Specify a solver to silence this warning.\n",
      "  FutureWarning)\n",
      "/Users/kailinghung/anaconda3/lib/python3.7/site-packages/sklearn/linear_model/logistic.py:433: FutureWarning: Default solver will be changed to 'lbfgs' in 0.22. Specify a solver to silence this warning.\n",
      "  FutureWarning)\n",
      "/Users/kailinghung/anaconda3/lib/python3.7/site-packages/sklearn/linear_model/logistic.py:433: FutureWarning: Default solver will be changed to 'lbfgs' in 0.22. Specify a solver to silence this warning.\n",
      "  FutureWarning)\n",
      "/Users/kailinghung/anaconda3/lib/python3.7/site-packages/sklearn/linear_model/logistic.py:433: FutureWarning: Default solver will be changed to 'lbfgs' in 0.22. Specify a solver to silence this warning.\n",
      "  FutureWarning)\n",
      "/Users/kailinghung/anaconda3/lib/python3.7/site-packages/sklearn/linear_model/logistic.py:433: FutureWarning: Default solver will be changed to 'lbfgs' in 0.22. Specify a solver to silence this warning.\n",
      "  FutureWarning)\n",
      "/Users/kailinghung/anaconda3/lib/python3.7/site-packages/sklearn/linear_model/logistic.py:433: FutureWarning: Default solver will be changed to 'lbfgs' in 0.22. Specify a solver to silence this warning.\n",
      "  FutureWarning)\n",
      "/Users/kailinghung/anaconda3/lib/python3.7/site-packages/sklearn/linear_model/logistic.py:433: FutureWarning: Default solver will be changed to 'lbfgs' in 0.22. Specify a solver to silence this warning.\n",
      "  FutureWarning)\n",
      "/Users/kailinghung/anaconda3/lib/python3.7/site-packages/sklearn/linear_model/logistic.py:433: FutureWarning: Default solver will be changed to 'lbfgs' in 0.22. Specify a solver to silence this warning.\n",
      "  FutureWarning)\n"
     ]
    },
    {
     "name": "stderr",
     "output_type": "stream",
     "text": [
      "/Users/kailinghung/anaconda3/lib/python3.7/site-packages/sklearn/linear_model/logistic.py:433: FutureWarning: Default solver will be changed to 'lbfgs' in 0.22. Specify a solver to silence this warning.\n",
      "  FutureWarning)\n",
      "/Users/kailinghung/anaconda3/lib/python3.7/site-packages/sklearn/linear_model/logistic.py:433: FutureWarning: Default solver will be changed to 'lbfgs' in 0.22. Specify a solver to silence this warning.\n",
      "  FutureWarning)\n",
      "/Users/kailinghung/anaconda3/lib/python3.7/site-packages/sklearn/linear_model/logistic.py:433: FutureWarning: Default solver will be changed to 'lbfgs' in 0.22. Specify a solver to silence this warning.\n",
      "  FutureWarning)\n",
      "/Users/kailinghung/anaconda3/lib/python3.7/site-packages/sklearn/linear_model/logistic.py:433: FutureWarning: Default solver will be changed to 'lbfgs' in 0.22. Specify a solver to silence this warning.\n",
      "  FutureWarning)\n",
      "/Users/kailinghung/anaconda3/lib/python3.7/site-packages/sklearn/linear_model/logistic.py:433: FutureWarning: Default solver will be changed to 'lbfgs' in 0.22. Specify a solver to silence this warning.\n",
      "  FutureWarning)\n",
      "/Users/kailinghung/anaconda3/lib/python3.7/site-packages/sklearn/linear_model/logistic.py:433: FutureWarning: Default solver will be changed to 'lbfgs' in 0.22. Specify a solver to silence this warning.\n",
      "  FutureWarning)\n",
      "/Users/kailinghung/anaconda3/lib/python3.7/site-packages/sklearn/linear_model/logistic.py:433: FutureWarning: Default solver will be changed to 'lbfgs' in 0.22. Specify a solver to silence this warning.\n",
      "  FutureWarning)\n",
      "/Users/kailinghung/anaconda3/lib/python3.7/site-packages/sklearn/linear_model/logistic.py:433: FutureWarning: Default solver will be changed to 'lbfgs' in 0.22. Specify a solver to silence this warning.\n",
      "  FutureWarning)\n",
      "/Users/kailinghung/anaconda3/lib/python3.7/site-packages/sklearn/linear_model/logistic.py:433: FutureWarning: Default solver will be changed to 'lbfgs' in 0.22. Specify a solver to silence this warning.\n",
      "  FutureWarning)\n",
      "/Users/kailinghung/anaconda3/lib/python3.7/site-packages/sklearn/linear_model/logistic.py:433: FutureWarning: Default solver will be changed to 'lbfgs' in 0.22. Specify a solver to silence this warning.\n",
      "  FutureWarning)\n",
      "/Users/kailinghung/anaconda3/lib/python3.7/site-packages/sklearn/linear_model/logistic.py:433: FutureWarning: Default solver will be changed to 'lbfgs' in 0.22. Specify a solver to silence this warning.\n",
      "  FutureWarning)\n",
      "/Users/kailinghung/anaconda3/lib/python3.7/site-packages/sklearn/linear_model/logistic.py:433: FutureWarning: Default solver will be changed to 'lbfgs' in 0.22. Specify a solver to silence this warning.\n",
      "  FutureWarning)\n",
      "/Users/kailinghung/anaconda3/lib/python3.7/site-packages/sklearn/linear_model/logistic.py:433: FutureWarning: Default solver will be changed to 'lbfgs' in 0.22. Specify a solver to silence this warning.\n",
      "  FutureWarning)\n",
      "/Users/kailinghung/anaconda3/lib/python3.7/site-packages/sklearn/linear_model/logistic.py:433: FutureWarning: Default solver will be changed to 'lbfgs' in 0.22. Specify a solver to silence this warning.\n",
      "  FutureWarning)\n",
      "/Users/kailinghung/anaconda3/lib/python3.7/site-packages/sklearn/linear_model/logistic.py:433: FutureWarning: Default solver will be changed to 'lbfgs' in 0.22. Specify a solver to silence this warning.\n",
      "  FutureWarning)\n",
      "/Users/kailinghung/anaconda3/lib/python3.7/site-packages/sklearn/linear_model/logistic.py:433: FutureWarning: Default solver will be changed to 'lbfgs' in 0.22. Specify a solver to silence this warning.\n",
      "  FutureWarning)\n",
      "/Users/kailinghung/anaconda3/lib/python3.7/site-packages/sklearn/linear_model/logistic.py:433: FutureWarning: Default solver will be changed to 'lbfgs' in 0.22. Specify a solver to silence this warning.\n",
      "  FutureWarning)\n",
      "/Users/kailinghung/anaconda3/lib/python3.7/site-packages/sklearn/linear_model/logistic.py:433: FutureWarning: Default solver will be changed to 'lbfgs' in 0.22. Specify a solver to silence this warning.\n",
      "  FutureWarning)\n",
      "/Users/kailinghung/anaconda3/lib/python3.7/site-packages/sklearn/linear_model/logistic.py:433: FutureWarning: Default solver will be changed to 'lbfgs' in 0.22. Specify a solver to silence this warning.\n",
      "  FutureWarning)\n",
      "/Users/kailinghung/anaconda3/lib/python3.7/site-packages/sklearn/linear_model/logistic.py:433: FutureWarning: Default solver will be changed to 'lbfgs' in 0.22. Specify a solver to silence this warning.\n",
      "  FutureWarning)\n",
      "/Users/kailinghung/anaconda3/lib/python3.7/site-packages/sklearn/linear_model/logistic.py:433: FutureWarning: Default solver will be changed to 'lbfgs' in 0.22. Specify a solver to silence this warning.\n",
      "  FutureWarning)\n",
      "/Users/kailinghung/anaconda3/lib/python3.7/site-packages/sklearn/linear_model/logistic.py:433: FutureWarning: Default solver will be changed to 'lbfgs' in 0.22. Specify a solver to silence this warning.\n",
      "  FutureWarning)\n",
      "/Users/kailinghung/anaconda3/lib/python3.7/site-packages/sklearn/linear_model/logistic.py:433: FutureWarning: Default solver will be changed to 'lbfgs' in 0.22. Specify a solver to silence this warning.\n",
      "  FutureWarning)\n",
      "/Users/kailinghung/anaconda3/lib/python3.7/site-packages/sklearn/linear_model/logistic.py:433: FutureWarning: Default solver will be changed to 'lbfgs' in 0.22. Specify a solver to silence this warning.\n",
      "  FutureWarning)\n",
      "/Users/kailinghung/anaconda3/lib/python3.7/site-packages/sklearn/linear_model/logistic.py:433: FutureWarning: Default solver will be changed to 'lbfgs' in 0.22. Specify a solver to silence this warning.\n",
      "  FutureWarning)\n",
      "/Users/kailinghung/anaconda3/lib/python3.7/site-packages/sklearn/linear_model/logistic.py:433: FutureWarning: Default solver will be changed to 'lbfgs' in 0.22. Specify a solver to silence this warning.\n",
      "  FutureWarning)\n",
      "/Users/kailinghung/anaconda3/lib/python3.7/site-packages/sklearn/linear_model/logistic.py:433: FutureWarning: Default solver will be changed to 'lbfgs' in 0.22. Specify a solver to silence this warning.\n",
      "  FutureWarning)\n",
      "/Users/kailinghung/anaconda3/lib/python3.7/site-packages/sklearn/linear_model/logistic.py:433: FutureWarning: Default solver will be changed to 'lbfgs' in 0.22. Specify a solver to silence this warning.\n",
      "  FutureWarning)\n"
     ]
    }
   ],
   "source": [
    "multipltrun_df=multipltrun_2()"
   ]
  },
  {
   "cell_type": "markdown",
   "metadata": {},
   "source": [
    "## According to the chart above, the optimal FDR for oot data is 0.375419, corresponding to 13 variables."
   ]
  },
  {
   "cell_type": "code",
   "execution_count": 42,
   "metadata": {},
   "outputs": [
    {
     "data": {
      "text/plain": [
       "Text(0, 0.5, 'FDR')"
      ]
     },
     "execution_count": 42,
     "metadata": {},
     "output_type": "execute_result"
    },
    {
     "data": {
      "image/png": "[encoded data removed]",
      "text/plain": [
       "<Figure size 432x288 with 1 Axes>"
      ]
     },
     "metadata": {
      "needs_background": "light"
     },
     "output_type": "display_data"
    }
   ],
   "source": [
    "plt.plot(multipltrun_df['oot'])\n",
    "plt.title('FDR on oot data')\n",
    "plt.ylabel('FDR')"
   ]
  },
  {
   "cell_type": "markdown",
   "metadata": {},
   "source": [
    "Conclusion: optimal # of variables is 13, the corresponding FDR is 0.375419."
   ]
  }
 ],
 "metadata": {
  "anaconda-cloud": {},
  "kernelspec": {
   "display_name": "Python 3",
   "language": "python",
   "name": "python3"
  },
  "language_info": {
   "codemirror_mode": {
    "name": "ipython",
    "version": 3
   },
   "file_extension": ".py",
   "mimetype": "text/x-python",
   "name": "python",
   "nbconvert_exporter": "python",
   "pygments_lexer": "ipython3",
   "version": "3.7.1"
  },
  "nbpresent": {
   "slides": {
    "000eb71e-c5c7-480f-870e-9ca839bf59fc": {
     "id": "000eb71e-c5c7-480f-870e-9ca839bf59fc",
     "prev": "bebb6b7c-bec5-41f7-9389-848bbe795e66",
     "regions": {
      "d8be80fe-a50e-48e1-81fa-ae04b28c096b": {
       "attrs": {
        "height": 0.8,
        "width": 0.8,
        "x": 0.1,
        "y": 0.1
       },
       "content": {
        "cell": "183c6087-bab7-495b-991e-5f26dbc87272",
        "part": "whole"
       },
       "id": "d8be80fe-a50e-48e1-81fa-ae04b28c096b"
      }
     }
    },
    "1f3d535d-4085-456d-b1a2-e591c79d643b": {
     "id": "1f3d535d-4085-456d-b1a2-e591c79d643b",
     "prev": "879f01df-6761-4d11-a1f9-7f3c0d609b88",
     "regions": {
      "1eef7b0e-cfe8-463d-a84d-ec8a401af0b9": {
       "attrs": {
        "height": 0.8,
        "width": 0.8,
        "x": 0.1,
        "y": 0.1
       },
       "content": {
        "cell": "9db4791a-d98d-4334-927e-4d78f25dfc2b",
        "part": "whole"
       },
       "id": "1eef7b0e-cfe8-463d-a84d-ec8a401af0b9"
      }
     }
    },
    "3d17961e-80b7-4078-8650-ce35468d74eb": {
     "id": "3d17961e-80b7-4078-8650-ce35468d74eb",
     "prev": "d142675d-f132-41c6-81b6-bc4bdee76ef5",
     "regions": {
      "d35b525a-4753-4225-9b4f-bd0b6de4a45d": {
       "attrs": {
        "height": 0.8,
        "width": 0.8,
        "x": 0.1,
        "y": 0.1
       },
       "content": {
        "cell": "62a16342-f00b-49c1-a570-1d08e5f107a3",
        "part": "whole"
       },
       "id": "d35b525a-4753-4225-9b4f-bd0b6de4a45d"
      }
     }
    },
    "45cb7223-71d6-413c-aa06-2d1550af2ff8": {
     "id": "45cb7223-71d6-413c-aa06-2d1550af2ff8",
     "prev": "bc380d13-2995-415b-a50f-6007f88b187c",
     "regions": {
      "e9880413-4691-401a-8602-ef94bf1b5034": {
       "attrs": {
        "height": 0.8,
        "width": 0.8,
        "x": 0.1,
        "y": 0.1
       },
       "content": {
        "cell": "44d4eb36-ee0e-4070-b455-472afb0f3f4a",
        "part": "whole"
       },
       "id": "e9880413-4691-401a-8602-ef94bf1b5034"
      }
     }
    },
    "60e86473-8e3e-4d56-9d18-e4bfbe9e3b83": {
     "id": "60e86473-8e3e-4d56-9d18-e4bfbe9e3b83",
     "prev": "85091533-59af-463f-be20-667c38d650b9",
     "regions": {
      "efe8eb4a-8589-4c4e-8286-705e9485ab70": {
       "attrs": {
        "height": 0.8,
        "width": 0.8,
        "x": 0.1,
        "y": 0.1
       },
       "content": {
        "cell": "affacd4e-c4f5-4205-8c3b-ddf001223236",
        "part": "whole"
       },
       "id": "efe8eb4a-8589-4c4e-8286-705e9485ab70"
      }
     }
    },
    "6229913b-718b-4e67-a831-330fb6a2a6d3": {
     "id": "6229913b-718b-4e67-a831-330fb6a2a6d3",
     "prev": "71288704-7e7b-485f-aafb-a0a0adc12334",
     "regions": {
      "e3f3c209-4098-4c6f-b201-9ab875ffec86": {
       "attrs": {
        "height": 0.8,
        "width": 0.8,
        "x": 0.1,
        "y": 0.1
       },
       "content": {
        "cell": "80e83d2f-e09e-4631-b9de-5a6a9df3eb83",
        "part": "whole"
       },
       "id": "e3f3c209-4098-4c6f-b201-9ab875ffec86"
      }
     }
    },
    "63ca5375-2a1d-44fd-a2ac-e77e2762c1be": {
     "id": "63ca5375-2a1d-44fd-a2ac-e77e2762c1be",
     "prev": "9c5194f8-5732-4017-99ec-8be6638853cf",
     "regions": {
      "19a77190-bd02-4dad-9151-908491f1ef55": {
       "attrs": {
        "height": 0.8,
        "width": 0.8,
        "x": 0.1,
        "y": 0.1
       },
       "content": {
        "cell": "64130f62-181f-49ba-b8c5-f3509b04c5b1",
        "part": "whole"
       },
       "id": "19a77190-bd02-4dad-9151-908491f1ef55"
      }
     }
    },
    "71288704-7e7b-485f-aafb-a0a0adc12334": {
     "id": "71288704-7e7b-485f-aafb-a0a0adc12334",
     "prev": "b88e913f-e7f8-4908-938c-d9655f1e22d9",
     "regions": {
      "fee52edc-0227-47f7-a315-3cbfaec79de8": {
       "attrs": {
        "height": 0.8,
        "width": 0.8,
        "x": 0.1,
        "y": 0.1
       },
       "content": {
        "cell": "564e5f61-4b3d-4a4c-9661-3fc0f5f5161b",
        "part": "whole"
       },
       "id": "fee52edc-0227-47f7-a315-3cbfaec79de8"
      }
     }
    },
    "834da33c-237b-4408-826d-bbb049f10208": {
     "id": "834da33c-237b-4408-826d-bbb049f10208",
     "prev": "000eb71e-c5c7-480f-870e-9ca839bf59fc",
     "regions": {
      "cd9ab26f-5a8d-478a-882d-8e0fd165e7a6": {
       "attrs": {
        "height": 0.8,
        "width": 0.8,
        "x": 0.1,
        "y": 0.1
       },
       "content": {
        "cell": "6a5dc069-a3a0-47f0-8c1e-8ab2fcaa2fb8",
        "part": "whole"
       },
       "id": "cd9ab26f-5a8d-478a-882d-8e0fd165e7a6"
      }
     }
    },
    "845d6736-9fa8-457b-bdf5-dd4d1e651e28": {
     "id": "845d6736-9fa8-457b-bdf5-dd4d1e651e28",
     "prev": "a9d8d44d-fa22-49f3-acde-201fa6676260",
     "regions": {
      "afef51ab-2b52-4278-bf21-fceea8840075": {
       "attrs": {
        "height": 0.8,
        "width": 0.8,
        "x": 0.1,
        "y": 0.1
       },
       "content": {
        "cell": "0d8f109e-3f55-4671-bb7d-d3164e60432d",
        "part": "whole"
       },
       "id": "afef51ab-2b52-4278-bf21-fceea8840075"
      }
     }
    },
    "85091533-59af-463f-be20-667c38d650b9": {
     "id": "85091533-59af-463f-be20-667c38d650b9",
     "prev": "45cb7223-71d6-413c-aa06-2d1550af2ff8",
     "regions": {
      "94c9cc60-0aa4-4d82-bc90-f7d4091f38ae": {
       "attrs": {
        "height": 0.8,
        "width": 0.8,
        "x": 0.1,
        "y": 0.1
       },
       "content": {
        "cell": "3be92b91-7733-4e0b-b0e7-5f48915edeb6",
        "part": "whole"
       },
       "id": "94c9cc60-0aa4-4d82-bc90-f7d4091f38ae"
      }
     }
    },
    "879f01df-6761-4d11-a1f9-7f3c0d609b88": {
     "id": "879f01df-6761-4d11-a1f9-7f3c0d609b88",
     "prev": "834da33c-237b-4408-826d-bbb049f10208",
     "regions": {
      "f36699f3-ab60-43ec-b189-361b928be091": {
       "attrs": {
        "height": 0.8,
        "width": 0.8,
        "x": 0.1,
        "y": 0.1
       },
       "content": {
        "cell": "5047f4e0-7965-4330-8f9c-37eedca51a9b",
        "part": "whole"
       },
       "id": "f36699f3-ab60-43ec-b189-361b928be091"
      }
     }
    },
    "8b7e2b25-60cb-48ce-9694-3cfb15d42c6e": {
     "id": "8b7e2b25-60cb-48ce-9694-3cfb15d42c6e",
     "prev": "3d17961e-80b7-4078-8650-ce35468d74eb",
     "regions": {
      "78c9ff4a-7e13-4652-a434-c0f7e22b1638": {
       "attrs": {
        "height": 0.8,
        "width": 0.8,
        "x": 0.1,
        "y": 0.1
       },
       "content": {
        "cell": "f7cae24a-be12-466c-992e-7937ef0c1504",
        "part": "whole"
       },
       "id": "78c9ff4a-7e13-4652-a434-c0f7e22b1638"
      }
     }
    },
    "946770f4-14cb-4f82-9d3e-8cdf68a99528": {
     "id": "946770f4-14cb-4f82-9d3e-8cdf68a99528",
     "prev": "b8d16fce-c0f0-4961-9832-b131c07b7416",
     "regions": {
      "1bedf970-b954-4dfa-985e-f1ea533833e8": {
       "attrs": {
        "height": 0.8,
        "width": 0.8,
        "x": 0.1,
        "y": 0.1
       },
       "content": {
        "cell": "45f6c8eb-e012-4b98-8aea-a4ec91a1d90a",
        "part": "whole"
       },
       "id": "1bedf970-b954-4dfa-985e-f1ea533833e8"
      }
     }
    },
    "9c5194f8-5732-4017-99ec-8be6638853cf": {
     "id": "9c5194f8-5732-4017-99ec-8be6638853cf",
     "prev": "c77f22fb-d214-47d3-a0f0-4c1a747a7bb2",
     "regions": {
      "84e01f1d-d0e2-4019-b5c6-344af1237216": {
       "attrs": {
        "height": 0.8,
        "width": 0.8,
        "x": 0.1,
        "y": 0.1
       },
       "content": {
        "cell": "dfa808c2-291b-4339-a67e-5c91685ac828",
        "part": "whole"
       },
       "id": "84e01f1d-d0e2-4019-b5c6-344af1237216"
      }
     }
    },
    "a717a20c-7d2f-4aa4-8802-91112bd49f5a": {
     "id": "a717a20c-7d2f-4aa4-8802-91112bd49f5a",
     "prev": "845d6736-9fa8-457b-bdf5-dd4d1e651e28",
     "regions": {
      "c20efcbb-1855-40cb-94ea-1630ed29363a": {
       "attrs": {
        "height": 0.8,
        "width": 0.8,
        "x": 0.1,
        "y": 0.1
       },
       "content": {
        "cell": "082165ed-e1a2-484a-9477-f19bc7fcc478",
        "part": "whole"
       },
       "id": "c20efcbb-1855-40cb-94ea-1630ed29363a"
      }
     }
    },
    "a798a46b-083e-480d-873f-82bcd1d90fad": {
     "id": "a798a46b-083e-480d-873f-82bcd1d90fad",
     "prev": "8b7e2b25-60cb-48ce-9694-3cfb15d42c6e",
     "regions": {
      "83a4c0b3-b4f1-4aea-b88e-1e5b0563cc54": {
       "attrs": {
        "height": 0.8,
        "width": 0.8,
        "x": 0.1,
        "y": 0.1
       },
       "content": {
        "cell": "ca872076-f66d-465d-9570-1df8458ac4f0",
        "part": "whole"
       },
       "id": "83a4c0b3-b4f1-4aea-b88e-1e5b0563cc54"
      }
     }
    },
    "a9d8d44d-fa22-49f3-acde-201fa6676260": {
     "id": "a9d8d44d-fa22-49f3-acde-201fa6676260",
     "prev": "60e86473-8e3e-4d56-9d18-e4bfbe9e3b83",
     "regions": {
      "8d6b3e3c-f25b-4d09-9a2a-ee80ae8e3624": {
       "attrs": {
        "height": 0.8,
        "width": 0.8,
        "x": 0.1,
        "y": 0.1
       },
       "content": {
        "cell": "d26d6714-cef7-4d41-a351-91c541107406",
        "part": "whole"
       },
       "id": "8d6b3e3c-f25b-4d09-9a2a-ee80ae8e3624"
      }
     }
    },
    "b88e913f-e7f8-4908-938c-d9655f1e22d9": {
     "id": "b88e913f-e7f8-4908-938c-d9655f1e22d9",
     "prev": "1f3d535d-4085-456d-b1a2-e591c79d643b",
     "regions": {
      "4faf83e8-e428-443a-9eef-a70c8c10a040": {
       "attrs": {
        "height": 0.8,
        "width": 0.8,
        "x": 0.1,
        "y": 0.1
       },
       "content": {
        "cell": "e06185da-78a9-4ad0-a324-34b36fbf20a0",
        "part": "whole"
       },
       "id": "4faf83e8-e428-443a-9eef-a70c8c10a040"
      }
     }
    },
    "b8d16fce-c0f0-4961-9832-b131c07b7416": {
     "id": "b8d16fce-c0f0-4961-9832-b131c07b7416",
     "prev": "d54c2e22-56ae-4c28-8bc2-bc5722fdbcc7",
     "regions": {
      "0c3dcf7a-ca96-43f6-8a75-deb2c8e845b1": {
       "attrs": {
        "height": 0.8,
        "width": 0.8,
        "x": 0.1,
        "y": 0.1
       },
       "content": {
        "cell": "4d14dd87-b8e7-494a-9cff-3caf17ae8fdc",
        "part": "whole"
       },
       "id": "0c3dcf7a-ca96-43f6-8a75-deb2c8e845b1"
      }
     }
    },
    "bc380d13-2995-415b-a50f-6007f88b187c": {
     "id": "bc380d13-2995-415b-a50f-6007f88b187c",
     "prev": null,
     "regions": {}
    },
    "bebb6b7c-bec5-41f7-9389-848bbe795e66": {
     "id": "bebb6b7c-bec5-41f7-9389-848bbe795e66",
     "prev": "ca255684-a6b6-4aa7-82c8-6a2e85dc359b",
     "regions": {
      "f44333f1-1226-4dc3-bd8a-a27355b346fe": {
       "attrs": {
        "height": 0.8,
        "width": 0.8,
        "x": 0.1,
        "y": 0.1
       },
       "content": {
        "cell": "0e30e186-7936-444b-8820-c447b17784e1",
        "part": "whole"
       },
       "id": "f44333f1-1226-4dc3-bd8a-a27355b346fe"
      }
     }
    },
    "c77f22fb-d214-47d3-a0f0-4c1a747a7bb2": {
     "id": "c77f22fb-d214-47d3-a0f0-4c1a747a7bb2",
     "prev": "a798a46b-083e-480d-873f-82bcd1d90fad",
     "regions": {
      "e2a998b2-ac39-42fb-ac26-6a512c734803": {
       "attrs": {
        "height": 0.8,
        "width": 0.8,
        "x": 0.1,
        "y": 0.1
       },
       "content": {
        "cell": "c2b2ba5a-98dc-4fac-9888-2e6b2c19adcc",
        "part": "whole"
       },
       "id": "e2a998b2-ac39-42fb-ac26-6a512c734803"
      }
     }
    },
    "ca255684-a6b6-4aa7-82c8-6a2e85dc359b": {
     "id": "ca255684-a6b6-4aa7-82c8-6a2e85dc359b",
     "prev": "dc2b97d1-4a86-4019-9bef-c21921801f19",
     "regions": {
      "6de1b118-4d7f-4c2d-a9b3-139d700154fd": {
       "attrs": {
        "height": 0.8,
        "width": 0.8,
        "x": 0.1,
        "y": 0.1
       },
       "content": {
        "cell": "8ff86ed0-ffa6-4cf9-8314-f3b419fa06ce",
        "part": "whole"
       },
       "id": "6de1b118-4d7f-4c2d-a9b3-139d700154fd"
      }
     }
    },
    "d142675d-f132-41c6-81b6-bc4bdee76ef5": {
     "id": "d142675d-f132-41c6-81b6-bc4bdee76ef5",
     "prev": "f5e6273f-3e0f-465d-b001-ea084134bac6",
     "regions": {
      "d5306476-a9fd-4f97-a463-787bc42763e1": {
       "attrs": {
        "height": 0.8,
        "width": 0.8,
        "x": 0.1,
        "y": 0.1
       },
       "content": {
        "cell": "9ecaf1c3-2298-4493-b4d2-9dfe0b81122b",
        "part": "whole"
       },
       "id": "d5306476-a9fd-4f97-a463-787bc42763e1"
      }
     }
    },
    "d54c2e22-56ae-4c28-8bc2-bc5722fdbcc7": {
     "id": "d54c2e22-56ae-4c28-8bc2-bc5722fdbcc7",
     "prev": "63ca5375-2a1d-44fd-a2ac-e77e2762c1be",
     "regions": {
      "0de91b44-e9e2-4137-9d0f-46193a77e4e6": {
       "attrs": {
        "height": 0.8,
        "width": 0.8,
        "x": 0.1,
        "y": 0.1
       },
       "content": {
        "cell": "3604bfbe-a46b-46cb-95a2-04223aa94d65",
        "part": "whole"
       },
       "id": "0de91b44-e9e2-4137-9d0f-46193a77e4e6"
      }
     }
    },
    "dc2b97d1-4a86-4019-9bef-c21921801f19": {
     "id": "dc2b97d1-4a86-4019-9bef-c21921801f19",
     "prev": "a717a20c-7d2f-4aa4-8802-91112bd49f5a",
     "regions": {
      "31b5d06a-e42a-4845-994b-dc40c8d113fa": {
       "attrs": {
        "height": 0.8,
        "width": 0.8,
        "x": 0.1,
        "y": 0.1
       },
       "content": {
        "cell": "6dd1e682-6841-4836-a4cd-9786c98d6d8d",
        "part": "whole"
       },
       "id": "31b5d06a-e42a-4845-994b-dc40c8d113fa"
      }
     }
    },
    "f5e6273f-3e0f-465d-b001-ea084134bac6": {
     "id": "f5e6273f-3e0f-465d-b001-ea084134bac6",
     "prev": "6229913b-718b-4e67-a831-330fb6a2a6d3",
     "regions": {
      "55794442-1786-4fd2-bb42-67bcce11897d": {
       "attrs": {
        "height": 0.8,
        "width": 0.8,
        "x": 0.1,
        "y": 0.1
       },
       "content": {
        "cell": "be1b823e-31e5-42e1-8c9e-c11b863afe6d",
        "part": "whole"
       },
       "id": "55794442-1786-4fd2-bb42-67bcce11897d"
      }
     }
    }
   },
   "themes": {}
  }
 },
 "nbformat": 4,
 "nbformat_minor": 1
}
